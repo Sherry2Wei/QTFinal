{
 "cells": [
  {
   "cell_type": "code",
   "execution_count": 188,
   "metadata": {},
   "outputs": [],
   "source": [
    "from dfply import *"
   ]
  },
  {
   "cell_type": "code",
   "execution_count": 146,
   "metadata": {},
   "outputs": [],
   "source": [
    "import pandas as pd"
   ]
  },
  {
   "cell_type": "code",
   "execution_count": 147,
   "metadata": {},
   "outputs": [],
   "source": [
    "import os"
   ]
  },
  {
   "cell_type": "code",
   "execution_count": 148,
   "metadata": {},
   "outputs": [],
   "source": [
    "os.chdir(r'D:\\03lecture\\QT\\codeBackup\\data')"
   ]
  },
  {
   "cell_type": "code",
   "execution_count": 149,
   "metadata": {},
   "outputs": [],
   "source": [
    "msf = pd.read_csv('msf.csv')"
   ]
  },
  {
   "cell_type": "code",
   "execution_count": 150,
   "metadata": {},
   "outputs": [],
   "source": [
    "mse = pd.read_csv('mse.csv')"
   ]
  },
  {
   "cell_type": "code",
   "execution_count": 151,
   "metadata": {},
   "outputs": [],
   "source": [
    "mse.PAYDT = mse.PAYDT.apply(str)"
   ]
  },
  {
   "cell_type": "code",
   "execution_count": 152,
   "metadata": {},
   "outputs": [],
   "source": [
    "mse.PAYDT = pd.to_datetime(mse.PAYDT,format = '%Y%m%d')"
   ]
  },
  {
   "cell_type": "code",
   "execution_count": 153,
   "metadata": {},
   "outputs": [],
   "source": [
    "mse['Paymonth'] = mse.PAYDT.apply(lambda x:x.month)"
   ]
  },
  {
   "cell_type": "code",
   "execution_count": 154,
   "metadata": {},
   "outputs": [],
   "source": [
    "mse['PayYear'] = mse.PAYDT.apply(lambda x:x.year)"
   ]
  },
  {
   "cell_type": "code",
   "execution_count": 155,
   "metadata": {},
   "outputs": [
    {
     "name": "stderr",
     "output_type": "stream",
     "text": [
      "C:\\Users\\sherrywei\\Anaconda3\\lib\\site-packages\\ipykernel_launcher.py:2: SettingWithCopyWarning: \n",
      "A value is trying to be set on a copy of a slice from a DataFrame.\n",
      "Try using .loc[row_indexer,col_indexer] = value instead\n",
      "\n",
      "See the caveats in the documentation: http://pandas.pydata.org/pandas-docs/stable/indexing.html#indexing-view-versus-copy\n",
      "  \n"
     ]
    }
   ],
   "source": [
    "div = mse.dropna(subset = ['DISTCD'])\n",
    "div['DISTCD'] = div['DISTCD'].astype(str)\n",
    "div.insert(loc = 2,column = 'freq',value = div['DISTCD'].apply(lambda x:x[:3]))\n",
    "## filter out the stocks that pay dividends"
   ]
  },
  {
   "cell_type": "code",
   "execution_count": 156,
   "metadata": {},
   "outputs": [
    {
     "data": {
      "text/plain": [
       "833285"
      ]
     },
     "execution_count": 156,
     "metadata": {},
     "output_type": "execute_result"
    }
   ],
   "source": [
    "len(div)"
   ]
  },
  {
   "cell_type": "code",
   "execution_count": 157,
   "metadata": {},
   "outputs": [],
   "source": [
    "divPayCom = div[div['freq'].isin(['123','124','125'])]"
   ]
  },
  {
   "cell_type": "code",
   "execution_count": 158,
   "metadata": {},
   "outputs": [
    {
     "data": {
      "text/plain": [
       "(559508, 9)"
      ]
     },
     "execution_count": 158,
     "metadata": {},
     "output_type": "execute_result"
    }
   ],
   "source": [
    "divPayCom.shape"
   ]
  },
  {
   "cell_type": "code",
   "execution_count": 159,
   "metadata": {},
   "outputs": [],
   "source": [
    "##如果是季度支付股息，那么三个月前支付过股息，这个月就会支付股息。"
   ]
  },
  {
   "cell_type": "code",
   "execution_count": 160,
   "metadata": {},
   "outputs": [],
   "source": [
    "## portfolio 2 long companies in the month of their predicted dividend month, and short \n",
    "##same companies in other months"
   ]
  },
  {
   "cell_type": "code",
   "execution_count": 161,
   "metadata": {},
   "outputs": [
    {
     "data": {
      "text/plain": [
       "Index(['PERMNO', 'DISTCD', 'freq', 'DIVAMT', 'DCLRDT', 'EXDT', 'PAYDT',\n",
       "       'Paymonth', 'PayYear'],\n",
       "      dtype='object')"
      ]
     },
     "execution_count": 161,
     "metadata": {},
     "output_type": "execute_result"
    }
   ],
   "source": [
    "divPayCom.columns"
   ]
  },
  {
   "cell_type": "code",
   "execution_count": 162,
   "metadata": {},
   "outputs": [],
   "source": [
    "divComList = list(set(divPayCom['PERMNO']))"
   ]
  },
  {
   "cell_type": "code",
   "execution_count": 163,
   "metadata": {},
   "outputs": [],
   "source": [
    "msf.date = pd.to_datetime(msf.date,format = '%Y%m%d')"
   ]
  },
  {
   "cell_type": "code",
   "execution_count": 164,
   "metadata": {},
   "outputs": [],
   "source": [
    "msf.sort_values(by = ['PERMNO','date'],inplace = True)"
   ]
  },
  {
   "cell_type": "code",
   "execution_count": 165,
   "metadata": {},
   "outputs": [],
   "source": [
    "msf['prc_lag1'] = msf.groupby(['PERMNO'])['PRC'].shift(1)"
   ]
  },
  {
   "cell_type": "code",
   "execution_count": 166,
   "metadata": {},
   "outputs": [],
   "source": [
    "msf = msf.query('RET != \"B\"&RET != \"C\"')"
   ]
  },
  {
   "cell_type": "code",
   "execution_count": 167,
   "metadata": {},
   "outputs": [],
   "source": [
    "msf_divCom = msf.query('PERMNO in(@divComList)')"
   ]
  },
  {
   "cell_type": "code",
   "execution_count": 168,
   "metadata": {},
   "outputs": [
    {
     "data": {
      "text/plain": [
       "PERMNO               int64\n",
       "date        datetime64[ns]\n",
       "SHRCD              float64\n",
       "HEXCD                int64\n",
       "BIDLO              float64\n",
       "ASKHI              float64\n",
       "PRC                float64\n",
       "VOL                float64\n",
       "RET                 object\n",
       "BID                float64\n",
       "ASK                float64\n",
       "SHROUT             float64\n",
       "SPREAD             float64\n",
       "RETX                object\n",
       "prc_lag1           float64\n",
       "dtype: object"
      ]
     },
     "execution_count": 168,
     "metadata": {},
     "output_type": "execute_result"
    }
   ],
   "source": [
    "msf_divCom.dtypes"
   ]
  },
  {
   "cell_type": "code",
   "execution_count": 169,
   "metadata": {
    "scrolled": true
   },
   "outputs": [
    {
     "name": "stderr",
     "output_type": "stream",
     "text": [
      "C:\\Users\\sherrywei\\Anaconda3\\lib\\site-packages\\pandas\\core\\generic.py:4405: SettingWithCopyWarning: \n",
      "A value is trying to be set on a copy of a slice from a DataFrame.\n",
      "Try using .loc[row_indexer,col_indexer] = value instead\n",
      "\n",
      "See the caveats in the documentation: http://pandas.pydata.org/pandas-docs/stable/indexing.html#indexing-view-versus-copy\n",
      "  self[name] = value\n"
     ]
    }
   ],
   "source": [
    "msf_divCom.date = pd.to_datetime(msf_divCom.date,format = '%Y%m%d')"
   ]
  },
  {
   "cell_type": "code",
   "execution_count": 170,
   "metadata": {},
   "outputs": [],
   "source": [
    "def end_of_month(any_day):\n",
    "    next_month = any_day.replace(day=28) + datetime.timedelta(days=4)  # this will never fail\n",
    "    return next_month - datetime.timedelta(days=next_month.day)"
   ]
  },
  {
   "cell_type": "code",
   "execution_count": 171,
   "metadata": {},
   "outputs": [],
   "source": [
    "import datetime"
   ]
  },
  {
   "cell_type": "code",
   "execution_count": 172,
   "metadata": {},
   "outputs": [
    {
     "name": "stderr",
     "output_type": "stream",
     "text": [
      "C:\\Users\\sherrywei\\Anaconda3\\lib\\site-packages\\ipykernel_launcher.py:1: SettingWithCopyWarning: \n",
      "A value is trying to be set on a copy of a slice from a DataFrame.\n",
      "Try using .loc[row_indexer,col_indexer] = value instead\n",
      "\n",
      "See the caveats in the documentation: http://pandas.pydata.org/pandas-docs/stable/indexing.html#indexing-view-versus-copy\n",
      "  \"\"\"Entry point for launching an IPython kernel.\n"
     ]
    }
   ],
   "source": [
    "msf_divCom['end_of_month'] = msf_divCom['date'].apply(end_of_month)"
   ]
  },
  {
   "cell_type": "code",
   "execution_count": 173,
   "metadata": {},
   "outputs": [
    {
     "name": "stderr",
     "output_type": "stream",
     "text": [
      "C:\\Users\\sherrywei\\Anaconda3\\lib\\site-packages\\ipykernel_launcher.py:1: SettingWithCopyWarning: \n",
      "A value is trying to be set on a copy of a slice from a DataFrame\n",
      "\n",
      "See the caveats in the documentation: http://pandas.pydata.org/pandas-docs/stable/indexing.html#indexing-view-versus-copy\n",
      "  \"\"\"Entry point for launching an IPython kernel.\n"
     ]
    }
   ],
   "source": [
    "divPayCom.dropna(subset = ['PAYDT'],inplace = True)"
   ]
  },
  {
   "cell_type": "code",
   "execution_count": 174,
   "metadata": {},
   "outputs": [
    {
     "name": "stderr",
     "output_type": "stream",
     "text": [
      "C:\\Users\\sherrywei\\Anaconda3\\lib\\site-packages\\ipykernel_launcher.py:1: SettingWithCopyWarning: \n",
      "A value is trying to be set on a copy of a slice from a DataFrame.\n",
      "Try using .loc[row_indexer,col_indexer] = value instead\n",
      "\n",
      "See the caveats in the documentation: http://pandas.pydata.org/pandas-docs/stable/indexing.html#indexing-view-versus-copy\n",
      "  \"\"\"Entry point for launching an IPython kernel.\n"
     ]
    }
   ],
   "source": [
    "divPayCom['end_of_month'] = divPayCom.PAYDT.apply(end_of_month)"
   ]
  },
  {
   "cell_type": "code",
   "execution_count": 175,
   "metadata": {},
   "outputs": [
    {
     "data": {
      "text/plain": [
       "Index(['PERMNO', 'DISTCD', 'freq', 'DIVAMT', 'DCLRDT', 'EXDT', 'PAYDT',\n",
       "       'Paymonth', 'PayYear', 'end_of_month'],\n",
       "      dtype='object')"
      ]
     },
     "execution_count": 175,
     "metadata": {},
     "output_type": "execute_result"
    }
   ],
   "source": [
    "divPayCom.columns "
   ]
  },
  {
   "cell_type": "code",
   "execution_count": 176,
   "metadata": {},
   "outputs": [
    {
     "data": {
      "text/plain": [
       "Index(['PERMNO', 'DISTCD', 'DIVAMT', 'DCLRDT', 'EXDT', 'PAYDT', 'Paymonth',\n",
       "       'PayYear'],\n",
       "      dtype='object')"
      ]
     },
     "execution_count": 176,
     "metadata": {},
     "output_type": "execute_result"
    }
   ],
   "source": [
    "mse.columns"
   ]
  },
  {
   "cell_type": "code",
   "execution_count": 339,
   "metadata": {},
   "outputs": [],
   "source": [
    "divComInfo = pd.merge(msf_divCom,divPayCom[['PERMNO','DISTCD','DIVAMT','freq','PAYDT','Paymonth','PayYear','end_of_month']],\n",
    "                     on = ['PERMNO','end_of_month'],\n",
    "                     how = 'outer')"
   ]
  },
  {
   "cell_type": "code",
   "execution_count": 340,
   "metadata": {
    "scrolled": true
   },
   "outputs": [],
   "source": [
    "divComInfo.dropna(subset = ['SHRCD'],inplace = True)\n"
   ]
  },
  {
   "cell_type": "code",
   "execution_count": 341,
   "metadata": {},
   "outputs": [],
   "source": [
    "divComInfo =divComInfo >> arrange(X.PERMNO, X.end_of_month)"
   ]
  },
  {
   "cell_type": "code",
   "execution_count": 342,
   "metadata": {},
   "outputs": [],
   "source": [
    "divComInfo['freq'].fillna(method = 'ffill',inplace = True)"
   ]
  },
  {
   "cell_type": "code",
   "execution_count": 343,
   "metadata": {},
   "outputs": [],
   "source": [
    "divComInfo.insert(loc = 2,column= 'month',value = divComInfo.date.apply(lambda x:x.month))"
   ]
  },
  {
   "cell_type": "code",
   "execution_count": 344,
   "metadata": {},
   "outputs": [],
   "source": [
    "divComInfo['freq_lag1'] = divComInfo.groupby(['PERMNO','month'])['freq'].shift(1)"
   ]
  },
  {
   "cell_type": "code",
   "execution_count": 345,
   "metadata": {},
   "outputs": [],
   "source": [
    "divComInfo['mcap'] = divComInfo['PRC']*divComInfo['SHROUT']"
   ]
  },
  {
   "cell_type": "code",
   "execution_count": 346,
   "metadata": {},
   "outputs": [],
   "source": [
    "divComInfo.sort_values(by = ['PERMNO','date'],inplace = True)"
   ]
  },
  {
   "cell_type": "code",
   "execution_count": 347,
   "metadata": {},
   "outputs": [],
   "source": [
    "divComInfo['mcap_lag1'] = divComInfo.groupby(['PERMNO'])['mcap'].shift(1)"
   ]
  },
  {
   "cell_type": "code",
   "execution_count": 348,
   "metadata": {},
   "outputs": [],
   "source": [
    "divComInfo = divComInfo >> arrange(X.PERMNO, X.end_of_month)"
   ]
  },
  {
   "cell_type": "code",
   "execution_count": 349,
   "metadata": {},
   "outputs": [],
   "source": [
    "divComInfo['DIV_lag3'] = divComInfo.groupby('PERMNO')['DIVAMT'].shift(2)\n",
    "\n",
    "divComInfo['DIV_lag6'] = divComInfo.groupby('PERMNO')['DIVAMT'].shift(5)\n",
    "\n",
    "divComInfo['DIV_lag12'] = divComInfo.groupby('PERMNO')['DIVAMT'].shift(11)"
   ]
  },
  {
   "cell_type": "code",
   "execution_count": 350,
   "metadata": {},
   "outputs": [],
   "source": [
    "## filter stocks\n",
    "   #price larger than 5\n",
    "   #HEXCD 123\n",
    "   #SHRCD 10，11"
   ]
  },
  {
   "cell_type": "code",
   "execution_count": 351,
   "metadata": {},
   "outputs": [],
   "source": [
    "divComInfo = divComInfo.query('prc_lag1 >= 5&HEXCD in([1,2,3]) & SHRCD in([10,11])&RET != \"B\"&RET != \"C\"')"
   ]
  },
  {
   "cell_type": "code",
   "execution_count": 352,
   "metadata": {},
   "outputs": [],
   "source": [
    "for col in ['BIDLO','ASKHI','SPREAD','BID','ASK','VOL']:\n",
    "    try:\n",
    "        divComInfo.pop(col)\n",
    "    except:\n",
    "        continue"
   ]
  },
  {
   "cell_type": "code",
   "execution_count": 353,
   "metadata": {},
   "outputs": [],
   "source": [
    "import numpy as np"
   ]
  },
  {
   "cell_type": "code",
   "execution_count": 354,
   "metadata": {},
   "outputs": [],
   "source": [
    "divComInfo.freq_lag1 = divComInfo.freq_lag1.astype('float')"
   ]
  },
  {
   "cell_type": "code",
   "execution_count": 355,
   "metadata": {},
   "outputs": [],
   "source": [
    "divComInfo = divComInfo >> arrange(X.end_of_month)"
   ]
  },
  {
   "cell_type": "code",
   "execution_count": 356,
   "metadata": {},
   "outputs": [],
   "source": [
    "divComInfo = divComInfo.query('end_of_month <= \"2011-12-31\" ')"
   ]
  },
  {
   "cell_type": "code",
   "execution_count": 357,
   "metadata": {},
   "outputs": [],
   "source": [
    "long = divComInfo.query('(freq == \"123\" & DIV_lag3 == DIV_lag3) |'\n",
    "                        '(freq == \"124\" & DIV_lag6 == DIV_lag6) |'\n",
    "                        '(freq == \"125\" & DIV_lag12 == DIV_lag12)')"
   ]
  },
  {
   "cell_type": "code",
   "execution_count": 358,
   "metadata": {},
   "outputs": [
    {
     "data": {
      "text/html": [
       "<div>\n",
       "<style scoped>\n",
       "    .dataframe tbody tr th:only-of-type {\n",
       "        vertical-align: middle;\n",
       "    }\n",
       "\n",
       "    .dataframe tbody tr th {\n",
       "        vertical-align: top;\n",
       "    }\n",
       "\n",
       "    .dataframe thead th {\n",
       "        text-align: right;\n",
       "    }\n",
       "</style>\n",
       "<table border=\"1\" class=\"dataframe\">\n",
       "  <thead>\n",
       "    <tr style=\"text-align: right;\">\n",
       "      <th></th>\n",
       "      <th>PERMNO</th>\n",
       "      <th>end_of_month</th>\n",
       "      <th>DIVAMT</th>\n",
       "      <th>DIV_lag3</th>\n",
       "    </tr>\n",
       "  </thead>\n",
       "  <tbody>\n",
       "    <tr>\n",
       "      <th>90660</th>\n",
       "      <td>10989</td>\n",
       "      <td>1927-03-31</td>\n",
       "      <td>NaN</td>\n",
       "      <td>0.5000</td>\n",
       "    </tr>\n",
       "    <tr>\n",
       "      <th>403882</th>\n",
       "      <td>15624</td>\n",
       "      <td>1927-03-31</td>\n",
       "      <td>NaN</td>\n",
       "      <td>0.5000</td>\n",
       "    </tr>\n",
       "    <tr>\n",
       "      <th>100093</th>\n",
       "      <td>11092</td>\n",
       "      <td>1927-03-31</td>\n",
       "      <td>NaN</td>\n",
       "      <td>0.2887</td>\n",
       "    </tr>\n",
       "    <tr>\n",
       "      <th>187020</th>\n",
       "      <td>12108</td>\n",
       "      <td>1927-03-31</td>\n",
       "      <td>NaN</td>\n",
       "      <td>0.5000</td>\n",
       "    </tr>\n",
       "    <tr>\n",
       "      <th>359958</th>\n",
       "      <td>14867</td>\n",
       "      <td>1927-03-31</td>\n",
       "      <td>NaN</td>\n",
       "      <td>0.8750</td>\n",
       "    </tr>\n",
       "    <tr>\n",
       "      <th>137868</th>\n",
       "      <td>11543</td>\n",
       "      <td>1927-03-31</td>\n",
       "      <td>NaN</td>\n",
       "      <td>1.0000</td>\n",
       "    </tr>\n",
       "    <tr>\n",
       "      <th>305402</th>\n",
       "      <td>13987</td>\n",
       "      <td>1927-03-31</td>\n",
       "      <td>NaN</td>\n",
       "      <td>1.5000</td>\n",
       "    </tr>\n",
       "    <tr>\n",
       "      <th>291146</th>\n",
       "      <td>13741</td>\n",
       "      <td>1927-03-31</td>\n",
       "      <td>NaN</td>\n",
       "      <td>0.5000</td>\n",
       "    </tr>\n",
       "    <tr>\n",
       "      <th>106059</th>\n",
       "      <td>11164</td>\n",
       "      <td>1927-03-31</td>\n",
       "      <td>NaN</td>\n",
       "      <td>1.5000</td>\n",
       "    </tr>\n",
       "    <tr>\n",
       "      <th>136592</th>\n",
       "      <td>11527</td>\n",
       "      <td>1927-03-31</td>\n",
       "      <td>NaN</td>\n",
       "      <td>1.5000</td>\n",
       "    </tr>\n",
       "    <tr>\n",
       "      <th>46655</th>\n",
       "      <td>10487</td>\n",
       "      <td>1927-03-31</td>\n",
       "      <td>NaN</td>\n",
       "      <td>0.7500</td>\n",
       "    </tr>\n",
       "    <tr>\n",
       "      <th>295340</th>\n",
       "      <td>13821</td>\n",
       "      <td>1927-03-31</td>\n",
       "      <td>NaN</td>\n",
       "      <td>2.0000</td>\n",
       "    </tr>\n",
       "    <tr>\n",
       "      <th>75376</th>\n",
       "      <td>10807</td>\n",
       "      <td>1927-03-31</td>\n",
       "      <td>NaN</td>\n",
       "      <td>0.7500</td>\n",
       "    </tr>\n",
       "    <tr>\n",
       "      <th>161345</th>\n",
       "      <td>11842</td>\n",
       "      <td>1927-03-31</td>\n",
       "      <td>NaN</td>\n",
       "      <td>0.3750</td>\n",
       "    </tr>\n",
       "    <tr>\n",
       "      <th>47997</th>\n",
       "      <td>10495</td>\n",
       "      <td>1927-03-31</td>\n",
       "      <td>NaN</td>\n",
       "      <td>0.5595</td>\n",
       "    </tr>\n",
       "    <tr>\n",
       "      <th>874935</th>\n",
       "      <td>25486</td>\n",
       "      <td>1927-03-31</td>\n",
       "      <td>NaN</td>\n",
       "      <td>0.5000</td>\n",
       "    </tr>\n",
       "    <tr>\n",
       "      <th>27957</th>\n",
       "      <td>10268</td>\n",
       "      <td>1927-03-31</td>\n",
       "      <td>NaN</td>\n",
       "      <td>2.0000</td>\n",
       "    </tr>\n",
       "    <tr>\n",
       "      <th>398208</th>\n",
       "      <td>15552</td>\n",
       "      <td>1927-03-31</td>\n",
       "      <td>NaN</td>\n",
       "      <td>0.5000</td>\n",
       "    </tr>\n",
       "    <tr>\n",
       "      <th>146992</th>\n",
       "      <td>11666</td>\n",
       "      <td>1927-03-31</td>\n",
       "      <td>NaN</td>\n",
       "      <td>1.5000</td>\n",
       "    </tr>\n",
       "    <tr>\n",
       "      <th>258576</th>\n",
       "      <td>13151</td>\n",
       "      <td>1927-03-31</td>\n",
       "      <td>NaN</td>\n",
       "      <td>0.3513</td>\n",
       "    </tr>\n",
       "    <tr>\n",
       "      <th>130078</th>\n",
       "      <td>11463</td>\n",
       "      <td>1927-03-31</td>\n",
       "      <td>NaN</td>\n",
       "      <td>0.2000</td>\n",
       "    </tr>\n",
       "    <tr>\n",
       "      <th>293770</th>\n",
       "      <td>13792</td>\n",
       "      <td>1927-04-30</td>\n",
       "      <td>NaN</td>\n",
       "      <td>0.8750</td>\n",
       "    </tr>\n",
       "    <tr>\n",
       "      <th>341997</th>\n",
       "      <td>14605</td>\n",
       "      <td>1927-04-30</td>\n",
       "      <td>NaN</td>\n",
       "      <td>1.5000</td>\n",
       "    </tr>\n",
       "    <tr>\n",
       "      <th>340521</th>\n",
       "      <td>14592</td>\n",
       "      <td>1927-04-30</td>\n",
       "      <td>NaN</td>\n",
       "      <td>1.2500</td>\n",
       "    </tr>\n",
       "    <tr>\n",
       "      <th>293378</th>\n",
       "      <td>13784</td>\n",
       "      <td>1927-04-30</td>\n",
       "      <td>NaN</td>\n",
       "      <td>0.7500</td>\n",
       "    </tr>\n",
       "    <tr>\n",
       "      <th>415786</th>\n",
       "      <td>15827</td>\n",
       "      <td>1927-04-30</td>\n",
       "      <td>NaN</td>\n",
       "      <td>0.9000</td>\n",
       "    </tr>\n",
       "    <tr>\n",
       "      <th>271765</th>\n",
       "      <td>13389</td>\n",
       "      <td>1927-04-30</td>\n",
       "      <td>NaN</td>\n",
       "      <td>1.0000</td>\n",
       "    </tr>\n",
       "    <tr>\n",
       "      <th>403063</th>\n",
       "      <td>15595</td>\n",
       "      <td>1927-04-30</td>\n",
       "      <td>NaN</td>\n",
       "      <td>0.8750</td>\n",
       "    </tr>\n",
       "    <tr>\n",
       "      <th>285424</th>\n",
       "      <td>13653</td>\n",
       "      <td>1927-04-30</td>\n",
       "      <td>NaN</td>\n",
       "      <td>0.7500</td>\n",
       "    </tr>\n",
       "    <tr>\n",
       "      <th>155768</th>\n",
       "      <td>11762</td>\n",
       "      <td>1927-04-30</td>\n",
       "      <td>NaN</td>\n",
       "      <td>0.5000</td>\n",
       "    </tr>\n",
       "    <tr>\n",
       "      <th>...</th>\n",
       "      <td>...</td>\n",
       "      <td>...</td>\n",
       "      <td>...</td>\n",
       "      <td>...</td>\n",
       "    </tr>\n",
       "    <tr>\n",
       "      <th>1426958</th>\n",
       "      <td>48653</td>\n",
       "      <td>2011-12-31</td>\n",
       "      <td>NaN</td>\n",
       "      <td>0.2500</td>\n",
       "    </tr>\n",
       "    <tr>\n",
       "      <th>2643521</th>\n",
       "      <td>92090</td>\n",
       "      <td>2011-12-31</td>\n",
       "      <td>NaN</td>\n",
       "      <td>0.2600</td>\n",
       "    </tr>\n",
       "    <tr>\n",
       "      <th>2680794</th>\n",
       "      <td>92890</td>\n",
       "      <td>2011-12-31</td>\n",
       "      <td>NaN</td>\n",
       "      <td>0.2600</td>\n",
       "    </tr>\n",
       "    <tr>\n",
       "      <th>1965352</th>\n",
       "      <td>75489</td>\n",
       "      <td>2011-12-31</td>\n",
       "      <td>NaN</td>\n",
       "      <td>0.1000</td>\n",
       "    </tr>\n",
       "    <tr>\n",
       "      <th>2313634</th>\n",
       "      <td>84262</td>\n",
       "      <td>2011-12-31</td>\n",
       "      <td>NaN</td>\n",
       "      <td>0.1000</td>\n",
       "    </tr>\n",
       "    <tr>\n",
       "      <th>2585226</th>\n",
       "      <td>91063</td>\n",
       "      <td>2011-12-31</td>\n",
       "      <td>NaN</td>\n",
       "      <td>0.2500</td>\n",
       "    </tr>\n",
       "    <tr>\n",
       "      <th>2085200</th>\n",
       "      <td>78034</td>\n",
       "      <td>2011-12-31</td>\n",
       "      <td>NaN</td>\n",
       "      <td>0.1200</td>\n",
       "    </tr>\n",
       "    <tr>\n",
       "      <th>705057</th>\n",
       "      <td>21726</td>\n",
       "      <td>2011-12-31</td>\n",
       "      <td>NaN</td>\n",
       "      <td>0.2500</td>\n",
       "    </tr>\n",
       "    <tr>\n",
       "      <th>2356778</th>\n",
       "      <td>85627</td>\n",
       "      <td>2011-12-31</td>\n",
       "      <td>NaN</td>\n",
       "      <td>0.0250</td>\n",
       "    </tr>\n",
       "    <tr>\n",
       "      <th>1272761</th>\n",
       "      <td>42550</td>\n",
       "      <td>2011-12-31</td>\n",
       "      <td>NaN</td>\n",
       "      <td>0.6000</td>\n",
       "    </tr>\n",
       "    <tr>\n",
       "      <th>2152057</th>\n",
       "      <td>79776</td>\n",
       "      <td>2011-12-31</td>\n",
       "      <td>0.240</td>\n",
       "      <td>0.2350</td>\n",
       "    </tr>\n",
       "    <tr>\n",
       "      <th>222338</th>\n",
       "      <td>12570</td>\n",
       "      <td>2011-12-31</td>\n",
       "      <td>0.091</td>\n",
       "      <td>0.2500</td>\n",
       "    </tr>\n",
       "    <tr>\n",
       "      <th>316128</th>\n",
       "      <td>14198</td>\n",
       "      <td>2011-12-31</td>\n",
       "      <td>0.100</td>\n",
       "      <td>0.1000</td>\n",
       "    </tr>\n",
       "    <tr>\n",
       "      <th>2334851</th>\n",
       "      <td>85072</td>\n",
       "      <td>2011-12-31</td>\n",
       "      <td>NaN</td>\n",
       "      <td>0.2000</td>\n",
       "    </tr>\n",
       "    <tr>\n",
       "      <th>50541</th>\n",
       "      <td>10517</td>\n",
       "      <td>2011-12-31</td>\n",
       "      <td>NaN</td>\n",
       "      <td>0.0130</td>\n",
       "    </tr>\n",
       "    <tr>\n",
       "      <th>2475953</th>\n",
       "      <td>89022</td>\n",
       "      <td>2011-12-31</td>\n",
       "      <td>NaN</td>\n",
       "      <td>0.1000</td>\n",
       "    </tr>\n",
       "    <tr>\n",
       "      <th>2343008</th>\n",
       "      <td>85319</td>\n",
       "      <td>2011-12-31</td>\n",
       "      <td>NaN</td>\n",
       "      <td>0.0600</td>\n",
       "    </tr>\n",
       "    <tr>\n",
       "      <th>1513123</th>\n",
       "      <td>52396</td>\n",
       "      <td>2011-12-31</td>\n",
       "      <td>NaN</td>\n",
       "      <td>0.1600</td>\n",
       "    </tr>\n",
       "    <tr>\n",
       "      <th>2482061</th>\n",
       "      <td>89155</td>\n",
       "      <td>2011-12-31</td>\n",
       "      <td>NaN</td>\n",
       "      <td>0.2800</td>\n",
       "    </tr>\n",
       "    <tr>\n",
       "      <th>33887</th>\n",
       "      <td>10318</td>\n",
       "      <td>2011-12-31</td>\n",
       "      <td>NaN</td>\n",
       "      <td>NaN</td>\n",
       "    </tr>\n",
       "    <tr>\n",
       "      <th>361077</th>\n",
       "      <td>14868</td>\n",
       "      <td>2011-12-31</td>\n",
       "      <td>NaN</td>\n",
       "      <td>0.2500</td>\n",
       "    </tr>\n",
       "    <tr>\n",
       "      <th>785825</th>\n",
       "      <td>23473</td>\n",
       "      <td>2011-12-31</td>\n",
       "      <td>NaN</td>\n",
       "      <td>0.4025</td>\n",
       "    </tr>\n",
       "    <tr>\n",
       "      <th>2499101</th>\n",
       "      <td>89443</td>\n",
       "      <td>2011-12-31</td>\n",
       "      <td>NaN</td>\n",
       "      <td>0.3500</td>\n",
       "    </tr>\n",
       "    <tr>\n",
       "      <th>1574000</th>\n",
       "      <td>55001</td>\n",
       "      <td>2011-12-31</td>\n",
       "      <td>NaN</td>\n",
       "      <td>0.0900</td>\n",
       "    </tr>\n",
       "    <tr>\n",
       "      <th>2652969</th>\n",
       "      <td>92318</td>\n",
       "      <td>2011-12-31</td>\n",
       "      <td>NaN</td>\n",
       "      <td>0.0800</td>\n",
       "    </tr>\n",
       "    <tr>\n",
       "      <th>2300451</th>\n",
       "      <td>83939</td>\n",
       "      <td>2011-12-31</td>\n",
       "      <td>NaN</td>\n",
       "      <td>0.0700</td>\n",
       "    </tr>\n",
       "    <tr>\n",
       "      <th>27471</th>\n",
       "      <td>10252</td>\n",
       "      <td>2011-12-31</td>\n",
       "      <td>NaN</td>\n",
       "      <td>0.1900</td>\n",
       "    </tr>\n",
       "    <tr>\n",
       "      <th>2203947</th>\n",
       "      <td>80816</td>\n",
       "      <td>2011-12-31</td>\n",
       "      <td>NaN</td>\n",
       "      <td>0.0100</td>\n",
       "    </tr>\n",
       "    <tr>\n",
       "      <th>2051528</th>\n",
       "      <td>77379</td>\n",
       "      <td>2011-12-31</td>\n",
       "      <td>NaN</td>\n",
       "      <td>NaN</td>\n",
       "    </tr>\n",
       "    <tr>\n",
       "      <th>116958</th>\n",
       "      <td>11308</td>\n",
       "      <td>2011-12-31</td>\n",
       "      <td>0.470</td>\n",
       "      <td>0.4700</td>\n",
       "    </tr>\n",
       "  </tbody>\n",
       "</table>\n",
       "<p>345102 rows × 4 columns</p>\n",
       "</div>"
      ],
      "text/plain": [
       "         PERMNO end_of_month  DIVAMT  DIV_lag3\n",
       "90660     10989   1927-03-31     NaN    0.5000\n",
       "403882    15624   1927-03-31     NaN    0.5000\n",
       "100093    11092   1927-03-31     NaN    0.2887\n",
       "187020    12108   1927-03-31     NaN    0.5000\n",
       "359958    14867   1927-03-31     NaN    0.8750\n",
       "137868    11543   1927-03-31     NaN    1.0000\n",
       "305402    13987   1927-03-31     NaN    1.5000\n",
       "291146    13741   1927-03-31     NaN    0.5000\n",
       "106059    11164   1927-03-31     NaN    1.5000\n",
       "136592    11527   1927-03-31     NaN    1.5000\n",
       "46655     10487   1927-03-31     NaN    0.7500\n",
       "295340    13821   1927-03-31     NaN    2.0000\n",
       "75376     10807   1927-03-31     NaN    0.7500\n",
       "161345    11842   1927-03-31     NaN    0.3750\n",
       "47997     10495   1927-03-31     NaN    0.5595\n",
       "874935    25486   1927-03-31     NaN    0.5000\n",
       "27957     10268   1927-03-31     NaN    2.0000\n",
       "398208    15552   1927-03-31     NaN    0.5000\n",
       "146992    11666   1927-03-31     NaN    1.5000\n",
       "258576    13151   1927-03-31     NaN    0.3513\n",
       "130078    11463   1927-03-31     NaN    0.2000\n",
       "293770    13792   1927-04-30     NaN    0.8750\n",
       "341997    14605   1927-04-30     NaN    1.5000\n",
       "340521    14592   1927-04-30     NaN    1.2500\n",
       "293378    13784   1927-04-30     NaN    0.7500\n",
       "415786    15827   1927-04-30     NaN    0.9000\n",
       "271765    13389   1927-04-30     NaN    1.0000\n",
       "403063    15595   1927-04-30     NaN    0.8750\n",
       "285424    13653   1927-04-30     NaN    0.7500\n",
       "155768    11762   1927-04-30     NaN    0.5000\n",
       "...         ...          ...     ...       ...\n",
       "1426958   48653   2011-12-31     NaN    0.2500\n",
       "2643521   92090   2011-12-31     NaN    0.2600\n",
       "2680794   92890   2011-12-31     NaN    0.2600\n",
       "1965352   75489   2011-12-31     NaN    0.1000\n",
       "2313634   84262   2011-12-31     NaN    0.1000\n",
       "2585226   91063   2011-12-31     NaN    0.2500\n",
       "2085200   78034   2011-12-31     NaN    0.1200\n",
       "705057    21726   2011-12-31     NaN    0.2500\n",
       "2356778   85627   2011-12-31     NaN    0.0250\n",
       "1272761   42550   2011-12-31     NaN    0.6000\n",
       "2152057   79776   2011-12-31   0.240    0.2350\n",
       "222338    12570   2011-12-31   0.091    0.2500\n",
       "316128    14198   2011-12-31   0.100    0.1000\n",
       "2334851   85072   2011-12-31     NaN    0.2000\n",
       "50541     10517   2011-12-31     NaN    0.0130\n",
       "2475953   89022   2011-12-31     NaN    0.1000\n",
       "2343008   85319   2011-12-31     NaN    0.0600\n",
       "1513123   52396   2011-12-31     NaN    0.1600\n",
       "2482061   89155   2011-12-31     NaN    0.2800\n",
       "33887     10318   2011-12-31     NaN       NaN\n",
       "361077    14868   2011-12-31     NaN    0.2500\n",
       "785825    23473   2011-12-31     NaN    0.4025\n",
       "2499101   89443   2011-12-31     NaN    0.3500\n",
       "1574000   55001   2011-12-31     NaN    0.0900\n",
       "2652969   92318   2011-12-31     NaN    0.0800\n",
       "2300451   83939   2011-12-31     NaN    0.0700\n",
       "27471     10252   2011-12-31     NaN    0.1900\n",
       "2203947   80816   2011-12-31     NaN    0.0100\n",
       "2051528   77379   2011-12-31     NaN       NaN\n",
       "116958    11308   2011-12-31   0.470    0.4700\n",
       "\n",
       "[345102 rows x 4 columns]"
      ]
     },
     "execution_count": 358,
     "metadata": {},
     "output_type": "execute_result"
    }
   ],
   "source": [
    "long[[\"PERMNO\",\"end_of_month\",\"DIVAMT\",\"DIV_lag3\"]]"
   ]
  },
  {
   "cell_type": "code",
   "execution_count": 359,
   "metadata": {},
   "outputs": [
    {
     "name": "stderr",
     "output_type": "stream",
     "text": [
      "C:\\Users\\sherrywei\\Anaconda3\\lib\\site-packages\\pandas\\core\\generic.py:4405: SettingWithCopyWarning: \n",
      "A value is trying to be set on a copy of a slice from a DataFrame.\n",
      "Try using .loc[row_indexer,col_indexer] = value instead\n",
      "\n",
      "See the caveats in the documentation: http://pandas.pydata.org/pandas-docs/stable/indexing.html#indexing-view-versus-copy\n",
      "  self[name] = value\n"
     ]
    }
   ],
   "source": [
    "long.RET = long.RET.apply(float)"
   ]
  },
  {
   "cell_type": "code",
   "execution_count": 360,
   "metadata": {},
   "outputs": [],
   "source": [
    "long = long.groupby(\"end_of_month\")[\"RET\"].agg([\"mean\"])"
   ]
  },
  {
   "cell_type": "code",
   "execution_count": 361,
   "metadata": {},
   "outputs": [],
   "source": [
    "long['cumulative_ret'] = np.cumprod(1+long['mean'])"
   ]
  },
  {
   "cell_type": "code",
   "execution_count": 362,
   "metadata": {},
   "outputs": [
    {
     "data": {
      "text/html": [
       "<div>\n",
       "<style scoped>\n",
       "    .dataframe tbody tr th:only-of-type {\n",
       "        vertical-align: middle;\n",
       "    }\n",
       "\n",
       "    .dataframe tbody tr th {\n",
       "        vertical-align: top;\n",
       "    }\n",
       "\n",
       "    .dataframe thead th {\n",
       "        text-align: right;\n",
       "    }\n",
       "</style>\n",
       "<table border=\"1\" class=\"dataframe\">\n",
       "  <thead>\n",
       "    <tr style=\"text-align: right;\">\n",
       "      <th></th>\n",
       "      <th>mean</th>\n",
       "      <th>cumulative_ret</th>\n",
       "    </tr>\n",
       "    <tr>\n",
       "      <th>end_of_month</th>\n",
       "      <th></th>\n",
       "      <th></th>\n",
       "    </tr>\n",
       "  </thead>\n",
       "  <tbody>\n",
       "    <tr>\n",
       "      <th>2011-08-31</th>\n",
       "      <td>-0.062076</td>\n",
       "      <td>226745.438818</td>\n",
       "    </tr>\n",
       "    <tr>\n",
       "      <th>2011-09-30</th>\n",
       "      <td>-0.085106</td>\n",
       "      <td>207448.000386</td>\n",
       "    </tr>\n",
       "    <tr>\n",
       "      <th>2011-10-31</th>\n",
       "      <td>0.125943</td>\n",
       "      <td>233574.696925</td>\n",
       "    </tr>\n",
       "    <tr>\n",
       "      <th>2011-11-30</th>\n",
       "      <td>0.007572</td>\n",
       "      <td>235343.222315</td>\n",
       "    </tr>\n",
       "    <tr>\n",
       "      <th>2011-12-31</th>\n",
       "      <td>0.006662</td>\n",
       "      <td>236911.006591</td>\n",
       "    </tr>\n",
       "  </tbody>\n",
       "</table>\n",
       "</div>"
      ],
      "text/plain": [
       "                  mean  cumulative_ret\n",
       "end_of_month                          \n",
       "2011-08-31   -0.062076   226745.438818\n",
       "2011-09-30   -0.085106   207448.000386\n",
       "2011-10-31    0.125943   233574.696925\n",
       "2011-11-30    0.007572   235343.222315\n",
       "2011-12-31    0.006662   236911.006591"
      ]
     },
     "execution_count": 362,
     "metadata": {},
     "output_type": "execute_result"
    }
   ],
   "source": [
    "long >> tail"
   ]
  },
  {
   "cell_type": "code",
   "execution_count": 363,
   "metadata": {},
   "outputs": [],
   "source": [
    "short = divComInfo.query('(freq == \"123\" & DIV_lag3 != DIV_lag3) |'\n",
    "                        '(freq == \"124\" & DIV_lag6 != DIV_lag6) |'\n",
    "                        '(freq == \"125\" & DIV_lag12 != DIV_lag12)')"
   ]
  },
  {
   "cell_type": "code",
   "execution_count": 364,
   "metadata": {},
   "outputs": [
    {
     "name": "stderr",
     "output_type": "stream",
     "text": [
      "C:\\Users\\sherrywei\\Anaconda3\\lib\\site-packages\\pandas\\core\\generic.py:4405: SettingWithCopyWarning: \n",
      "A value is trying to be set on a copy of a slice from a DataFrame.\n",
      "Try using .loc[row_indexer,col_indexer] = value instead\n",
      "\n",
      "See the caveats in the documentation: http://pandas.pydata.org/pandas-docs/stable/indexing.html#indexing-view-versus-copy\n",
      "  self[name] = value\n"
     ]
    }
   ],
   "source": [
    "short.RET = short.RET.apply(float)"
   ]
  },
  {
   "cell_type": "code",
   "execution_count": 365,
   "metadata": {},
   "outputs": [],
   "source": [
    "short = short.groupby(\"end_of_month\")[\"RET\"].agg([\"mean\"])"
   ]
  },
  {
   "cell_type": "code",
   "execution_count": 366,
   "metadata": {},
   "outputs": [],
   "source": [
    "short['cumulative_ret'] = np.cumprod(1+short['mean'])"
   ]
  },
  {
   "cell_type": "code",
   "execution_count": 367,
   "metadata": {},
   "outputs": [
    {
     "data": {
      "text/html": [
       "<div>\n",
       "<style scoped>\n",
       "    .dataframe tbody tr th:only-of-type {\n",
       "        vertical-align: middle;\n",
       "    }\n",
       "\n",
       "    .dataframe tbody tr th {\n",
       "        vertical-align: top;\n",
       "    }\n",
       "\n",
       "    .dataframe thead th {\n",
       "        text-align: right;\n",
       "    }\n",
       "</style>\n",
       "<table border=\"1\" class=\"dataframe\">\n",
       "  <thead>\n",
       "    <tr style=\"text-align: right;\">\n",
       "      <th></th>\n",
       "      <th>mean</th>\n",
       "      <th>cumulative_ret</th>\n",
       "    </tr>\n",
       "    <tr>\n",
       "      <th>end_of_month</th>\n",
       "      <th></th>\n",
       "      <th></th>\n",
       "    </tr>\n",
       "  </thead>\n",
       "  <tbody>\n",
       "    <tr>\n",
       "      <th>2011-08-31</th>\n",
       "      <td>-0.075519</td>\n",
       "      <td>15441.838377</td>\n",
       "    </tr>\n",
       "    <tr>\n",
       "      <th>2011-09-30</th>\n",
       "      <td>-0.099115</td>\n",
       "      <td>13911.324331</td>\n",
       "    </tr>\n",
       "    <tr>\n",
       "      <th>2011-10-31</th>\n",
       "      <td>0.137673</td>\n",
       "      <td>15826.540625</td>\n",
       "    </tr>\n",
       "    <tr>\n",
       "      <th>2011-11-30</th>\n",
       "      <td>-0.004326</td>\n",
       "      <td>15758.077349</td>\n",
       "    </tr>\n",
       "    <tr>\n",
       "      <th>2011-12-31</th>\n",
       "      <td>0.004728</td>\n",
       "      <td>15832.574915</td>\n",
       "    </tr>\n",
       "  </tbody>\n",
       "</table>\n",
       "</div>"
      ],
      "text/plain": [
       "                  mean  cumulative_ret\n",
       "end_of_month                          \n",
       "2011-08-31   -0.075519    15441.838377\n",
       "2011-09-30   -0.099115    13911.324331\n",
       "2011-10-31    0.137673    15826.540625\n",
       "2011-11-30   -0.004326    15758.077349\n",
       "2011-12-31    0.004728    15832.574915"
      ]
     },
     "execution_count": 367,
     "metadata": {},
     "output_type": "execute_result"
    }
   ],
   "source": [
    "short >> tail()"
   ]
  },
  {
   "cell_type": "code",
   "execution_count": 374,
   "metadata": {},
   "outputs": [],
   "source": [
    "port_long_short = long[['mean']].join(short[['mean']],how = 'outer',lsuffix='_long', rsuffix='_short')"
   ]
  },
  {
   "cell_type": "code",
   "execution_count": 387,
   "metadata": {},
   "outputs": [],
   "source": [
    "port_long_short['monthly_ret'] = port_long_short['mean_long'] -port_long_short['mean_short']"
   ]
  },
  {
   "cell_type": "code",
   "execution_count": 388,
   "metadata": {},
   "outputs": [],
   "source": [
    "port_long_short['cumulative_ret'] = np.cumprod(port_long_short['monthly_ret']+1)"
   ]
  },
  {
   "cell_type": "code",
   "execution_count": 389,
   "metadata": {},
   "outputs": [
    {
     "data": {
      "text/html": [
       "<div>\n",
       "<style scoped>\n",
       "    .dataframe tbody tr th:only-of-type {\n",
       "        vertical-align: middle;\n",
       "    }\n",
       "\n",
       "    .dataframe tbody tr th {\n",
       "        vertical-align: top;\n",
       "    }\n",
       "\n",
       "    .dataframe thead th {\n",
       "        text-align: right;\n",
       "    }\n",
       "</style>\n",
       "<table border=\"1\" class=\"dataframe\">\n",
       "  <thead>\n",
       "    <tr style=\"text-align: right;\">\n",
       "      <th></th>\n",
       "      <th>mean_long</th>\n",
       "      <th>mean_short</th>\n",
       "      <th>monthly_ret</th>\n",
       "      <th>cumulative_ret</th>\n",
       "    </tr>\n",
       "    <tr>\n",
       "      <th>end_of_month</th>\n",
       "      <th></th>\n",
       "      <th></th>\n",
       "      <th></th>\n",
       "      <th></th>\n",
       "    </tr>\n",
       "  </thead>\n",
       "  <tbody>\n",
       "    <tr>\n",
       "      <th>2011-08-31</th>\n",
       "      <td>-0.062076</td>\n",
       "      <td>-0.075519</td>\n",
       "      <td>0.013444</td>\n",
       "      <td>5.546445</td>\n",
       "    </tr>\n",
       "    <tr>\n",
       "      <th>2011-09-30</th>\n",
       "      <td>-0.085106</td>\n",
       "      <td>-0.099115</td>\n",
       "      <td>0.014009</td>\n",
       "      <td>5.624143</td>\n",
       "    </tr>\n",
       "    <tr>\n",
       "      <th>2011-10-31</th>\n",
       "      <td>0.125943</td>\n",
       "      <td>0.137673</td>\n",
       "      <td>-0.011730</td>\n",
       "      <td>5.558173</td>\n",
       "    </tr>\n",
       "    <tr>\n",
       "      <th>2011-11-30</th>\n",
       "      <td>0.007572</td>\n",
       "      <td>-0.004326</td>\n",
       "      <td>0.011897</td>\n",
       "      <td>5.624301</td>\n",
       "    </tr>\n",
       "    <tr>\n",
       "      <th>2011-12-31</th>\n",
       "      <td>0.006662</td>\n",
       "      <td>0.004728</td>\n",
       "      <td>0.001934</td>\n",
       "      <td>5.635179</td>\n",
       "    </tr>\n",
       "  </tbody>\n",
       "</table>\n",
       "</div>"
      ],
      "text/plain": [
       "              mean_long  mean_short  monthly_ret  cumulative_ret\n",
       "end_of_month                                                    \n",
       "2011-08-31    -0.062076   -0.075519     0.013444        5.546445\n",
       "2011-09-30    -0.085106   -0.099115     0.014009        5.624143\n",
       "2011-10-31     0.125943    0.137673    -0.011730        5.558173\n",
       "2011-11-30     0.007572   -0.004326     0.011897        5.624301\n",
       "2011-12-31     0.006662    0.004728     0.001934        5.635179"
      ]
     },
     "execution_count": 389,
     "metadata": {},
     "output_type": "execute_result"
    }
   ],
   "source": [
    "port_long_short.tail()"
   ]
  },
  {
   "cell_type": "code",
   "execution_count": 81,
   "metadata": {},
   "outputs": [],
   "source": [
    "portfolio_long = pd.concat([quarterlyDiv_long,semiAn_long,Annual_long])"
   ]
  },
  {
   "cell_type": "code",
   "execution_count": 82,
   "metadata": {},
   "outputs": [],
   "source": [
    "portfolio_long.RET = portfolio_long.RET.astype('float')"
   ]
  },
  {
   "cell_type": "code",
   "execution_count": 83,
   "metadata": {},
   "outputs": [],
   "source": [
    "port_long = pd.DataFrame(portfolio_long.groupby('date')['RET'].mean())"
   ]
  },
  {
   "cell_type": "code",
   "execution_count": 84,
   "metadata": {},
   "outputs": [],
   "source": [
    "portfolio_short = divComInfo.loc[short]"
   ]
  },
  {
   "cell_type": "code",
   "execution_count": 114,
   "metadata": {},
   "outputs": [],
   "source": [
    "portfolio_short.RET = portfolio_short.RET.astype('float')"
   ]
  },
  {
   "cell_type": "code",
   "execution_count": 115,
   "metadata": {},
   "outputs": [],
   "source": [
    "portfolio_short.RET = portfolio_short.RET*-1"
   ]
  },
  {
   "cell_type": "code",
   "execution_count": 131,
   "metadata": {},
   "outputs": [],
   "source": [
    "port_short = pd.DataFrame(portfolio_short.groupby('date')['RET'].mean())"
   ]
  },
  {
   "cell_type": "code",
   "execution_count": 133,
   "metadata": {},
   "outputs": [
    {
     "data": {
      "text/html": [
       "<div>\n",
       "<style scoped>\n",
       "    .dataframe tbody tr th:only-of-type {\n",
       "        vertical-align: middle;\n",
       "    }\n",
       "\n",
       "    .dataframe tbody tr th {\n",
       "        vertical-align: top;\n",
       "    }\n",
       "\n",
       "    .dataframe thead th {\n",
       "        text-align: right;\n",
       "    }\n",
       "</style>\n",
       "<table border=\"1\" class=\"dataframe\">\n",
       "  <thead>\n",
       "    <tr style=\"text-align: right;\">\n",
       "      <th></th>\n",
       "      <th>RET</th>\n",
       "    </tr>\n",
       "    <tr>\n",
       "      <th>date</th>\n",
       "      <th></th>\n",
       "    </tr>\n",
       "  </thead>\n",
       "  <tbody>\n",
       "    <tr>\n",
       "      <th>1927-02-28</th>\n",
       "      <td>-0.058663</td>\n",
       "    </tr>\n",
       "    <tr>\n",
       "      <th>1927-03-31</th>\n",
       "      <td>0.007930</td>\n",
       "    </tr>\n",
       "    <tr>\n",
       "      <th>1927-04-30</th>\n",
       "      <td>-0.002879</td>\n",
       "    </tr>\n",
       "    <tr>\n",
       "      <th>1927-05-31</th>\n",
       "      <td>-0.060658</td>\n",
       "    </tr>\n",
       "    <tr>\n",
       "      <th>1927-06-30</th>\n",
       "      <td>0.016588</td>\n",
       "    </tr>\n",
       "  </tbody>\n",
       "</table>\n",
       "</div>"
      ],
      "text/plain": [
       "                 RET\n",
       "date                \n",
       "1927-02-28 -0.058663\n",
       "1927-03-31  0.007930\n",
       "1927-04-30 -0.002879\n",
       "1927-05-31 -0.060658\n",
       "1927-06-30  0.016588"
      ]
     },
     "execution_count": 133,
     "metadata": {},
     "output_type": "execute_result"
    }
   ],
   "source": [
    "port_short.head()"
   ]
  },
  {
   "cell_type": "code",
   "execution_count": 97,
   "metadata": {},
   "outputs": [
    {
     "data": {
      "text/plain": [
       "RET    0.010089\n",
       "dtype: float64"
      ]
     },
     "execution_count": 97,
     "metadata": {},
     "output_type": "execute_result"
    }
   ],
   "source": [
    "port_long.mean()"
   ]
  },
  {
   "cell_type": "code",
   "execution_count": 134,
   "metadata": {},
   "outputs": [],
   "source": [
    "port_long_short = port_long.join(port_short,how = 'outer',lsuffix='_long', rsuffix='_short')"
   ]
  },
  {
   "cell_type": "code",
   "execution_count": 135,
   "metadata": {},
   "outputs": [],
   "source": [
    "port_long_short.dropna(inplace = True)"
   ]
  },
  {
   "cell_type": "code",
   "execution_count": 136,
   "metadata": {},
   "outputs": [],
   "source": [
    "port_long_short['monthly_ret'] =port_long_short['RET_long'] + port_long_short['RET_short'] "
   ]
  },
  {
   "cell_type": "code",
   "execution_count": 137,
   "metadata": {},
   "outputs": [],
   "source": [
    "port_long_short['cumulative_ret'] = np.cumprod(1+port_long_short['monthly_ret'])"
   ]
  },
  {
   "cell_type": "code",
   "execution_count": 138,
   "metadata": {},
   "outputs": [
    {
     "data": {
      "text/plain": [
       "-0.002113793243037131"
      ]
     },
     "execution_count": 138,
     "metadata": {},
     "output_type": "execute_result"
    }
   ],
   "source": [
    "port_long_short['monthly_ret'].mean()"
   ]
  },
  {
   "cell_type": "code",
   "execution_count": 139,
   "metadata": {},
   "outputs": [],
   "source": [
    "import matplotlib.pyplot as plt"
   ]
  },
  {
   "cell_type": "code",
   "execution_count": 383,
   "metadata": {},
   "outputs": [
    {
     "data": {
      "image/png": "[encoded data removed]",
      "text/plain": [
       "<Figure size 432x288 with 1 Axes>"
      ]
     },
     "metadata": {
      "needs_background": "light"
     },
     "output_type": "display_data"
    }
   ],
   "source": [
    "plt.figure()\n",
    "x = port_long_short.index\n",
    "y = port_long_short.cumulative_ret\n",
    "plt.plot(x,y,color = 'coral')\n",
    "plt.show()"
   ]
  },
  {
   "cell_type": "code",
   "execution_count": null,
   "metadata": {},
   "outputs": [],
   "source": [
    "divComInfo.RET = divComInfo.RET.astype('float')"
   ]
  },
  {
   "cell_type": "code",
   "execution_count": null,
   "metadata": {},
   "outputs": [],
   "source": [
    "portfolio_short['RET'] = portfolio_short['RET']*-1"
   ]
  },
  {
   "cell_type": "code",
   "execution_count": null,
   "metadata": {},
   "outputs": [],
   "source": [
    "port_long_short = pd.concat([portfolio_long,portfolio_short]).reset_index()"
   ]
  },
  {
   "cell_type": "code",
   "execution_count": null,
   "metadata": {},
   "outputs": [],
   "source": [
    "port_long_short.sort_values(['PERMNO','date'],inplace = True)"
   ]
  },
  {
   "cell_type": "code",
   "execution_count": null,
   "metadata": {},
   "outputs": [],
   "source": [
    "port_long_short['RET'] = port_long_short['RET'].astype('float')"
   ]
  },
  {
   "cell_type": "code",
   "execution_count": null,
   "metadata": {},
   "outputs": [],
   "source": []
  },
  {
   "cell_type": "code",
   "execution_count": null,
   "metadata": {},
   "outputs": [],
   "source": [
    "portfolio_long.shape"
   ]
  },
  {
   "cell_type": "code",
   "execution_count": null,
   "metadata": {},
   "outputs": [],
   "source": [
    "len(short)"
   ]
  },
  {
   "cell_type": "code",
   "execution_count": null,
   "metadata": {},
   "outputs": [],
   "source": [
    "len(long)"
   ]
  },
  {
   "cell_type": "code",
   "execution_count": null,
   "metadata": {},
   "outputs": [],
   "source": []
  }
 ],
 "metadata": {
  "kernelspec": {
   "display_name": "Python 3",
   "language": "python",
   "name": "python3"
  },
  "language_info": {
   "codemirror_mode": {
    "name": "ipython",
    "version": 3
   },
   "file_extension": ".py",
   "mimetype": "text/x-python",
   "name": "python",
   "nbconvert_exporter": "python",
   "pygments_lexer": "ipython3",
   "version": "3.7.1"
  }
 },
 "nbformat": 4,
 "nbformat_minor": 2
}
