{
 "cells": [
  {
   "cell_type": "code",
   "execution_count": 2,
   "metadata": {},
   "outputs": [],
   "source": [
    "import os\n",
    "from dfply import *\n",
    "import pandas as pd\n",
    "import datetime\n",
    "np.set_printoptions(suppress=True) \n",
    "os.chdir(r\"D:\\03lecture\\QT\\codeBackup\\data\")\n",
    "from math import *"
   ]
  },
  {
   "cell_type": "code",
   "execution_count": 3,
   "metadata": {},
   "outputs": [],
   "source": [
    "import warnings\n",
    "warnings.filterwarnings('ignore')"
   ]
  },
  {
   "cell_type": "code",
   "execution_count": 4,
   "metadata": {},
   "outputs": [],
   "source": [
    "def end_of_month(any_day):\n",
    "    next_month = any_day.replace(day=28) + datetime.timedelta(days=4)\n",
    "    return next_month - datetime.timedelta(days=next_month.day)\n",
    "\n",
    "# formatting of msf\n",
    "msf = pd.read_csv(\"msf.csv\")\n",
    "msf[\"date\"] = pd.to_datetime(msf[\"date\"], format='%Y%m%d')\n",
    "msf[\"date\"] = [end_of_month(date) for date in msf[\"date\"]]\n",
    "msf.columns = [i.lower() for i in msf.columns]\n",
    "msf[\"month\"] = [date.month for date in msf[\"date\"]]\n",
    "msf[\"year\"] = msf.date.apply(lambda x:x.year)\n",
    "# formatting of mse"
   ]
  },
  {
   "cell_type": "code",
   "execution_count": 5,
   "metadata": {},
   "outputs": [],
   "source": [
    "mse = pd.read_csv(\"mse.csv\")"
   ]
  },
  {
   "cell_type": "code",
   "execution_count": 6,
   "metadata": {},
   "outputs": [],
   "source": [
    "mse.columns = [i.lower() for i in mse.columns]"
   ]
  },
  {
   "cell_type": "code",
   "execution_count": 7,
   "metadata": {},
   "outputs": [],
   "source": [
    "mse[\"exdt\"] = pd.to_datetime(mse[\"exdt\"], format='%Y%m%d')\n",
    "mse[\"dclrdt\"] = pd.to_datetime(mse[\"dclrdt\"], format='%Y%m%d')\n",
    "mse[\"paydt\"] = pd.to_datetime(mse[\"paydt\"], format='%Y%m%d')\n",
    "mse = mse >> mask(X.divamt == X.divamt) ## dropna subset == divamt"
   ]
  },
  {
   "cell_type": "code",
   "execution_count": 8,
   "metadata": {},
   "outputs": [],
   "source": [
    "mse['date'] = mse['date'] = mse.exdt.agg(end_of_month)\n",
    "# merge mse and msf"
   ]
  },
  {
   "cell_type": "code",
   "execution_count": 9,
   "metadata": {},
   "outputs": [],
   "source": [
    "mse['freq'] = mse.distcd.apply(lambda x:str(x)[:3])\n",
    "mse['freq'] = mse.freq.astype('int64')\n",
    "mse['freq'].loc[mse['freq'] <= 123] = 123 ## 012全部作为quarterly data 对待\n",
    "\n",
    "mseUse = pd.DataFrame(mse.groupby(['permno','date','distcd','freq'])['divamt'].sum()).reset_index()"
   ]
  },
  {
   "cell_type": "code",
   "execution_count": 10,
   "metadata": {},
   "outputs": [],
   "source": [
    "data = pd.merge(msf,mseUse,how = 'left',on = ['permno','date'])"
   ]
  },
  {
   "cell_type": "code",
   "execution_count": 11,
   "metadata": {},
   "outputs": [],
   "source": [
    "data.pop('bidlo')\n",
    "data.pop('askhi')\n",
    "data[\"mcap\"] = data[\"prc\"] * data[\"shrout\"]\n",
    "# fill na with distcd if the stock has distcd before so that we can identify stock that pay dividend\n",
    "data = data >> arrange(X.permno,X.date)\n",
    "data['freq'] = data.groupby('permno')['freq'].fillna(method = 'ffill')"
   ]
  },
  {
   "cell_type": "code",
   "execution_count": 12,
   "metadata": {},
   "outputs": [],
   "source": [
    "data['distcd'] = data.groupby('permno')['distcd'].fillna(method = 'ffill')"
   ]
  },
  {
   "cell_type": "code",
   "execution_count": 13,
   "metadata": {},
   "outputs": [],
   "source": [
    "divDataSource = data.drop_duplicates(subset = ['permno','date']) ## 如果同一个月即有123 又有非123的 保留，"
   ]
  },
  {
   "cell_type": "code",
   "execution_count": 14,
   "metadata": {},
   "outputs": [],
   "source": [
    "## creat lag\n",
    "divDataSource.sort_values(['permno','date'],inplace = True)\n",
    "divDataSource['prc_lag1'] = divDataSource.groupby('permno')['prc'].shift(1)\n",
    "divDataSource['mcap_lag1'] = divDataSource.groupby('permno')['mcap'].shift(1)\n",
    "divDataSource['freq_lag1'] = divDataSource.groupby('permno')['freq'].shift(1)\n",
    "divDataSource['turnover'] = divDataSource['vol']/divDataSource['shrout']\n",
    "divDataSource['spread_2'] = divDataSource['ask'] -divDataSource['bid']"
   ]
  },
  {
   "cell_type": "code",
   "execution_count": 15,
   "metadata": {},
   "outputs": [],
   "source": [
    "divDataSource['Div_Yield'] = divDataSource['divamt']/divDataSource['prc']"
   ]
  },
  {
   "cell_type": "code",
   "execution_count": 16,
   "metadata": {},
   "outputs": [],
   "source": [
    "for i in range(12):\n",
    "    div_lag = 'div_lag' + str(i + 1)\n",
    "    divDataSource[div_lag] = divDataSource.groupby('permno')['divamt'].shift(i+1)"
   ]
  },
  {
   "cell_type": "code",
   "execution_count": 17,
   "metadata": {},
   "outputs": [],
   "source": [
    "import feather"
   ]
  },
  {
   "cell_type": "code",
   "execution_count": 18,
   "metadata": {},
   "outputs": [],
   "source": [
    "linkTable = feather.read_dataframe('monthly_gvkey_permno_link.feather')\n",
    "linkTable['date'] = pd.to_datetime(linkTable['date'])\n",
    "\n",
    "linkTable['N_permno']=linkTable.groupby('permno')['permno'].transform('count')\n",
    "linkTable['year'] = linkTable.date.apply(lambda x:x.year)\n",
    "\n",
    "linkTable.drop_duplicates(subset = ['gvkey','permno','year'],inplace = True)\n",
    "linkTable['N_permno'] = linkTable.groupby(['year','gvkey'])['permno'].transform('count')\n",
    "linkTable.query('N_permno >=2').sort_values(by = ['gvkey','year'])\n",
    "\n",
    "BMdata = pd.read_csv('BMdata.csv')\n",
    "BMdata['datadate'] = pd.to_datetime(BMdata.datadate,format = '%Y%m%d')\n",
    "BMdata = BMdata[['gvkey','datadate','bkvlps']]\n",
    "\n",
    "BMdata.rename(columns= {'datadate':'date'},inplace = True)\n",
    "BMdata['year'] = BMdata.date.apply(lambda x:x.year)\n",
    "\n",
    "BMdata_permno = BMdata.merge(linkTable,on = ['gvkey','year'],how= 'left',suffixes = ['_BM','_link'])\n",
    "BMdata_permno.dropna(subset = ['bkvlps'],inplace= True)\n",
    "BMdata_permno['permno'] = BMdata_permno.groupby('gvkey')['permno'].fillna(method = 'ffill')\n",
    "BMdata_permno.drop_duplicates(subset = ['permno','date_BM','bkvlps'],inplace = True)\n",
    "BMdata_permno.dropna(subset = ['permno'],inplace = True)\n",
    "BMdata_permno['N_permno'] = BMdata_permno.groupby(['permno','date_BM'])['permno'].transform('count')\n",
    "BMuse = pd.DataFrame(BMdata_permno.groupby(['permno','date_BM'])['bkvlps'].mean()).reset_index()\n",
    "BMdata_permno.rename(columns = {'date_BM':'date'},inplace = True)"
   ]
  },
  {
   "cell_type": "code",
   "execution_count": 19,
   "metadata": {},
   "outputs": [],
   "source": [
    "divDataSourceBM = pd.merge(divDataSource,BMdata_permno.drop(columns = ['year']),on = ['permno','date'],how = 'left')\n",
    "divDataSourceBM = divDataSourceBM >> arrange(X.permno,X.date)\n",
    "divDataSourceBM['bkvlps'] = divDataSourceBM.groupby('permno')['bkvlps'].fillna(method = 'ffill')\n",
    "divDataSourceBM['bm'] = divDataSourceBM['bkvlps']/divDataSource['prc']"
   ]
  },
  {
   "cell_type": "code",
   "execution_count": 20,
   "metadata": {},
   "outputs": [],
   "source": [
    "dataUse = divDataSourceBM.query('date <= \"2011-12-31\" &'\n",
    "                          'shrcd in([10,11]) &'\n",
    "                          'hexcd in([1,2,3]) &'\n",
    "                          'prc_lag1 >= 5 &'\n",
    "                          'ret not in([\"B\",\"C\"])')"
   ]
  },
  {
   "cell_type": "code",
   "execution_count": 21,
   "metadata": {},
   "outputs": [],
   "source": [
    "dataUse['ret'] = dataUse.ret.astype('float')"
   ]
  },
  {
   "cell_type": "code",
   "execution_count": 22,
   "metadata": {},
   "outputs": [],
   "source": [
    "divData = dataUse.query('freq in([\"120\",\"121\",\"123\",\"124\",\"125\"])')"
   ]
  },
  {
   "cell_type": "markdown",
   "metadata": {},
   "source": [
    "### 1 creat table1"
   ]
  },
  {
   "cell_type": "markdown",
   "metadata": {},
   "source": [
    "#### 1.1  creat table1PanelA"
   ]
  },
  {
   "cell_type": "code",
   "execution_count": 23,
   "metadata": {
    "scrolled": true
   },
   "outputs": [],
   "source": [
    "table1PanelApart1 = divData[['mcap','turnover','spread_2','Div_Yield']].describe().T"
   ]
  },
  {
   "cell_type": "code",
   "execution_count": 24,
   "metadata": {},
   "outputs": [],
   "source": [
    "table1PanelApart2 = divData.query('bm <500 & bm >0')[['bm']].describe().T"
   ]
  },
  {
   "cell_type": "code",
   "execution_count": 25,
   "metadata": {},
   "outputs": [],
   "source": [
    "table1PanelA = pd.concat([table1PanelApart1,table1PanelApart2])"
   ]
  },
  {
   "cell_type": "code",
   "execution_count": 26,
   "metadata": {
    "scrolled": true
   },
   "outputs": [],
   "source": [
    "N_firms = pd.DataFrame({'count':len(set(divData['permno']))},index = ['N_firms'])"
   ]
  },
  {
   "cell_type": "code",
   "execution_count": 27,
   "metadata": {},
   "outputs": [],
   "source": [
    "table1PanelA = pd.concat([table1PanelA,N_firms])"
   ]
  },
  {
   "cell_type": "code",
   "execution_count": 28,
   "metadata": {},
   "outputs": [
    {
     "data": {
      "text/html": [
       "<div>\n",
       "<style scoped>\n",
       "    .dataframe tbody tr th:only-of-type {\n",
       "        vertical-align: middle;\n",
       "    }\n",
       "\n",
       "    .dataframe tbody tr th {\n",
       "        vertical-align: top;\n",
       "    }\n",
       "\n",
       "    .dataframe thead th {\n",
       "        text-align: right;\n",
       "    }\n",
       "</style>\n",
       "<table border=\"1\" class=\"dataframe\">\n",
       "  <thead>\n",
       "    <tr style=\"text-align: right;\">\n",
       "      <th></th>\n",
       "      <th>25%</th>\n",
       "      <th>50%</th>\n",
       "      <th>75%</th>\n",
       "      <th>count</th>\n",
       "      <th>max</th>\n",
       "      <th>mean</th>\n",
       "      <th>min</th>\n",
       "      <th>std</th>\n",
       "    </tr>\n",
       "  </thead>\n",
       "  <tbody>\n",
       "    <tr>\n",
       "      <th>mcap</th>\n",
       "      <td>37168.812500</td>\n",
       "      <td>149425.000000</td>\n",
       "      <td>674204.625000</td>\n",
       "      <td>1312290.0</td>\n",
       "      <td>5.810989e+08</td>\n",
       "      <td>1.864001e+06</td>\n",
       "      <td>-1.300461e+08</td>\n",
       "      <td>1.077782e+07</td>\n",
       "    </tr>\n",
       "    <tr>\n",
       "      <th>turnover</th>\n",
       "      <td>0.129215</td>\n",
       "      <td>0.290577</td>\n",
       "      <td>0.652810</td>\n",
       "      <td>1316192.0</td>\n",
       "      <td>2.324402e+02</td>\n",
       "      <td>5.868285e-01</td>\n",
       "      <td>0.000000e+00</td>\n",
       "      <td>1.110118e+00</td>\n",
       "    </tr>\n",
       "    <tr>\n",
       "      <th>spread_2</th>\n",
       "      <td>0.080000</td>\n",
       "      <td>0.250000</td>\n",
       "      <td>0.500000</td>\n",
       "      <td>597116.0</td>\n",
       "      <td>1.724800e+02</td>\n",
       "      <td>4.261916e-01</td>\n",
       "      <td>-3.500000e+00</td>\n",
       "      <td>8.598707e-01</td>\n",
       "    </tr>\n",
       "    <tr>\n",
       "      <th>Div_Yield</th>\n",
       "      <td>0.004167</td>\n",
       "      <td>0.007692</td>\n",
       "      <td>0.012085</td>\n",
       "      <td>376759.0</td>\n",
       "      <td>2.727273e+00</td>\n",
       "      <td>8.342993e-03</td>\n",
       "      <td>-4.444444e-01</td>\n",
       "      <td>1.157757e-02</td>\n",
       "    </tr>\n",
       "    <tr>\n",
       "      <th>bm</th>\n",
       "      <td>0.415026</td>\n",
       "      <td>0.865341</td>\n",
       "      <td>1.966747</td>\n",
       "      <td>780765.0</td>\n",
       "      <td>4.875328e+02</td>\n",
       "      <td>2.566743e+00</td>\n",
       "      <td>6.909091e-05</td>\n",
       "      <td>9.163280e+00</td>\n",
       "    </tr>\n",
       "    <tr>\n",
       "      <th>N_firms</th>\n",
       "      <td>NaN</td>\n",
       "      <td>NaN</td>\n",
       "      <td>NaN</td>\n",
       "      <td>8326.0</td>\n",
       "      <td>NaN</td>\n",
       "      <td>NaN</td>\n",
       "      <td>NaN</td>\n",
       "      <td>NaN</td>\n",
       "    </tr>\n",
       "  </tbody>\n",
       "</table>\n",
       "</div>"
      ],
      "text/plain": [
       "                    25%            50%            75%      count  \\\n",
       "mcap       37168.812500  149425.000000  674204.625000  1312290.0   \n",
       "turnover       0.129215       0.290577       0.652810  1316192.0   \n",
       "spread_2       0.080000       0.250000       0.500000   597116.0   \n",
       "Div_Yield      0.004167       0.007692       0.012085   376759.0   \n",
       "bm             0.415026       0.865341       1.966747   780765.0   \n",
       "N_firms             NaN            NaN            NaN     8326.0   \n",
       "\n",
       "                    max          mean           min           std  \n",
       "mcap       5.810989e+08  1.864001e+06 -1.300461e+08  1.077782e+07  \n",
       "turnover   2.324402e+02  5.868285e-01  0.000000e+00  1.110118e+00  \n",
       "spread_2   1.724800e+02  4.261916e-01 -3.500000e+00  8.598707e-01  \n",
       "Div_Yield  2.727273e+00  8.342993e-03 -4.444444e-01  1.157757e-02  \n",
       "bm         4.875328e+02  2.566743e+00  6.909091e-05  9.163280e+00  \n",
       "N_firms             NaN           NaN           NaN           NaN  "
      ]
     },
     "execution_count": 28,
     "metadata": {},
     "output_type": "execute_result"
    }
   ],
   "source": [
    "table1PanelA"
   ]
  },
  {
   "cell_type": "markdown",
   "metadata": {},
   "source": [
    "#### 1.2 Creat table1PanelB"
   ]
  },
  {
   "cell_type": "code",
   "execution_count": 29,
   "metadata": {},
   "outputs": [],
   "source": [
    "NoDivData = dataUse.query('freq not in([\"120\",\"121\",\"123\",\"124\",\"125\"])')"
   ]
  },
  {
   "cell_type": "code",
   "execution_count": 42,
   "metadata": {},
   "outputs": [],
   "source": [
    "table1PanelBpart1 = NoDivData[['mcap','turnover','spread_2']].describe().T\n",
    "table1PanelBpart2 = NoDivData.query('bm <1000&bm >0')[['bm']].describe().T"
   ]
  },
  {
   "cell_type": "code",
   "execution_count": 43,
   "metadata": {},
   "outputs": [
    {
     "data": {
      "text/html": [
       "<div>\n",
       "<style scoped>\n",
       "    .dataframe tbody tr th:only-of-type {\n",
       "        vertical-align: middle;\n",
       "    }\n",
       "\n",
       "    .dataframe tbody tr th {\n",
       "        vertical-align: top;\n",
       "    }\n",
       "\n",
       "    .dataframe thead th {\n",
       "        text-align: right;\n",
       "    }\n",
       "</style>\n",
       "<table border=\"1\" class=\"dataframe\">\n",
       "  <thead>\n",
       "    <tr style=\"text-align: right;\">\n",
       "      <th></th>\n",
       "      <th>count</th>\n",
       "      <th>mean</th>\n",
       "      <th>std</th>\n",
       "      <th>min</th>\n",
       "      <th>25%</th>\n",
       "      <th>50%</th>\n",
       "      <th>75%</th>\n",
       "      <th>max</th>\n",
       "    </tr>\n",
       "  </thead>\n",
       "  <tbody>\n",
       "    <tr>\n",
       "      <th>bm</th>\n",
       "      <td>475330.0</td>\n",
       "      <td>1.756866</td>\n",
       "      <td>11.331695</td>\n",
       "      <td>0.000018</td>\n",
       "      <td>0.17903</td>\n",
       "      <td>0.433709</td>\n",
       "      <td>1.127327</td>\n",
       "      <td>950.742695</td>\n",
       "    </tr>\n",
       "  </tbody>\n",
       "</table>\n",
       "</div>"
      ],
      "text/plain": [
       "       count      mean        std       min      25%       50%       75%  \\\n",
       "bm  475330.0  1.756866  11.331695  0.000018  0.17903  0.433709  1.127327   \n",
       "\n",
       "           max  \n",
       "bm  950.742695  "
      ]
     },
     "execution_count": 43,
     "metadata": {},
     "output_type": "execute_result"
    }
   ],
   "source": [
    "table1PanelBpart2"
   ]
  },
  {
   "cell_type": "code",
   "execution_count": 44,
   "metadata": {
    "scrolled": true
   },
   "outputs": [],
   "source": [
    "N_firms2 = pd.DataFrame({'count':len(set(NoDivData.permno))},index = ['N_firms'])"
   ]
  },
  {
   "cell_type": "code",
   "execution_count": 45,
   "metadata": {},
   "outputs": [
    {
     "data": {
      "text/html": [
       "<div>\n",
       "<style scoped>\n",
       "    .dataframe tbody tr th:only-of-type {\n",
       "        vertical-align: middle;\n",
       "    }\n",
       "\n",
       "    .dataframe tbody tr th {\n",
       "        vertical-align: top;\n",
       "    }\n",
       "\n",
       "    .dataframe thead th {\n",
       "        text-align: right;\n",
       "    }\n",
       "</style>\n",
       "<table border=\"1\" class=\"dataframe\">\n",
       "  <thead>\n",
       "    <tr style=\"text-align: right;\">\n",
       "      <th></th>\n",
       "      <th>count</th>\n",
       "    </tr>\n",
       "  </thead>\n",
       "  <tbody>\n",
       "    <tr>\n",
       "      <th>N_firms</th>\n",
       "      <td>15917</td>\n",
       "    </tr>\n",
       "  </tbody>\n",
       "</table>\n",
       "</div>"
      ],
      "text/plain": [
       "         count\n",
       "N_firms  15917"
      ]
     },
     "execution_count": 45,
     "metadata": {},
     "output_type": "execute_result"
    }
   ],
   "source": [
    "N_firms2"
   ]
  },
  {
   "cell_type": "code",
   "execution_count": 46,
   "metadata": {},
   "outputs": [],
   "source": [
    "table1PanelB= pd.concat([table1PanelBpart1,table1PanelBpart2,N_firms2])"
   ]
  },
  {
   "cell_type": "code",
   "execution_count": 47,
   "metadata": {},
   "outputs": [
    {
     "data": {
      "text/html": [
       "<div>\n",
       "<style scoped>\n",
       "    .dataframe tbody tr th:only-of-type {\n",
       "        vertical-align: middle;\n",
       "    }\n",
       "\n",
       "    .dataframe tbody tr th {\n",
       "        vertical-align: top;\n",
       "    }\n",
       "\n",
       "    .dataframe thead th {\n",
       "        text-align: right;\n",
       "    }\n",
       "</style>\n",
       "<table border=\"1\" class=\"dataframe\">\n",
       "  <thead>\n",
       "    <tr style=\"text-align: right;\">\n",
       "      <th></th>\n",
       "      <th>25%</th>\n",
       "      <th>50%</th>\n",
       "      <th>75%</th>\n",
       "      <th>count</th>\n",
       "      <th>max</th>\n",
       "      <th>mean</th>\n",
       "      <th>min</th>\n",
       "      <th>std</th>\n",
       "    </tr>\n",
       "  </thead>\n",
       "  <tbody>\n",
       "    <tr>\n",
       "      <th>mcap</th>\n",
       "      <td>43993.218750</td>\n",
       "      <td>140175.000000</td>\n",
       "      <td>464997.367500</td>\n",
       "      <td>693234.0</td>\n",
       "      <td>6.024329e+08</td>\n",
       "      <td>908446.377600</td>\n",
       "      <td>-1.776986e+07</td>\n",
       "      <td>6.180054e+06</td>\n",
       "    </tr>\n",
       "    <tr>\n",
       "      <th>turnover</th>\n",
       "      <td>0.366183</td>\n",
       "      <td>0.885089</td>\n",
       "      <td>1.915989</td>\n",
       "      <td>696685.0</td>\n",
       "      <td>3.041669e+02</td>\n",
       "      <td>1.545840</td>\n",
       "      <td>0.000000e+00</td>\n",
       "      <td>2.397334e+00</td>\n",
       "    </tr>\n",
       "    <tr>\n",
       "      <th>spread_2</th>\n",
       "      <td>0.050000</td>\n",
       "      <td>0.200000</td>\n",
       "      <td>0.375000</td>\n",
       "      <td>558218.0</td>\n",
       "      <td>6.500000e+02</td>\n",
       "      <td>0.369774</td>\n",
       "      <td>-3.312500e+00</td>\n",
       "      <td>4.313983e+00</td>\n",
       "    </tr>\n",
       "    <tr>\n",
       "      <th>bm</th>\n",
       "      <td>0.179030</td>\n",
       "      <td>0.433709</td>\n",
       "      <td>1.127327</td>\n",
       "      <td>475330.0</td>\n",
       "      <td>9.507427e+02</td>\n",
       "      <td>1.756866</td>\n",
       "      <td>1.845505e-05</td>\n",
       "      <td>1.133169e+01</td>\n",
       "    </tr>\n",
       "    <tr>\n",
       "      <th>N_firms</th>\n",
       "      <td>NaN</td>\n",
       "      <td>NaN</td>\n",
       "      <td>NaN</td>\n",
       "      <td>15917.0</td>\n",
       "      <td>NaN</td>\n",
       "      <td>NaN</td>\n",
       "      <td>NaN</td>\n",
       "      <td>NaN</td>\n",
       "    </tr>\n",
       "  </tbody>\n",
       "</table>\n",
       "</div>"
      ],
      "text/plain": [
       "                   25%            50%            75%     count           max  \\\n",
       "mcap      43993.218750  140175.000000  464997.367500  693234.0  6.024329e+08   \n",
       "turnover      0.366183       0.885089       1.915989  696685.0  3.041669e+02   \n",
       "spread_2      0.050000       0.200000       0.375000  558218.0  6.500000e+02   \n",
       "bm            0.179030       0.433709       1.127327  475330.0  9.507427e+02   \n",
       "N_firms            NaN            NaN            NaN   15917.0           NaN   \n",
       "\n",
       "                   mean           min           std  \n",
       "mcap      908446.377600 -1.776986e+07  6.180054e+06  \n",
       "turnover       1.545840  0.000000e+00  2.397334e+00  \n",
       "spread_2       0.369774 -3.312500e+00  4.313983e+00  \n",
       "bm             1.756866  1.845505e-05  1.133169e+01  \n",
       "N_firms             NaN           NaN           NaN  "
      ]
     },
     "execution_count": 47,
     "metadata": {},
     "output_type": "execute_result"
    }
   ],
   "source": [
    "table1PanelB"
   ]
  },
  {
   "cell_type": "markdown",
   "metadata": {},
   "source": [
    "### <font face = 'Times New Roman'> 1.3 Panel C column 1: Percent of firm-months with dividend in the last year"
   ]
  },
  {
   "cell_type": "code",
   "execution_count": 48,
   "metadata": {
    "scrolled": true
   },
   "outputs": [
    {
     "data": {
      "text/plain": [
       "Index(['permno', 'date', 'shrcd', 'hexcd', 'prc', 'vol', 'ret', 'bid', 'ask',\n",
       "       'shrout', 'spread', 'retx', 'month', 'year', 'distcd', 'freq', 'divamt',\n",
       "       'mcap', 'prc_lag1', 'mcap_lag1', 'freq_lag1', 'turnover', 'spread_2',\n",
       "       'Div_Yield', 'div_lag1', 'div_lag2', 'div_lag3', 'div_lag4', 'div_lag5',\n",
       "       'div_lag6', 'div_lag7', 'div_lag8', 'div_lag9', 'div_lag10',\n",
       "       'div_lag11', 'div_lag12', 'gvkey', 'bkvlps', 'date_link', 'N_permno',\n",
       "       'bm'],\n",
       "      dtype='object')"
      ]
     },
     "execution_count": 48,
     "metadata": {},
     "output_type": "execute_result"
    }
   ],
   "source": [
    "dataUse.columns"
   ]
  },
  {
   "cell_type": "code",
   "execution_count": 49,
   "metadata": {},
   "outputs": [],
   "source": [
    "dataUse['divType'] = dataUse.distcd.apply(lambda x:str(x)[:3])"
   ]
  },
  {
   "cell_type": "code",
   "execution_count": 74,
   "metadata": {},
   "outputs": [],
   "source": [
    "DivFreq = pd.DataFrame(dataUse.groupby(['year','divType'])['divType'].count())\n",
    "DivFreq['percent'] = DivFreq.divType/DivFreq.groupby(level = 0).divType.transform(np.sum)\n",
    "DivFreq.columns = ['count','percent']\n",
    "DivFreq = DivFreq.reset_index()"
   ]
  },
  {
   "cell_type": "code",
   "execution_count": 76,
   "metadata": {
    "scrolled": false
   },
   "outputs": [
    {
     "data": {
      "text/html": [
       "<div>\n",
       "<style scoped>\n",
       "    .dataframe tbody tr th:only-of-type {\n",
       "        vertical-align: middle;\n",
       "    }\n",
       "\n",
       "    .dataframe tbody tr th {\n",
       "        vertical-align: top;\n",
       "    }\n",
       "\n",
       "    .dataframe thead th {\n",
       "        text-align: right;\n",
       "    }\n",
       "</style>\n",
       "<table border=\"1\" class=\"dataframe\">\n",
       "  <thead>\n",
       "    <tr style=\"text-align: right;\">\n",
       "      <th></th>\n",
       "      <th>year</th>\n",
       "      <th>divType</th>\n",
       "      <th>count</th>\n",
       "      <th>percent</th>\n",
       "    </tr>\n",
       "  </thead>\n",
       "  <tbody>\n",
       "    <tr>\n",
       "      <th>0</th>\n",
       "      <td>1927</td>\n",
       "      <td>121</td>\n",
       "      <td>52</td>\n",
       "      <td>0.011670</td>\n",
       "    </tr>\n",
       "    <tr>\n",
       "      <th>1</th>\n",
       "      <td>1927</td>\n",
       "      <td>122</td>\n",
       "      <td>59</td>\n",
       "      <td>0.013241</td>\n",
       "    </tr>\n",
       "    <tr>\n",
       "      <th>2</th>\n",
       "      <td>1927</td>\n",
       "      <td>123</td>\n",
       "      <td>2580</td>\n",
       "      <td>0.578995</td>\n",
       "    </tr>\n",
       "    <tr>\n",
       "      <th>3</th>\n",
       "      <td>1927</td>\n",
       "      <td>124</td>\n",
       "      <td>75</td>\n",
       "      <td>0.016831</td>\n",
       "    </tr>\n",
       "    <tr>\n",
       "      <th>4</th>\n",
       "      <td>1927</td>\n",
       "      <td>127</td>\n",
       "      <td>168</td>\n",
       "      <td>0.037702</td>\n",
       "    </tr>\n",
       "  </tbody>\n",
       "</table>\n",
       "</div>"
      ],
      "text/plain": [
       "   year divType  count   percent\n",
       "0  1927     121     52  0.011670\n",
       "1  1927     122     59  0.013241\n",
       "2  1927     123   2580  0.578995\n",
       "3  1927     124     75  0.016831\n",
       "4  1927     127    168  0.037702"
      ]
     },
     "execution_count": 76,
     "metadata": {},
     "output_type": "execute_result"
    }
   ],
   "source": [
    "DivFreq.head()"
   ]
  },
  {
   "cell_type": "code",
   "execution_count": 77,
   "metadata": {},
   "outputs": [],
   "source": [
    "dataUse['divType'] = dataUse.groupby('permno')['divType'].fillna(method = 'ffill')"
   ]
  },
  {
   "cell_type": "code",
   "execution_count": 78,
   "metadata": {},
   "outputs": [],
   "source": [
    "DivFreq= pd.DataFrame(DivFreq.groupby('divType')['percent'].mean())"
   ]
  },
  {
   "cell_type": "code",
   "execution_count": 79,
   "metadata": {},
   "outputs": [],
   "source": [
    "div_freq = ['120','122','123','124','125','126','127']\n",
    "Any_freq = DivFreq.loc[div_freq,].sum()\n",
    "div_freq_index = {'monthly':'122','quarterly':'123','semiAnnualy':'124','Annualy':'125'}"
   ]
  },
  {
   "cell_type": "code",
   "execution_count": 80,
   "metadata": {
    "collapsed": true
   },
   "outputs": [
    {
     "data": {
      "text/html": [
       "<div>\n",
       "<style scoped>\n",
       "    .dataframe tbody tr th:only-of-type {\n",
       "        vertical-align: middle;\n",
       "    }\n",
       "\n",
       "    .dataframe tbody tr th {\n",
       "        vertical-align: top;\n",
       "    }\n",
       "\n",
       "    .dataframe thead th {\n",
       "        text-align: right;\n",
       "    }\n",
       "</style>\n",
       "<table border=\"1\" class=\"dataframe\">\n",
       "  <thead>\n",
       "    <tr style=\"text-align: right;\">\n",
       "      <th></th>\n",
       "      <th>percent</th>\n",
       "    </tr>\n",
       "    <tr>\n",
       "      <th>divType</th>\n",
       "      <th></th>\n",
       "    </tr>\n",
       "  </thead>\n",
       "  <tbody>\n",
       "    <tr>\n",
       "      <th>120</th>\n",
       "      <td>0.000066</td>\n",
       "    </tr>\n",
       "    <tr>\n",
       "      <th>121</th>\n",
       "      <td>0.162015</td>\n",
       "    </tr>\n",
       "    <tr>\n",
       "      <th>122</th>\n",
       "      <td>0.003524</td>\n",
       "    </tr>\n",
       "    <tr>\n",
       "      <th>123</th>\n",
       "      <td>0.562652</td>\n",
       "    </tr>\n",
       "    <tr>\n",
       "      <th>124</th>\n",
       "      <td>0.016181</td>\n",
       "    </tr>\n",
       "    <tr>\n",
       "      <th>125</th>\n",
       "      <td>0.010062</td>\n",
       "    </tr>\n",
       "    <tr>\n",
       "      <th>126</th>\n",
       "      <td>0.004743</td>\n",
       "    </tr>\n",
       "    <tr>\n",
       "      <th>127</th>\n",
       "      <td>0.028147</td>\n",
       "    </tr>\n",
       "    <tr>\n",
       "      <th>128</th>\n",
       "      <td>0.002464</td>\n",
       "    </tr>\n",
       "    <tr>\n",
       "      <th>129</th>\n",
       "      <td>0.002212</td>\n",
       "    </tr>\n",
       "  </tbody>\n",
       "</table>\n",
       "</div>"
      ],
      "text/plain": [
       "          percent\n",
       "divType          \n",
       "120      0.000066\n",
       "121      0.162015\n",
       "122      0.003524\n",
       "123      0.562652\n",
       "124      0.016181\n",
       "125      0.010062\n",
       "126      0.004743\n",
       "127      0.028147\n",
       "128      0.002464\n",
       "129      0.002212"
      ]
     },
     "execution_count": 80,
     "metadata": {},
     "output_type": "execute_result"
    }
   ],
   "source": [
    "DivFreq.head(10)"
   ]
  },
  {
   "cell_type": "code",
   "execution_count": 81,
   "metadata": {},
   "outputs": [],
   "source": [
    "table1PanelC_part1 = DivFreq.loc[['122','123','124','125','121'],]"
   ]
  },
  {
   "cell_type": "code",
   "execution_count": 82,
   "metadata": {
    "collapsed": true
   },
   "outputs": [
    {
     "data": {
      "text/html": [
       "<div>\n",
       "<style scoped>\n",
       "    .dataframe tbody tr th:only-of-type {\n",
       "        vertical-align: middle;\n",
       "    }\n",
       "\n",
       "    .dataframe tbody tr th {\n",
       "        vertical-align: top;\n",
       "    }\n",
       "\n",
       "    .dataframe thead th {\n",
       "        text-align: right;\n",
       "    }\n",
       "</style>\n",
       "<table border=\"1\" class=\"dataframe\">\n",
       "  <thead>\n",
       "    <tr style=\"text-align: right;\">\n",
       "      <th></th>\n",
       "      <th>percent</th>\n",
       "    </tr>\n",
       "    <tr>\n",
       "      <th>divType</th>\n",
       "      <th></th>\n",
       "    </tr>\n",
       "  </thead>\n",
       "  <tbody>\n",
       "    <tr>\n",
       "      <th>122</th>\n",
       "      <td>0.003524</td>\n",
       "    </tr>\n",
       "    <tr>\n",
       "      <th>123</th>\n",
       "      <td>0.562652</td>\n",
       "    </tr>\n",
       "    <tr>\n",
       "      <th>124</th>\n",
       "      <td>0.016181</td>\n",
       "    </tr>\n",
       "    <tr>\n",
       "      <th>125</th>\n",
       "      <td>0.010062</td>\n",
       "    </tr>\n",
       "    <tr>\n",
       "      <th>121</th>\n",
       "      <td>0.162015</td>\n",
       "    </tr>\n",
       "  </tbody>\n",
       "</table>\n",
       "</div>"
      ],
      "text/plain": [
       "          percent\n",
       "divType          \n",
       "122      0.003524\n",
       "123      0.562652\n",
       "124      0.016181\n",
       "125      0.010062\n",
       "121      0.162015"
      ]
     },
     "execution_count": 82,
     "metadata": {},
     "output_type": "execute_result"
    }
   ],
   "source": [
    "table1PanelC_part1"
   ]
  },
  {
   "cell_type": "code",
   "execution_count": 83,
   "metadata": {},
   "outputs": [],
   "source": [
    "table1PanelC_part1.loc['Any_freq']= {'percent':Any_freq.tolist()[0]}"
   ]
  },
  {
   "cell_type": "code",
   "execution_count": 84,
   "metadata": {},
   "outputs": [
    {
     "data": {
      "text/html": [
       "<div>\n",
       "<style scoped>\n",
       "    .dataframe tbody tr th:only-of-type {\n",
       "        vertical-align: middle;\n",
       "    }\n",
       "\n",
       "    .dataframe tbody tr th {\n",
       "        vertical-align: top;\n",
       "    }\n",
       "\n",
       "    .dataframe thead th {\n",
       "        text-align: right;\n",
       "    }\n",
       "</style>\n",
       "<table border=\"1\" class=\"dataframe\">\n",
       "  <thead>\n",
       "    <tr style=\"text-align: right;\">\n",
       "      <th></th>\n",
       "      <th>percent</th>\n",
       "    </tr>\n",
       "    <tr>\n",
       "      <th>divType</th>\n",
       "      <th></th>\n",
       "    </tr>\n",
       "  </thead>\n",
       "  <tbody>\n",
       "    <tr>\n",
       "      <th>122</th>\n",
       "      <td>0.003524</td>\n",
       "    </tr>\n",
       "    <tr>\n",
       "      <th>123</th>\n",
       "      <td>0.562652</td>\n",
       "    </tr>\n",
       "    <tr>\n",
       "      <th>124</th>\n",
       "      <td>0.016181</td>\n",
       "    </tr>\n",
       "    <tr>\n",
       "      <th>125</th>\n",
       "      <td>0.010062</td>\n",
       "    </tr>\n",
       "    <tr>\n",
       "      <th>121</th>\n",
       "      <td>0.162015</td>\n",
       "    </tr>\n",
       "    <tr>\n",
       "      <th>Any_freq</th>\n",
       "      <td>0.625375</td>\n",
       "    </tr>\n",
       "  </tbody>\n",
       "</table>\n",
       "</div>"
      ],
      "text/plain": [
       "           percent\n",
       "divType           \n",
       "122       0.003524\n",
       "123       0.562652\n",
       "124       0.016181\n",
       "125       0.010062\n",
       "121       0.162015\n",
       "Any_freq  0.625375"
      ]
     },
     "execution_count": 84,
     "metadata": {},
     "output_type": "execute_result"
    }
   ],
   "source": [
    "table1PanelC_part1"
   ]
  },
  {
   "cell_type": "code",
   "execution_count": 63,
   "metadata": {},
   "outputs": [
    {
     "data": {
      "text/html": [
       "<div>\n",
       "<style scoped>\n",
       "    .dataframe tbody tr th:only-of-type {\n",
       "        vertical-align: middle;\n",
       "    }\n",
       "\n",
       "    .dataframe tbody tr th {\n",
       "        vertical-align: top;\n",
       "    }\n",
       "\n",
       "    .dataframe thead th {\n",
       "        text-align: right;\n",
       "    }\n",
       "</style>\n",
       "<table border=\"1\" class=\"dataframe\">\n",
       "  <thead>\n",
       "    <tr style=\"text-align: right;\">\n",
       "      <th></th>\n",
       "      <th>percent</th>\n",
       "    </tr>\n",
       "    <tr>\n",
       "      <th>divType</th>\n",
       "      <th></th>\n",
       "    </tr>\n",
       "  </thead>\n",
       "  <tbody>\n",
       "    <tr>\n",
       "      <th>monthly</th>\n",
       "      <td>0.003524</td>\n",
       "    </tr>\n",
       "    <tr>\n",
       "      <th>quarterly</th>\n",
       "      <td>0.562652</td>\n",
       "    </tr>\n",
       "    <tr>\n",
       "      <th>semiAnnualy</th>\n",
       "      <td>0.016181</td>\n",
       "    </tr>\n",
       "    <tr>\n",
       "      <th>Annualy</th>\n",
       "      <td>0.010062</td>\n",
       "    </tr>\n",
       "    <tr>\n",
       "      <th>121</th>\n",
       "      <td>0.162015</td>\n",
       "    </tr>\n",
       "    <tr>\n",
       "      <th>Any_freq</th>\n",
       "      <td>0.625375</td>\n",
       "    </tr>\n",
       "  </tbody>\n",
       "</table>\n",
       "</div>"
      ],
      "text/plain": [
       "              percent\n",
       "divType              \n",
       "monthly      0.003524\n",
       "quarterly    0.562652\n",
       "semiAnnualy  0.016181\n",
       "Annualy      0.010062\n",
       "121          0.162015\n",
       "Any_freq     0.625375"
      ]
     },
     "execution_count": 63,
     "metadata": {},
     "output_type": "execute_result"
    }
   ],
   "source": [
    "table1PanelC_part1"
   ]
  },
  {
   "cell_type": "markdown",
   "metadata": {},
   "source": [
    "### <font face = 'Times New Roman'>  Panel C-Column 2: Percent of dividend observations"
   ]
  },
  {
   "cell_type": "code",
   "execution_count": 85,
   "metadata": {},
   "outputs": [],
   "source": [
    "divData['divType'] = divData.distcd.apply(lambda x:str(x)[:3])"
   ]
  },
  {
   "cell_type": "code",
   "execution_count": 86,
   "metadata": {},
   "outputs": [],
   "source": [
    "DivFreq2 = pd.DataFrame(divData.groupby('divType')['divType'].count())"
   ]
  },
  {
   "cell_type": "code",
   "execution_count": 87,
   "metadata": {},
   "outputs": [],
   "source": [
    "DivFreq2.columns = ['count']"
   ]
  },
  {
   "cell_type": "code",
   "execution_count": 88,
   "metadata": {},
   "outputs": [
    {
     "data": {
      "text/html": [
       "<div>\n",
       "<style scoped>\n",
       "    .dataframe tbody tr th:only-of-type {\n",
       "        vertical-align: middle;\n",
       "    }\n",
       "\n",
       "    .dataframe tbody tr th {\n",
       "        vertical-align: top;\n",
       "    }\n",
       "\n",
       "    .dataframe thead th {\n",
       "        text-align: right;\n",
       "    }\n",
       "</style>\n",
       "<table border=\"1\" class=\"dataframe\">\n",
       "  <thead>\n",
       "    <tr style=\"text-align: right;\">\n",
       "      <th></th>\n",
       "      <th>count</th>\n",
       "    </tr>\n",
       "    <tr>\n",
       "      <th>divType</th>\n",
       "      <th></th>\n",
       "    </tr>\n",
       "  </thead>\n",
       "  <tbody>\n",
       "    <tr>\n",
       "      <th>120</th>\n",
       "      <td>5</td>\n",
       "    </tr>\n",
       "    <tr>\n",
       "      <th>121</th>\n",
       "      <td>133836</td>\n",
       "    </tr>\n",
       "    <tr>\n",
       "      <th>122</th>\n",
       "      <td>3313</td>\n",
       "    </tr>\n",
       "    <tr>\n",
       "      <th>123</th>\n",
       "      <td>1118490</td>\n",
       "    </tr>\n",
       "    <tr>\n",
       "      <th>124</th>\n",
       "      <td>37516</td>\n",
       "    </tr>\n",
       "    <tr>\n",
       "      <th>125</th>\n",
       "      <td>24031</td>\n",
       "    </tr>\n",
       "  </tbody>\n",
       "</table>\n",
       "</div>"
      ],
      "text/plain": [
       "           count\n",
       "divType         \n",
       "120            5\n",
       "121       133836\n",
       "122         3313\n",
       "123      1118490\n",
       "124        37516\n",
       "125        24031"
      ]
     },
     "execution_count": 88,
     "metadata": {},
     "output_type": "execute_result"
    }
   ],
   "source": [
    "DivFreq2"
   ]
  },
  {
   "cell_type": "code",
   "execution_count": 89,
   "metadata": {},
   "outputs": [],
   "source": [
    "DivFreq2['percent'] = DivFreq2['count']/DivFreq2['count'].sum()"
   ]
  },
  {
   "cell_type": "code",
   "execution_count": 90,
   "metadata": {
    "scrolled": true
   },
   "outputs": [],
   "source": [
    "table1PanelC_part2 = DivFreq2[['percent']].loc[['122','123','124','125','121'],]"
   ]
  },
  {
   "cell_type": "code",
   "execution_count": 91,
   "metadata": {},
   "outputs": [],
   "source": [
    "table1PanelC = pd.merge(table1PanelC_part1,table1PanelC_part2,left_index = True,right_index = True,how = 'outer')"
   ]
  },
  {
   "cell_type": "code",
   "execution_count": 92,
   "metadata": {},
   "outputs": [],
   "source": [
    "table1PanelC.rename(index = {'121':'unknow_freq','122':'monthly','123':'quarterly','124':'semiAnnualy','125':'Annualy'},inplace = True)"
   ]
  },
  {
   "cell_type": "code",
   "execution_count": 93,
   "metadata": {},
   "outputs": [],
   "source": [
    "table1PanelC = round(table1PanelC.apply(lambda x:x*100),2)"
   ]
  },
  {
   "cell_type": "code",
   "execution_count": 94,
   "metadata": {},
   "outputs": [
    {
     "data": {
      "text/html": [
       "<div>\n",
       "<style scoped>\n",
       "    .dataframe tbody tr th:only-of-type {\n",
       "        vertical-align: middle;\n",
       "    }\n",
       "\n",
       "    .dataframe tbody tr th {\n",
       "        vertical-align: top;\n",
       "    }\n",
       "\n",
       "    .dataframe thead th {\n",
       "        text-align: right;\n",
       "    }\n",
       "</style>\n",
       "<table border=\"1\" class=\"dataframe\">\n",
       "  <thead>\n",
       "    <tr style=\"text-align: right;\">\n",
       "      <th></th>\n",
       "      <th>percent_x</th>\n",
       "      <th>percent_y</th>\n",
       "    </tr>\n",
       "    <tr>\n",
       "      <th>divType</th>\n",
       "      <th></th>\n",
       "      <th></th>\n",
       "    </tr>\n",
       "  </thead>\n",
       "  <tbody>\n",
       "    <tr>\n",
       "      <th>unknow_freq</th>\n",
       "      <td>16.20</td>\n",
       "      <td>10.16</td>\n",
       "    </tr>\n",
       "    <tr>\n",
       "      <th>monthly</th>\n",
       "      <td>0.35</td>\n",
       "      <td>0.25</td>\n",
       "    </tr>\n",
       "    <tr>\n",
       "      <th>quarterly</th>\n",
       "      <td>56.27</td>\n",
       "      <td>84.91</td>\n",
       "    </tr>\n",
       "    <tr>\n",
       "      <th>semiAnnualy</th>\n",
       "      <td>1.62</td>\n",
       "      <td>2.85</td>\n",
       "    </tr>\n",
       "    <tr>\n",
       "      <th>Annualy</th>\n",
       "      <td>1.01</td>\n",
       "      <td>1.82</td>\n",
       "    </tr>\n",
       "    <tr>\n",
       "      <th>Any_freq</th>\n",
       "      <td>62.54</td>\n",
       "      <td>NaN</td>\n",
       "    </tr>\n",
       "  </tbody>\n",
       "</table>\n",
       "</div>"
      ],
      "text/plain": [
       "             percent_x  percent_y\n",
       "divType                          \n",
       "unknow_freq      16.20      10.16\n",
       "monthly           0.35       0.25\n",
       "quarterly        56.27      84.91\n",
       "semiAnnualy       1.62       2.85\n",
       "Annualy           1.01       1.82\n",
       "Any_freq         62.54        NaN"
      ]
     },
     "execution_count": 94,
     "metadata": {},
     "output_type": "execute_result"
    }
   ],
   "source": [
    "table1PanelC"
   ]
  },
  {
   "cell_type": "markdown",
   "metadata": {},
   "source": [
    "### 2  creat Table2"
   ]
  },
  {
   "cell_type": "markdown",
   "metadata": {},
   "source": [
    "#### 2.1 creat Table2 PanelA"
   ]
  },
  {
   "cell_type": "code",
   "execution_count": 95,
   "metadata": {},
   "outputs": [],
   "source": [
    "table2_mean = {}\n",
    "table2_std = {}\n",
    "table2_all_div_prob = {}\n",
    "table2_quar_div_prob = {}"
   ]
  },
  {
   "cell_type": "code",
   "execution_count": 101,
   "metadata": {},
   "outputs": [],
   "source": [
    "index_start = divData.columns.tolist().index('div_lag1')\n",
    "index_end = divData.columns.tolist().index('div_lag12')"
   ]
  },
  {
   "cell_type": "code",
   "execution_count": 104,
   "metadata": {},
   "outputs": [],
   "source": [
    "div_lag_list = divData.columns[index_start:index_end+1].tolist()"
   ]
  },
  {
   "cell_type": "code",
   "execution_count": 105,
   "metadata": {},
   "outputs": [
    {
     "data": {
      "text/plain": [
       "['div_lag1',\n",
       " 'div_lag2',\n",
       " 'div_lag3',\n",
       " 'div_lag4',\n",
       " 'div_lag5',\n",
       " 'div_lag6',\n",
       " 'div_lag7',\n",
       " 'div_lag8',\n",
       " 'div_lag9',\n",
       " 'div_lag10',\n",
       " 'div_lag11',\n",
       " 'div_lag12']"
      ]
     },
     "execution_count": 105,
     "metadata": {},
     "output_type": "execute_result"
    }
   ],
   "source": [
    "div_lag_list"
   ]
  },
  {
   "cell_type": "code",
   "execution_count": 106,
   "metadata": {},
   "outputs": [],
   "source": [
    "for i,div_lag in enumerate(div_lag_list):\n",
    "    table2_mean[str(i + 1)] = divData.dropna(subset = [div_lag])['ret'].mean()*100\n",
    "    table2_std[str(i + 1)] = divData.dropna(subset = [div_lag] )['ret'].std()*100\n",
    "    table2_all_div_prob[str(i+1)] = len(divData.dropna(subset = [div_lag,'divamt']))/len(divData.dropna(subset = [div_lag]))\n",
    "    divData_quar = divData.query('freq == \"123\"')\n",
    "    table2_quar_div_prob[str(i + 1)] = len(divData_quar.dropna(subset = [div_lag,'divamt']))/len(divData_quar.dropna(subset = [div_lag]))"
   ]
  },
  {
   "cell_type": "code",
   "execution_count": 107,
   "metadata": {},
   "outputs": [],
   "source": [
    "table2_panelA = pd.DataFrame(pd.Series(table2_mean),columns = ['Mean return'])\n",
    "table2_panelA['Standard Deviation'] = table2_std.values()\n",
    "table2_panelA['All dividends'] = table2_all_div_prob.values()\n",
    "table2_panelA['quar dividends'] = table2_quar_div_prob.values()"
   ]
  },
  {
   "cell_type": "code",
   "execution_count": 108,
   "metadata": {},
   "outputs": [
    {
     "data": {
      "text/html": [
       "<div>\n",
       "<style scoped>\n",
       "    .dataframe tbody tr th:only-of-type {\n",
       "        vertical-align: middle;\n",
       "    }\n",
       "\n",
       "    .dataframe tbody tr th {\n",
       "        vertical-align: top;\n",
       "    }\n",
       "\n",
       "    .dataframe thead th {\n",
       "        text-align: right;\n",
       "    }\n",
       "</style>\n",
       "<table border=\"1\" class=\"dataframe\">\n",
       "  <thead>\n",
       "    <tr style=\"text-align: right;\">\n",
       "      <th></th>\n",
       "      <th>Mean return</th>\n",
       "      <th>Standard Deviation</th>\n",
       "      <th>All dividends</th>\n",
       "      <th>quar dividends</th>\n",
       "    </tr>\n",
       "  </thead>\n",
       "  <tbody>\n",
       "    <tr>\n",
       "      <th>1</th>\n",
       "      <td>1.047115</td>\n",
       "      <td>9.721843</td>\n",
       "      <td>0.010833</td>\n",
       "      <td>0.010986</td>\n",
       "    </tr>\n",
       "    <tr>\n",
       "      <th>2</th>\n",
       "      <td>1.191799</td>\n",
       "      <td>9.838917</td>\n",
       "      <td>0.062552</td>\n",
       "      <td>0.063514</td>\n",
       "    </tr>\n",
       "    <tr>\n",
       "      <th>3</th>\n",
       "      <td>1.372169</td>\n",
       "      <td>9.599297</td>\n",
       "      <td>0.858883</td>\n",
       "      <td>0.872877</td>\n",
       "    </tr>\n",
       "    <tr>\n",
       "      <th>4</th>\n",
       "      <td>1.007758</td>\n",
       "      <td>9.745201</td>\n",
       "      <td>0.064253</td>\n",
       "      <td>0.065057</td>\n",
       "    </tr>\n",
       "    <tr>\n",
       "      <th>5</th>\n",
       "      <td>1.197198</td>\n",
       "      <td>9.882160</td>\n",
       "      <td>0.068914</td>\n",
       "      <td>0.068576</td>\n",
       "    </tr>\n",
       "    <tr>\n",
       "      <th>6</th>\n",
       "      <td>1.389761</td>\n",
       "      <td>9.639035</td>\n",
       "      <td>0.855029</td>\n",
       "      <td>0.860230</td>\n",
       "    </tr>\n",
       "    <tr>\n",
       "      <th>7</th>\n",
       "      <td>1.031427</td>\n",
       "      <td>9.786326</td>\n",
       "      <td>0.069624</td>\n",
       "      <td>0.069264</td>\n",
       "    </tr>\n",
       "    <tr>\n",
       "      <th>8</th>\n",
       "      <td>1.171970</td>\n",
       "      <td>9.915469</td>\n",
       "      <td>0.067114</td>\n",
       "      <td>0.067989</td>\n",
       "    </tr>\n",
       "    <tr>\n",
       "      <th>9</th>\n",
       "      <td>1.367257</td>\n",
       "      <td>9.629136</td>\n",
       "      <td>0.840041</td>\n",
       "      <td>0.853276</td>\n",
       "    </tr>\n",
       "    <tr>\n",
       "      <th>10</th>\n",
       "      <td>1.007349</td>\n",
       "      <td>9.823710</td>\n",
       "      <td>0.067378</td>\n",
       "      <td>0.068255</td>\n",
       "    </tr>\n",
       "    <tr>\n",
       "      <th>11</th>\n",
       "      <td>1.167385</td>\n",
       "      <td>9.944189</td>\n",
       "      <td>0.052528</td>\n",
       "      <td>0.052341</td>\n",
       "    </tr>\n",
       "    <tr>\n",
       "      <th>12</th>\n",
       "      <td>1.392492</td>\n",
       "      <td>9.660212</td>\n",
       "      <td>0.882572</td>\n",
       "      <td>0.884116</td>\n",
       "    </tr>\n",
       "  </tbody>\n",
       "</table>\n",
       "</div>"
      ],
      "text/plain": [
       "    Mean return  Standard Deviation  All dividends  quar dividends\n",
       "1      1.047115            9.721843       0.010833        0.010986\n",
       "2      1.191799            9.838917       0.062552        0.063514\n",
       "3      1.372169            9.599297       0.858883        0.872877\n",
       "4      1.007758            9.745201       0.064253        0.065057\n",
       "5      1.197198            9.882160       0.068914        0.068576\n",
       "6      1.389761            9.639035       0.855029        0.860230\n",
       "7      1.031427            9.786326       0.069624        0.069264\n",
       "8      1.171970            9.915469       0.067114        0.067989\n",
       "9      1.367257            9.629136       0.840041        0.853276\n",
       "10     1.007349            9.823710       0.067378        0.068255\n",
       "11     1.167385            9.944189       0.052528        0.052341\n",
       "12     1.392492            9.660212       0.882572        0.884116"
      ]
     },
     "execution_count": 108,
     "metadata": {},
     "output_type": "execute_result"
    }
   ],
   "source": [
    "table2_panelA#  ## quartly dividends 的return 有些偏高，因该是120，121，122都归类为123的原因，后面可以再调整下。"
   ]
  },
  {
   "cell_type": "markdown",
   "metadata": {},
   "source": [
    "#### 2.2 creat table2 PanelB"
   ]
  },
  {
   "cell_type": "code",
   "execution_count": 109,
   "metadata": {},
   "outputs": [],
   "source": [
    "# assign signal\n",
    "divData[\"signal\"] = np.where((divData.div_lag3.notna() | divData.div_lag6.notna() |\n",
    "                                 divData.div_lag9.notna() | divData.div_lag12.notna()), \"L\",\n",
    "                                np.where(divData.div_lag1.notna() | divData.div_lag2.notna() |\n",
    "                                         divData.div_lag4.notna() | divData.div_lag5.notna() |\n",
    "                                         divData.div_lag7.notna() | divData.div_lag8.notna() |\n",
    "                                         divData.div_lag10.notna() | divData.div_lag11.notna(), \"S\", \"\"))\n",
    "\n",
    "portfolio1 = pd.DataFrame(divData.groupby([\"date\", \"signal\"])['ret'].mean())"
   ]
  },
  {
   "cell_type": "code",
   "execution_count": 110,
   "metadata": {},
   "outputs": [],
   "source": [
    "probs = [0.01,0.05,0.25,0.5,0.75,0.95,0.99]"
   ]
  },
  {
   "cell_type": "code",
   "execution_count": 111,
   "metadata": {},
   "outputs": [],
   "source": [
    "table2PanelB_part1 = portfolio1.groupby('signal')['ret'].describe(percentiles = probs).loc[['L','S']].drop(\n",
    "    columns = ['count','max','min']).apply(lambda x:x*100)"
   ]
  },
  {
   "cell_type": "code",
   "execution_count": 112,
   "metadata": {},
   "outputs": [
    {
     "data": {
      "text/html": [
       "<div>\n",
       "<style scoped>\n",
       "    .dataframe tbody tr th:only-of-type {\n",
       "        vertical-align: middle;\n",
       "    }\n",
       "\n",
       "    .dataframe tbody tr th {\n",
       "        vertical-align: top;\n",
       "    }\n",
       "\n",
       "    .dataframe thead th {\n",
       "        text-align: right;\n",
       "    }\n",
       "</style>\n",
       "<table border=\"1\" class=\"dataframe\">\n",
       "  <thead>\n",
       "    <tr style=\"text-align: right;\">\n",
       "      <th></th>\n",
       "      <th>mean</th>\n",
       "      <th>std</th>\n",
       "      <th>1%</th>\n",
       "      <th>5%</th>\n",
       "      <th>25%</th>\n",
       "      <th>50%</th>\n",
       "      <th>75%</th>\n",
       "      <th>95%</th>\n",
       "      <th>99%</th>\n",
       "    </tr>\n",
       "    <tr>\n",
       "      <th>signal</th>\n",
       "      <th></th>\n",
       "      <th></th>\n",
       "      <th></th>\n",
       "      <th></th>\n",
       "      <th></th>\n",
       "      <th></th>\n",
       "      <th></th>\n",
       "      <th></th>\n",
       "      <th></th>\n",
       "    </tr>\n",
       "  </thead>\n",
       "  <tbody>\n",
       "    <tr>\n",
       "      <th>L</th>\n",
       "      <td>1.373574</td>\n",
       "      <td>5.928246</td>\n",
       "      <td>-16.403156</td>\n",
       "      <td>-7.681396</td>\n",
       "      <td>-1.438040</td>\n",
       "      <td>1.657452</td>\n",
       "      <td>4.384842</td>\n",
       "      <td>9.217188</td>\n",
       "      <td>16.602504</td>\n",
       "    </tr>\n",
       "    <tr>\n",
       "      <th>S</th>\n",
       "      <td>1.067091</td>\n",
       "      <td>6.066403</td>\n",
       "      <td>-17.101328</td>\n",
       "      <td>-8.112217</td>\n",
       "      <td>-1.658579</td>\n",
       "      <td>1.485880</td>\n",
       "      <td>4.068795</td>\n",
       "      <td>8.861298</td>\n",
       "      <td>15.205930</td>\n",
       "    </tr>\n",
       "  </tbody>\n",
       "</table>\n",
       "</div>"
      ],
      "text/plain": [
       "            mean       std         1%        5%       25%       50%       75%  \\\n",
       "signal                                                                          \n",
       "L       1.373574  5.928246 -16.403156 -7.681396 -1.438040  1.657452  4.384842   \n",
       "S       1.067091  6.066403 -17.101328 -8.112217 -1.658579  1.485880  4.068795   \n",
       "\n",
       "             95%        99%  \n",
       "signal                       \n",
       "L       9.217188  16.602504  \n",
       "S       8.861298  15.205930  "
      ]
     },
     "execution_count": 112,
     "metadata": {},
     "output_type": "execute_result"
    }
   ],
   "source": [
    "table2PanelB_part1"
   ]
  },
  {
   "cell_type": "code",
   "execution_count": 113,
   "metadata": {},
   "outputs": [],
   "source": [
    "table2PanelB_part2 = pd.DataFrame(NoDivData.groupby('date')['ret'].mean()).describe(percentiles = probs).T.drop(columns = ['count','min','max']).apply(lambda x:x*100)"
   ]
  },
  {
   "cell_type": "code",
   "execution_count": 114,
   "metadata": {},
   "outputs": [],
   "source": [
    "table2PanelB = pd.concat([table2PanelB_part1,table2PanelB_part2])"
   ]
  },
  {
   "cell_type": "code",
   "execution_count": 115,
   "metadata": {},
   "outputs": [],
   "source": [
    "table2PanelB['index'] = ['div_predM','div_NoPredM','NoDiv']"
   ]
  },
  {
   "cell_type": "code",
   "execution_count": 116,
   "metadata": {},
   "outputs": [],
   "source": [
    "table2PanelB.set_index('index',inplace = True)"
   ]
  },
  {
   "cell_type": "code",
   "execution_count": 142,
   "metadata": {},
   "outputs": [],
   "source": [
    "def weighted_average(dataframe):\n",
    "    return (dataframe.ret * dataframe.mcap_lag1).sum() / dataframe.mcap_lag1.sum()"
   ]
  },
  {
   "cell_type": "code",
   "execution_count": 143,
   "metadata": {
    "collapsed": true
   },
   "outputs": [
    {
     "data": {
      "text/plain": [
       "Index(['permno', 'date', 'shrcd', 'hexcd', 'prc', 'vol', 'ret', 'bid', 'ask',\n",
       "       'shrout', 'spread', 'retx', 'month', 'year', 'distcd', 'freq', 'divamt',\n",
       "       'mcap', 'prc_lag1', 'mcap_lag1', 'freq_lag1', 'turnover', 'spread_2',\n",
       "       'Div_Yield', 'div_lag1', 'div_lag2', 'div_lag3', 'div_lag4', 'div_lag5',\n",
       "       'div_lag6', 'div_lag7', 'div_lag8', 'div_lag9', 'div_lag10',\n",
       "       'div_lag11', 'div_lag12', 'gvkey', 'bkvlps', 'date_link', 'N_permno',\n",
       "       'bm', 'divType', 'signal'],\n",
       "      dtype='object')"
      ]
     },
     "execution_count": 143,
     "metadata": {},
     "output_type": "execute_result"
    }
   ],
   "source": [
    "divData.columns"
   ]
  },
  {
   "cell_type": "code",
   "execution_count": 144,
   "metadata": {},
   "outputs": [],
   "source": [
    "port1 = divData.groupby([\"date\", \"signal\"]).apply(lambda x: pd.Series({\"vwret\": weighted_average(x),\n",
    "                                                                                   \"ewret\": x.ret.mean()}))"
   ]
  },
  {
   "cell_type": "code",
   "execution_count": 145,
   "metadata": {
    "collapsed": true
   },
   "outputs": [
    {
     "data": {
      "text/html": [
       "<div>\n",
       "<style scoped>\n",
       "    .dataframe tbody tr th:only-of-type {\n",
       "        vertical-align: middle;\n",
       "    }\n",
       "\n",
       "    .dataframe tbody tr th {\n",
       "        vertical-align: top;\n",
       "    }\n",
       "\n",
       "    .dataframe thead th {\n",
       "        text-align: right;\n",
       "    }\n",
       "</style>\n",
       "<table border=\"1\" class=\"dataframe\">\n",
       "  <thead>\n",
       "    <tr style=\"text-align: right;\">\n",
       "      <th></th>\n",
       "      <th></th>\n",
       "      <th>vwret</th>\n",
       "      <th>ewret</th>\n",
       "    </tr>\n",
       "    <tr>\n",
       "      <th>date</th>\n",
       "      <th>signal</th>\n",
       "      <th></th>\n",
       "      <th></th>\n",
       "    </tr>\n",
       "  </thead>\n",
       "  <tbody>\n",
       "    <tr>\n",
       "      <th rowspan=\"2\" valign=\"top\">1927-02-28</th>\n",
       "      <th></th>\n",
       "      <td>0.042561</td>\n",
       "      <td>0.045608</td>\n",
       "    </tr>\n",
       "    <tr>\n",
       "      <th>S</th>\n",
       "      <td>0.031529</td>\n",
       "      <td>0.044375</td>\n",
       "    </tr>\n",
       "    <tr>\n",
       "      <th rowspan=\"2\" valign=\"top\">1927-03-31</th>\n",
       "      <th></th>\n",
       "      <td>0.017802</td>\n",
       "      <td>0.004913</td>\n",
       "    </tr>\n",
       "    <tr>\n",
       "      <th>S</th>\n",
       "      <td>0.006553</td>\n",
       "      <td>-0.020372</td>\n",
       "    </tr>\n",
       "    <tr>\n",
       "      <th rowspan=\"3\" valign=\"top\">1927-04-30</th>\n",
       "      <th></th>\n",
       "      <td>-0.064381</td>\n",
       "      <td>-0.000682</td>\n",
       "    </tr>\n",
       "    <tr>\n",
       "      <th>L</th>\n",
       "      <td>0.012585</td>\n",
       "      <td>0.003626</td>\n",
       "    </tr>\n",
       "    <tr>\n",
       "      <th>S</th>\n",
       "      <td>0.007545</td>\n",
       "      <td>-0.003761</td>\n",
       "    </tr>\n",
       "    <tr>\n",
       "      <th rowspan=\"3\" valign=\"top\">1927-05-31</th>\n",
       "      <th></th>\n",
       "      <td>0.044645</td>\n",
       "      <td>0.069592</td>\n",
       "    </tr>\n",
       "    <tr>\n",
       "      <th>L</th>\n",
       "      <td>0.056182</td>\n",
       "      <td>0.038077</td>\n",
       "    </tr>\n",
       "    <tr>\n",
       "      <th>S</th>\n",
       "      <td>0.056047</td>\n",
       "      <td>0.045857</td>\n",
       "    </tr>\n",
       "    <tr>\n",
       "      <th rowspan=\"3\" valign=\"top\">1927-06-30</th>\n",
       "      <th></th>\n",
       "      <td>-0.011147</td>\n",
       "      <td>-0.021748</td>\n",
       "    </tr>\n",
       "    <tr>\n",
       "      <th>L</th>\n",
       "      <td>-0.021385</td>\n",
       "      <td>-0.020012</td>\n",
       "    </tr>\n",
       "    <tr>\n",
       "      <th>S</th>\n",
       "      <td>-0.025139</td>\n",
       "      <td>-0.018949</td>\n",
       "    </tr>\n",
       "    <tr>\n",
       "      <th rowspan=\"3\" valign=\"top\">1927-07-31</th>\n",
       "      <th></th>\n",
       "      <td>0.069496</td>\n",
       "      <td>0.044435</td>\n",
       "    </tr>\n",
       "    <tr>\n",
       "      <th>L</th>\n",
       "      <td>0.086880</td>\n",
       "      <td>0.048344</td>\n",
       "    </tr>\n",
       "    <tr>\n",
       "      <th>S</th>\n",
       "      <td>0.068255</td>\n",
       "      <td>0.067024</td>\n",
       "    </tr>\n",
       "    <tr>\n",
       "      <th rowspan=\"3\" valign=\"top\">1927-08-31</th>\n",
       "      <th></th>\n",
       "      <td>0.124403</td>\n",
       "      <td>0.124403</td>\n",
       "    </tr>\n",
       "    <tr>\n",
       "      <th>L</th>\n",
       "      <td>0.037092</td>\n",
       "      <td>0.020785</td>\n",
       "    </tr>\n",
       "    <tr>\n",
       "      <th>S</th>\n",
       "      <td>0.016657</td>\n",
       "      <td>-0.000190</td>\n",
       "    </tr>\n",
       "    <tr>\n",
       "      <th rowspan=\"3\" valign=\"top\">1927-09-30</th>\n",
       "      <th></th>\n",
       "      <td>0.072937</td>\n",
       "      <td>0.064467</td>\n",
       "    </tr>\n",
       "    <tr>\n",
       "      <th>L</th>\n",
       "      <td>0.051930</td>\n",
       "      <td>0.042971</td>\n",
       "    </tr>\n",
       "    <tr>\n",
       "      <th>S</th>\n",
       "      <td>0.048872</td>\n",
       "      <td>0.036663</td>\n",
       "    </tr>\n",
       "    <tr>\n",
       "      <th rowspan=\"3\" valign=\"top\">1927-10-31</th>\n",
       "      <th></th>\n",
       "      <td>0.010471</td>\n",
       "      <td>0.010471</td>\n",
       "    </tr>\n",
       "    <tr>\n",
       "      <th>L</th>\n",
       "      <td>-0.037329</td>\n",
       "      <td>-0.014949</td>\n",
       "    </tr>\n",
       "    <tr>\n",
       "      <th>S</th>\n",
       "      <td>-0.041401</td>\n",
       "      <td>-0.027990</td>\n",
       "    </tr>\n",
       "    <tr>\n",
       "      <th rowspan=\"3\" valign=\"top\">1927-11-30</th>\n",
       "      <th></th>\n",
       "      <td>0.035916</td>\n",
       "      <td>0.028418</td>\n",
       "    </tr>\n",
       "    <tr>\n",
       "      <th>L</th>\n",
       "      <td>0.067996</td>\n",
       "      <td>0.080155</td>\n",
       "    </tr>\n",
       "    <tr>\n",
       "      <th>S</th>\n",
       "      <td>0.065554</td>\n",
       "      <td>0.081967</td>\n",
       "    </tr>\n",
       "    <tr>\n",
       "      <th rowspan=\"2\" valign=\"top\">1927-12-31</th>\n",
       "      <th></th>\n",
       "      <td>0.028562</td>\n",
       "      <td>0.039792</td>\n",
       "    </tr>\n",
       "    <tr>\n",
       "      <th>L</th>\n",
       "      <td>0.028494</td>\n",
       "      <td>0.037982</td>\n",
       "    </tr>\n",
       "    <tr>\n",
       "      <th>...</th>\n",
       "      <th>...</th>\n",
       "      <td>...</td>\n",
       "      <td>...</td>\n",
       "    </tr>\n",
       "    <tr>\n",
       "      <th rowspan=\"3\" valign=\"top\">2011-03-31</th>\n",
       "      <th></th>\n",
       "      <td>-0.004163</td>\n",
       "      <td>0.022399</td>\n",
       "    </tr>\n",
       "    <tr>\n",
       "      <th>L</th>\n",
       "      <td>0.007746</td>\n",
       "      <td>0.017683</td>\n",
       "    </tr>\n",
       "    <tr>\n",
       "      <th>S</th>\n",
       "      <td>0.003150</td>\n",
       "      <td>0.019495</td>\n",
       "    </tr>\n",
       "    <tr>\n",
       "      <th rowspan=\"3\" valign=\"top\">2011-04-30</th>\n",
       "      <th></th>\n",
       "      <td>0.006127</td>\n",
       "      <td>0.012184</td>\n",
       "    </tr>\n",
       "    <tr>\n",
       "      <th>L</th>\n",
       "      <td>0.030746</td>\n",
       "      <td>0.022847</td>\n",
       "    </tr>\n",
       "    <tr>\n",
       "      <th>S</th>\n",
       "      <td>0.030605</td>\n",
       "      <td>0.017791</td>\n",
       "    </tr>\n",
       "    <tr>\n",
       "      <th rowspan=\"3\" valign=\"top\">2011-05-31</th>\n",
       "      <th></th>\n",
       "      <td>-0.020577</td>\n",
       "      <td>-0.028322</td>\n",
       "    </tr>\n",
       "    <tr>\n",
       "      <th>L</th>\n",
       "      <td>-0.013719</td>\n",
       "      <td>-0.017307</td>\n",
       "    </tr>\n",
       "    <tr>\n",
       "      <th>S</th>\n",
       "      <td>-0.009504</td>\n",
       "      <td>-0.010216</td>\n",
       "    </tr>\n",
       "    <tr>\n",
       "      <th rowspan=\"3\" valign=\"top\">2011-06-30</th>\n",
       "      <th></th>\n",
       "      <td>-0.036622</td>\n",
       "      <td>-0.031341</td>\n",
       "    </tr>\n",
       "    <tr>\n",
       "      <th>L</th>\n",
       "      <td>-0.016014</td>\n",
       "      <td>-0.009078</td>\n",
       "    </tr>\n",
       "    <tr>\n",
       "      <th>S</th>\n",
       "      <td>-0.013850</td>\n",
       "      <td>-0.009042</td>\n",
       "    </tr>\n",
       "    <tr>\n",
       "      <th rowspan=\"3\" valign=\"top\">2011-07-31</th>\n",
       "      <th></th>\n",
       "      <td>0.029729</td>\n",
       "      <td>-0.040241</td>\n",
       "    </tr>\n",
       "    <tr>\n",
       "      <th>L</th>\n",
       "      <td>-0.032388</td>\n",
       "      <td>-0.021749</td>\n",
       "    </tr>\n",
       "    <tr>\n",
       "      <th>S</th>\n",
       "      <td>-0.025474</td>\n",
       "      <td>-0.026451</td>\n",
       "    </tr>\n",
       "    <tr>\n",
       "      <th rowspan=\"3\" valign=\"top\">2011-08-31</th>\n",
       "      <th></th>\n",
       "      <td>-0.066855</td>\n",
       "      <td>-0.107950</td>\n",
       "    </tr>\n",
       "    <tr>\n",
       "      <th>L</th>\n",
       "      <td>-0.052979</td>\n",
       "      <td>-0.060679</td>\n",
       "    </tr>\n",
       "    <tr>\n",
       "      <th>S</th>\n",
       "      <td>-0.052733</td>\n",
       "      <td>-0.063335</td>\n",
       "    </tr>\n",
       "    <tr>\n",
       "      <th rowspan=\"3\" valign=\"top\">2011-09-30</th>\n",
       "      <th></th>\n",
       "      <td>-0.070670</td>\n",
       "      <td>-0.135477</td>\n",
       "    </tr>\n",
       "    <tr>\n",
       "      <th>L</th>\n",
       "      <td>-0.078560</td>\n",
       "      <td>-0.085305</td>\n",
       "    </tr>\n",
       "    <tr>\n",
       "      <th>S</th>\n",
       "      <td>-0.067669</td>\n",
       "      <td>-0.089561</td>\n",
       "    </tr>\n",
       "    <tr>\n",
       "      <th rowspan=\"3\" valign=\"top\">2011-10-31</th>\n",
       "      <th></th>\n",
       "      <td>0.122747</td>\n",
       "      <td>0.174697</td>\n",
       "    </tr>\n",
       "    <tr>\n",
       "      <th>L</th>\n",
       "      <td>0.115840</td>\n",
       "      <td>0.133351</td>\n",
       "    </tr>\n",
       "    <tr>\n",
       "      <th>S</th>\n",
       "      <td>0.108204</td>\n",
       "      <td>0.128094</td>\n",
       "    </tr>\n",
       "    <tr>\n",
       "      <th rowspan=\"3\" valign=\"top\">2011-11-30</th>\n",
       "      <th></th>\n",
       "      <td>-0.041871</td>\n",
       "      <td>-0.017587</td>\n",
       "    </tr>\n",
       "    <tr>\n",
       "      <th>L</th>\n",
       "      <td>0.003779</td>\n",
       "      <td>0.005891</td>\n",
       "    </tr>\n",
       "    <tr>\n",
       "      <th>S</th>\n",
       "      <td>0.003982</td>\n",
       "      <td>0.002318</td>\n",
       "    </tr>\n",
       "    <tr>\n",
       "      <th rowspan=\"3\" valign=\"top\">2011-12-31</th>\n",
       "      <th></th>\n",
       "      <td>0.028137</td>\n",
       "      <td>0.001142</td>\n",
       "    </tr>\n",
       "    <tr>\n",
       "      <th>L</th>\n",
       "      <td>0.015590</td>\n",
       "      <td>0.005557</td>\n",
       "    </tr>\n",
       "    <tr>\n",
       "      <th>S</th>\n",
       "      <td>0.009426</td>\n",
       "      <td>0.008063</td>\n",
       "    </tr>\n",
       "  </tbody>\n",
       "</table>\n",
       "<p>3055 rows × 2 columns</p>\n",
       "</div>"
      ],
      "text/plain": [
       "                      vwret     ewret\n",
       "date       signal                    \n",
       "1927-02-28         0.042561  0.045608\n",
       "           S       0.031529  0.044375\n",
       "1927-03-31         0.017802  0.004913\n",
       "           S       0.006553 -0.020372\n",
       "1927-04-30        -0.064381 -0.000682\n",
       "           L       0.012585  0.003626\n",
       "           S       0.007545 -0.003761\n",
       "1927-05-31         0.044645  0.069592\n",
       "           L       0.056182  0.038077\n",
       "           S       0.056047  0.045857\n",
       "1927-06-30        -0.011147 -0.021748\n",
       "           L      -0.021385 -0.020012\n",
       "           S      -0.025139 -0.018949\n",
       "1927-07-31         0.069496  0.044435\n",
       "           L       0.086880  0.048344\n",
       "           S       0.068255  0.067024\n",
       "1927-08-31         0.124403  0.124403\n",
       "           L       0.037092  0.020785\n",
       "           S       0.016657 -0.000190\n",
       "1927-09-30         0.072937  0.064467\n",
       "           L       0.051930  0.042971\n",
       "           S       0.048872  0.036663\n",
       "1927-10-31         0.010471  0.010471\n",
       "           L      -0.037329 -0.014949\n",
       "           S      -0.041401 -0.027990\n",
       "1927-11-30         0.035916  0.028418\n",
       "           L       0.067996  0.080155\n",
       "           S       0.065554  0.081967\n",
       "1927-12-31         0.028562  0.039792\n",
       "           L       0.028494  0.037982\n",
       "...                     ...       ...\n",
       "2011-03-31        -0.004163  0.022399\n",
       "           L       0.007746  0.017683\n",
       "           S       0.003150  0.019495\n",
       "2011-04-30         0.006127  0.012184\n",
       "           L       0.030746  0.022847\n",
       "           S       0.030605  0.017791\n",
       "2011-05-31        -0.020577 -0.028322\n",
       "           L      -0.013719 -0.017307\n",
       "           S      -0.009504 -0.010216\n",
       "2011-06-30        -0.036622 -0.031341\n",
       "           L      -0.016014 -0.009078\n",
       "           S      -0.013850 -0.009042\n",
       "2011-07-31         0.029729 -0.040241\n",
       "           L      -0.032388 -0.021749\n",
       "           S      -0.025474 -0.026451\n",
       "2011-08-31        -0.066855 -0.107950\n",
       "           L      -0.052979 -0.060679\n",
       "           S      -0.052733 -0.063335\n",
       "2011-09-30        -0.070670 -0.135477\n",
       "           L      -0.078560 -0.085305\n",
       "           S      -0.067669 -0.089561\n",
       "2011-10-31         0.122747  0.174697\n",
       "           L       0.115840  0.133351\n",
       "           S       0.108204  0.128094\n",
       "2011-11-30        -0.041871 -0.017587\n",
       "           L       0.003779  0.005891\n",
       "           S       0.003982  0.002318\n",
       "2011-12-31         0.028137  0.001142\n",
       "           L       0.015590  0.005557\n",
       "           S       0.009426  0.008063\n",
       "\n",
       "[3055 rows x 2 columns]"
      ]
     },
     "execution_count": 145,
     "metadata": {},
     "output_type": "execute_result"
    }
   ],
   "source": [
    "port1"
   ]
  },
  {
   "cell_type": "code",
   "execution_count": 146,
   "metadata": {},
   "outputs": [],
   "source": [
    "port1.reset_index(inplace=True)\n",
    "# calculate the total return of equal weight and value weight if we long and short each month\n",
    "port1 = port1.query('signal in([\"L\",\"S\"])').groupby(\"date\").apply(\n",
    "                          lambda x: pd.Series({\"ewret\": sum(np.where(x.signal == \"L\", x.ewret, x.ewret*-1)),\n",
    "                                               \"vwret\": sum(np.where(x.signal == \"L\", x.vwret, x.vwret*-1))}))"
   ]
  },
  {
   "cell_type": "code",
   "execution_count": 195,
   "metadata": {},
   "outputs": [],
   "source": [
    "long1_short2 = port1[['ewret']].describe(percentiles = probs).T.drop(columns = ['count','max','min']).apply(lambda x:x*100)"
   ]
  },
  {
   "cell_type": "code",
   "execution_count": null,
   "metadata": {},
   "outputs": [],
   "source": [
    "long1_short2.insert(loc = 2)"
   ]
  },
  {
   "cell_type": "code",
   "execution_count": 181,
   "metadata": {},
   "outputs": [],
   "source": [
    "port_long = pd.DataFrame(divData.query('signal == \"L\"').groupby('date')['ret'].mean())"
   ]
  },
  {
   "cell_type": "code",
   "execution_count": 184,
   "metadata": {},
   "outputs": [],
   "source": [
    "port_short = pd.DataFrame(NoDivData.groupby('date')['ret'].mean())"
   ]
  },
  {
   "cell_type": "code",
   "execution_count": 191,
   "metadata": {},
   "outputs": [],
   "source": [
    "portfolio2 = port_long.join(port_short,lsuffix = '_long',rsuffix = '_short') >> mutate(monthly_ret = X.ret_long - X.ret_short)"
   ]
  },
  {
   "cell_type": "code",
   "execution_count": 194,
   "metadata": {},
   "outputs": [],
   "source": [
    "long1_short3 = portfolio2[['monthly_ret']].describe(percentiles = probs).T.drop(columns = ['count','max','min']).apply(lambda x:x*100)"
   ]
  },
  {
   "cell_type": "code",
   "execution_count": 208,
   "metadata": {},
   "outputs": [
    {
     "data": {
      "text/html": [
       "<div>\n",
       "<style scoped>\n",
       "    .dataframe tbody tr th:only-of-type {\n",
       "        vertical-align: middle;\n",
       "    }\n",
       "\n",
       "    .dataframe tbody tr th {\n",
       "        vertical-align: top;\n",
       "    }\n",
       "\n",
       "    .dataframe thead th {\n",
       "        text-align: right;\n",
       "    }\n",
       "</style>\n",
       "<table border=\"1\" class=\"dataframe\">\n",
       "  <thead>\n",
       "    <tr style=\"text-align: right;\">\n",
       "      <th></th>\n",
       "      <th>mean</th>\n",
       "      <th>std</th>\n",
       "      <th>1%</th>\n",
       "      <th>5%</th>\n",
       "      <th>25%</th>\n",
       "      <th>50%</th>\n",
       "      <th>75%</th>\n",
       "      <th>95%</th>\n",
       "      <th>99%</th>\n",
       "    </tr>\n",
       "    <tr>\n",
       "      <th>index</th>\n",
       "      <th></th>\n",
       "      <th></th>\n",
       "      <th></th>\n",
       "      <th></th>\n",
       "      <th></th>\n",
       "      <th></th>\n",
       "      <th></th>\n",
       "      <th></th>\n",
       "      <th></th>\n",
       "    </tr>\n",
       "  </thead>\n",
       "  <tbody>\n",
       "    <tr>\n",
       "      <th>div_predM</th>\n",
       "      <td>1.373574</td>\n",
       "      <td>5.928246</td>\n",
       "      <td>-16.403156</td>\n",
       "      <td>-7.681396</td>\n",
       "      <td>-1.438040</td>\n",
       "      <td>1.657452</td>\n",
       "      <td>4.384842</td>\n",
       "      <td>9.217188</td>\n",
       "      <td>16.602504</td>\n",
       "    </tr>\n",
       "    <tr>\n",
       "      <th>div_NoPredM</th>\n",
       "      <td>1.067091</td>\n",
       "      <td>6.066403</td>\n",
       "      <td>-17.101328</td>\n",
       "      <td>-8.112217</td>\n",
       "      <td>-1.658579</td>\n",
       "      <td>1.485880</td>\n",
       "      <td>4.068795</td>\n",
       "      <td>8.861298</td>\n",
       "      <td>15.205930</td>\n",
       "    </tr>\n",
       "    <tr>\n",
       "      <th>NoDiv</th>\n",
       "      <td>0.980859</td>\n",
       "      <td>8.370443</td>\n",
       "      <td>-23.399086</td>\n",
       "      <td>-11.848510</td>\n",
       "      <td>-3.330714</td>\n",
       "      <td>1.536198</td>\n",
       "      <td>5.426408</td>\n",
       "      <td>13.156111</td>\n",
       "      <td>21.093995</td>\n",
       "    </tr>\n",
       "  </tbody>\n",
       "</table>\n",
       "</div>"
      ],
      "text/plain": [
       "                 mean       std         1%         5%       25%       50%  \\\n",
       "index                                                                       \n",
       "div_predM    1.373574  5.928246 -16.403156  -7.681396 -1.438040  1.657452   \n",
       "div_NoPredM  1.067091  6.066403 -17.101328  -8.112217 -1.658579  1.485880   \n",
       "NoDiv        0.980859  8.370443 -23.399086 -11.848510 -3.330714  1.536198   \n",
       "\n",
       "                  75%        95%        99%  \n",
       "index                                        \n",
       "div_predM    4.384842   9.217188  16.602504  \n",
       "div_NoPredM  4.068795   8.861298  15.205930  \n",
       "NoDiv        5.426408  13.156111  21.093995  "
      ]
     },
     "execution_count": 208,
     "metadata": {},
     "output_type": "execute_result"
    }
   ],
   "source": [
    "table2PanelB"
   ]
  },
  {
   "cell_type": "code",
   "execution_count": 204,
   "metadata": {},
   "outputs": [],
   "source": [
    "long1_short2['index'] = 'long1_short2'"
   ]
  },
  {
   "cell_type": "code",
   "execution_count": 210,
   "metadata": {},
   "outputs": [],
   "source": [
    "long1_short2.set_index('index',inplace = True)"
   ]
  },
  {
   "cell_type": "code",
   "execution_count": 212,
   "metadata": {},
   "outputs": [
    {
     "data": {
      "text/html": [
       "<div>\n",
       "<style scoped>\n",
       "    .dataframe tbody tr th:only-of-type {\n",
       "        vertical-align: middle;\n",
       "    }\n",
       "\n",
       "    .dataframe tbody tr th {\n",
       "        vertical-align: top;\n",
       "    }\n",
       "\n",
       "    .dataframe thead th {\n",
       "        text-align: right;\n",
       "    }\n",
       "</style>\n",
       "<table border=\"1\" class=\"dataframe\">\n",
       "  <thead>\n",
       "    <tr style=\"text-align: right;\">\n",
       "      <th></th>\n",
       "      <th>mean</th>\n",
       "      <th>std</th>\n",
       "      <th>1%</th>\n",
       "      <th>5%</th>\n",
       "      <th>25%</th>\n",
       "      <th>50%</th>\n",
       "      <th>75%</th>\n",
       "      <th>95%</th>\n",
       "      <th>99%</th>\n",
       "    </tr>\n",
       "    <tr>\n",
       "      <th>index</th>\n",
       "      <th></th>\n",
       "      <th></th>\n",
       "      <th></th>\n",
       "      <th></th>\n",
       "      <th></th>\n",
       "      <th></th>\n",
       "      <th></th>\n",
       "      <th></th>\n",
       "      <th></th>\n",
       "    </tr>\n",
       "  </thead>\n",
       "  <tbody>\n",
       "    <tr>\n",
       "      <th>long1_short2</th>\n",
       "      <td>0.303787</td>\n",
       "      <td>0.822482</td>\n",
       "      <td>-1.767952</td>\n",
       "      <td>-0.896306</td>\n",
       "      <td>-0.135959</td>\n",
       "      <td>0.282719</td>\n",
       "      <td>0.739372</td>\n",
       "      <td>1.527203</td>\n",
       "      <td>2.605708</td>\n",
       "    </tr>\n",
       "  </tbody>\n",
       "</table>\n",
       "</div>"
      ],
      "text/plain": [
       "                  mean       std        1%        5%       25%       50%  \\\n",
       "index                                                                      \n",
       "long1_short2  0.303787  0.822482 -1.767952 -0.896306 -0.135959  0.282719   \n",
       "\n",
       "                   75%       95%       99%  \n",
       "index                                       \n",
       "long1_short2  0.739372  1.527203  2.605708  "
      ]
     },
     "execution_count": 212,
     "metadata": {},
     "output_type": "execute_result"
    }
   ],
   "source": [
    "long1_short2"
   ]
  },
  {
   "cell_type": "code",
   "execution_count": 213,
   "metadata": {},
   "outputs": [],
   "source": [
    "long1_short3['index'] = 'long1_short3'"
   ]
  },
  {
   "cell_type": "code",
   "execution_count": 214,
   "metadata": {},
   "outputs": [],
   "source": [
    "long1_short3.set_index('index',inplace = True)"
   ]
  },
  {
   "cell_type": "code",
   "execution_count": 215,
   "metadata": {},
   "outputs": [
    {
     "data": {
      "text/html": [
       "<div>\n",
       "<style scoped>\n",
       "    .dataframe tbody tr th:only-of-type {\n",
       "        vertical-align: middle;\n",
       "    }\n",
       "\n",
       "    .dataframe tbody tr th {\n",
       "        vertical-align: top;\n",
       "    }\n",
       "\n",
       "    .dataframe thead th {\n",
       "        text-align: right;\n",
       "    }\n",
       "</style>\n",
       "<table border=\"1\" class=\"dataframe\">\n",
       "  <thead>\n",
       "    <tr style=\"text-align: right;\">\n",
       "      <th></th>\n",
       "      <th>mean</th>\n",
       "      <th>std</th>\n",
       "      <th>1%</th>\n",
       "      <th>5%</th>\n",
       "      <th>25%</th>\n",
       "      <th>50%</th>\n",
       "      <th>75%</th>\n",
       "      <th>95%</th>\n",
       "      <th>99%</th>\n",
       "    </tr>\n",
       "    <tr>\n",
       "      <th>index</th>\n",
       "      <th></th>\n",
       "      <th></th>\n",
       "      <th></th>\n",
       "      <th></th>\n",
       "      <th></th>\n",
       "      <th></th>\n",
       "      <th></th>\n",
       "      <th></th>\n",
       "      <th></th>\n",
       "    </tr>\n",
       "  </thead>\n",
       "  <tbody>\n",
       "    <tr>\n",
       "      <th>long1_short3</th>\n",
       "      <td>0.395042</td>\n",
       "      <td>3.603616</td>\n",
       "      <td>-9.007057</td>\n",
       "      <td>-5.111056</td>\n",
       "      <td>-1.363388</td>\n",
       "      <td>0.341944</td>\n",
       "      <td>2.189092</td>\n",
       "      <td>5.778831</td>\n",
       "      <td>9.465052</td>\n",
       "    </tr>\n",
       "  </tbody>\n",
       "</table>\n",
       "</div>"
      ],
      "text/plain": [
       "                  mean       std        1%        5%       25%       50%  \\\n",
       "index                                                                      \n",
       "long1_short3  0.395042  3.603616 -9.007057 -5.111056 -1.363388  0.341944   \n",
       "\n",
       "                   75%       95%       99%  \n",
       "index                                       \n",
       "long1_short3  2.189092  5.778831  9.465052  "
      ]
     },
     "execution_count": 215,
     "metadata": {},
     "output_type": "execute_result"
    }
   ],
   "source": [
    "long1_short3"
   ]
  },
  {
   "cell_type": "code",
   "execution_count": 217,
   "metadata": {},
   "outputs": [],
   "source": [
    "table2PanelB = pd.concat([table2PanelB,long1_short2,long1_short3])"
   ]
  },
  {
   "cell_type": "code",
   "execution_count": 219,
   "metadata": {},
   "outputs": [],
   "source": [
    "table2PanelB.insert(loc= 2,column = 'sharp_ratio',value = (table2PanelB['mean']-0.297)/table2PanelB['std'])"
   ]
  },
  {
   "cell_type": "code",
   "execution_count": 220,
   "metadata": {},
   "outputs": [
    {
     "data": {
      "text/html": [
       "<div>\n",
       "<style scoped>\n",
       "    .dataframe tbody tr th:only-of-type {\n",
       "        vertical-align: middle;\n",
       "    }\n",
       "\n",
       "    .dataframe tbody tr th {\n",
       "        vertical-align: top;\n",
       "    }\n",
       "\n",
       "    .dataframe thead th {\n",
       "        text-align: right;\n",
       "    }\n",
       "</style>\n",
       "<table border=\"1\" class=\"dataframe\">\n",
       "  <thead>\n",
       "    <tr style=\"text-align: right;\">\n",
       "      <th></th>\n",
       "      <th>mean</th>\n",
       "      <th>std</th>\n",
       "      <th>sharp_ratio</th>\n",
       "      <th>1%</th>\n",
       "      <th>5%</th>\n",
       "      <th>25%</th>\n",
       "      <th>50%</th>\n",
       "      <th>75%</th>\n",
       "      <th>95%</th>\n",
       "      <th>99%</th>\n",
       "    </tr>\n",
       "    <tr>\n",
       "      <th>index</th>\n",
       "      <th></th>\n",
       "      <th></th>\n",
       "      <th></th>\n",
       "      <th></th>\n",
       "      <th></th>\n",
       "      <th></th>\n",
       "      <th></th>\n",
       "      <th></th>\n",
       "      <th></th>\n",
       "      <th></th>\n",
       "    </tr>\n",
       "  </thead>\n",
       "  <tbody>\n",
       "    <tr>\n",
       "      <th>div_predM</th>\n",
       "      <td>1.373574</td>\n",
       "      <td>5.928246</td>\n",
       "      <td>0.181601</td>\n",
       "      <td>-16.403156</td>\n",
       "      <td>-7.681396</td>\n",
       "      <td>-1.438040</td>\n",
       "      <td>1.657452</td>\n",
       "      <td>4.384842</td>\n",
       "      <td>9.217188</td>\n",
       "      <td>16.602504</td>\n",
       "    </tr>\n",
       "    <tr>\n",
       "      <th>div_NoPredM</th>\n",
       "      <td>1.067091</td>\n",
       "      <td>6.066403</td>\n",
       "      <td>0.126944</td>\n",
       "      <td>-17.101328</td>\n",
       "      <td>-8.112217</td>\n",
       "      <td>-1.658579</td>\n",
       "      <td>1.485880</td>\n",
       "      <td>4.068795</td>\n",
       "      <td>8.861298</td>\n",
       "      <td>15.205930</td>\n",
       "    </tr>\n",
       "    <tr>\n",
       "      <th>NoDiv</th>\n",
       "      <td>0.980859</td>\n",
       "      <td>8.370443</td>\n",
       "      <td>0.081699</td>\n",
       "      <td>-23.399086</td>\n",
       "      <td>-11.848510</td>\n",
       "      <td>-3.330714</td>\n",
       "      <td>1.536198</td>\n",
       "      <td>5.426408</td>\n",
       "      <td>13.156111</td>\n",
       "      <td>21.093995</td>\n",
       "    </tr>\n",
       "    <tr>\n",
       "      <th>long1_short2</th>\n",
       "      <td>0.303787</td>\n",
       "      <td>0.822482</td>\n",
       "      <td>0.008252</td>\n",
       "      <td>-1.767952</td>\n",
       "      <td>-0.896306</td>\n",
       "      <td>-0.135959</td>\n",
       "      <td>0.282719</td>\n",
       "      <td>0.739372</td>\n",
       "      <td>1.527203</td>\n",
       "      <td>2.605708</td>\n",
       "    </tr>\n",
       "    <tr>\n",
       "      <th>long1_short3</th>\n",
       "      <td>0.395042</td>\n",
       "      <td>3.603616</td>\n",
       "      <td>0.027207</td>\n",
       "      <td>-9.007057</td>\n",
       "      <td>-5.111056</td>\n",
       "      <td>-1.363388</td>\n",
       "      <td>0.341944</td>\n",
       "      <td>2.189092</td>\n",
       "      <td>5.778831</td>\n",
       "      <td>9.465052</td>\n",
       "    </tr>\n",
       "  </tbody>\n",
       "</table>\n",
       "</div>"
      ],
      "text/plain": [
       "                  mean       std  sharp_ratio         1%         5%       25%  \\\n",
       "index                                                                           \n",
       "div_predM     1.373574  5.928246     0.181601 -16.403156  -7.681396 -1.438040   \n",
       "div_NoPredM   1.067091  6.066403     0.126944 -17.101328  -8.112217 -1.658579   \n",
       "NoDiv         0.980859  8.370443     0.081699 -23.399086 -11.848510 -3.330714   \n",
       "long1_short2  0.303787  0.822482     0.008252  -1.767952  -0.896306 -0.135959   \n",
       "long1_short3  0.395042  3.603616     0.027207  -9.007057  -5.111056 -1.363388   \n",
       "\n",
       "                   50%       75%        95%        99%  \n",
       "index                                                   \n",
       "div_predM     1.657452  4.384842   9.217188  16.602504  \n",
       "div_NoPredM   1.485880  4.068795   8.861298  15.205930  \n",
       "NoDiv         1.536198  5.426408  13.156111  21.093995  \n",
       "long1_short2  0.282719  0.739372   1.527203   2.605708  \n",
       "long1_short3  0.341944  2.189092   5.778831   9.465052  "
      ]
     },
     "execution_count": 220,
     "metadata": {},
     "output_type": "execute_result"
    }
   ],
   "source": [
    "table2PanelB"
   ]
  },
  {
   "cell_type": "code",
   "execution_count": 222,
   "metadata": {},
   "outputs": [],
   "source": [
    "portfolio2['cumulative_ret'] = np.cumprod(1+portfolio2['monthly_ret'])"
   ]
  },
  {
   "cell_type": "code",
   "execution_count": 227,
   "metadata": {},
   "outputs": [],
   "source": [
    "port1['cumulative_ret_ewret'] = np.cumprod(1+port1['ewret'])"
   ]
  },
  {
   "cell_type": "code",
   "execution_count": 228,
   "metadata": {},
   "outputs": [
    {
     "data": {
      "text/html": [
       "<div>\n",
       "<style scoped>\n",
       "    .dataframe tbody tr th:only-of-type {\n",
       "        vertical-align: middle;\n",
       "    }\n",
       "\n",
       "    .dataframe tbody tr th {\n",
       "        vertical-align: top;\n",
       "    }\n",
       "\n",
       "    .dataframe thead th {\n",
       "        text-align: right;\n",
       "    }\n",
       "</style>\n",
       "<table border=\"1\" class=\"dataframe\">\n",
       "  <thead>\n",
       "    <tr style=\"text-align: right;\">\n",
       "      <th></th>\n",
       "      <th>ewret</th>\n",
       "      <th>vwret</th>\n",
       "      <th>cumulative_ret_ewret</th>\n",
       "    </tr>\n",
       "    <tr>\n",
       "      <th>date</th>\n",
       "      <th></th>\n",
       "      <th></th>\n",
       "      <th></th>\n",
       "    </tr>\n",
       "  </thead>\n",
       "  <tbody>\n",
       "    <tr>\n",
       "      <th>2011-08-31</th>\n",
       "      <td>0.002656</td>\n",
       "      <td>-0.000245</td>\n",
       "      <td>21.032634</td>\n",
       "    </tr>\n",
       "    <tr>\n",
       "      <th>2011-09-30</th>\n",
       "      <td>0.004255</td>\n",
       "      <td>-0.010892</td>\n",
       "      <td>21.122131</td>\n",
       "    </tr>\n",
       "    <tr>\n",
       "      <th>2011-10-31</th>\n",
       "      <td>0.005257</td>\n",
       "      <td>0.007635</td>\n",
       "      <td>21.233173</td>\n",
       "    </tr>\n",
       "    <tr>\n",
       "      <th>2011-11-30</th>\n",
       "      <td>0.003573</td>\n",
       "      <td>-0.000203</td>\n",
       "      <td>21.309041</td>\n",
       "    </tr>\n",
       "    <tr>\n",
       "      <th>2011-12-31</th>\n",
       "      <td>-0.002505</td>\n",
       "      <td>0.006164</td>\n",
       "      <td>21.255659</td>\n",
       "    </tr>\n",
       "  </tbody>\n",
       "</table>\n",
       "</div>"
      ],
      "text/plain": [
       "               ewret     vwret  cumulative_ret_ewret\n",
       "date                                                \n",
       "2011-08-31  0.002656 -0.000245             21.032634\n",
       "2011-09-30  0.004255 -0.010892             21.122131\n",
       "2011-10-31  0.005257  0.007635             21.233173\n",
       "2011-11-30  0.003573 -0.000203             21.309041\n",
       "2011-12-31 -0.002505  0.006164             21.255659"
      ]
     },
     "execution_count": 228,
     "metadata": {},
     "output_type": "execute_result"
    }
   ],
   "source": [
    "port1.tail()"
   ]
  },
  {
   "cell_type": "code",
   "execution_count": 224,
   "metadata": {},
   "outputs": [
    {
     "data": {
      "text/html": [
       "<div>\n",
       "<style scoped>\n",
       "    .dataframe tbody tr th:only-of-type {\n",
       "        vertical-align: middle;\n",
       "    }\n",
       "\n",
       "    .dataframe tbody tr th {\n",
       "        vertical-align: top;\n",
       "    }\n",
       "\n",
       "    .dataframe thead th {\n",
       "        text-align: right;\n",
       "    }\n",
       "</style>\n",
       "<table border=\"1\" class=\"dataframe\">\n",
       "  <thead>\n",
       "    <tr style=\"text-align: right;\">\n",
       "      <th></th>\n",
       "      <th>ret_long</th>\n",
       "      <th>ret_short</th>\n",
       "      <th>monthly_ret</th>\n",
       "      <th>cumulative_ret</th>\n",
       "    </tr>\n",
       "    <tr>\n",
       "      <th>date</th>\n",
       "      <th></th>\n",
       "      <th></th>\n",
       "      <th></th>\n",
       "      <th></th>\n",
       "    </tr>\n",
       "  </thead>\n",
       "  <tbody>\n",
       "    <tr>\n",
       "      <th>2011-08-31</th>\n",
       "      <td>-0.060679</td>\n",
       "      <td>-0.106342</td>\n",
       "      <td>0.045663</td>\n",
       "      <td>27.118517</td>\n",
       "    </tr>\n",
       "    <tr>\n",
       "      <th>2011-09-30</th>\n",
       "      <td>-0.085305</td>\n",
       "      <td>-0.112493</td>\n",
       "      <td>0.027187</td>\n",
       "      <td>27.855799</td>\n",
       "    </tr>\n",
       "    <tr>\n",
       "      <th>2011-10-31</th>\n",
       "      <td>0.133351</td>\n",
       "      <td>0.139939</td>\n",
       "      <td>-0.006588</td>\n",
       "      <td>27.672290</td>\n",
       "    </tr>\n",
       "    <tr>\n",
       "      <th>2011-11-30</th>\n",
       "      <td>0.005891</td>\n",
       "      <td>-0.016764</td>\n",
       "      <td>0.022655</td>\n",
       "      <td>28.299201</td>\n",
       "    </tr>\n",
       "    <tr>\n",
       "      <th>2011-12-31</th>\n",
       "      <td>0.005557</td>\n",
       "      <td>0.004643</td>\n",
       "      <td>0.000915</td>\n",
       "      <td>28.325092</td>\n",
       "    </tr>\n",
       "  </tbody>\n",
       "</table>\n",
       "</div>"
      ],
      "text/plain": [
       "            ret_long  ret_short  monthly_ret  cumulative_ret\n",
       "date                                                        \n",
       "2011-08-31 -0.060679  -0.106342     0.045663       27.118517\n",
       "2011-09-30 -0.085305  -0.112493     0.027187       27.855799\n",
       "2011-10-31  0.133351   0.139939    -0.006588       27.672290\n",
       "2011-11-30  0.005891  -0.016764     0.022655       28.299201\n",
       "2011-12-31  0.005557   0.004643     0.000915       28.325092"
      ]
     },
     "execution_count": 224,
     "metadata": {},
     "output_type": "execute_result"
    }
   ],
   "source": [
    "portfolio2.tail()"
   ]
  },
  {
   "cell_type": "code",
   "execution_count": null,
   "metadata": {},
   "outputs": [],
   "source": []
  }
 ],
 "metadata": {
  "kernelspec": {
   "display_name": "Python 3",
   "language": "python",
   "name": "python3"
  },
  "language_info": {
   "codemirror_mode": {
    "name": "ipython",
    "version": 3
   },
   "file_extension": ".py",
   "mimetype": "text/x-python",
   "name": "python",
   "nbconvert_exporter": "python",
   "pygments_lexer": "ipython3",
   "version": "3.7.1"
  }
 },
 "nbformat": 4,
 "nbformat_minor": 2
}
