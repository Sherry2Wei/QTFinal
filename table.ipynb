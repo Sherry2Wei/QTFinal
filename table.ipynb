{
 "cells": [
  {
   "cell_type": "code",
   "execution_count": 1,
   "metadata": {},
   "outputs": [],
   "source": [
    "import os\n",
    "from dfply import *\n",
    "import pandas as pd\n",
    "import datetime\n",
    "np.set_printoptions(suppress=True) \n",
    "os.chdir(r\"D:\\03lecture\\QT\\codeBackup\\data\")\n",
    "from math import *"
   ]
  },
  {
   "cell_type": "code",
   "execution_count": 2,
   "metadata": {},
   "outputs": [],
   "source": [
    "def end_of_month(any_day):\n",
    "    next_month = any_day.replace(day=28) + datetime.timedelta(days=4)\n",
    "    return next_month - datetime.timedelta(days=next_month.day)"
   ]
  },
  {
   "cell_type": "code",
   "execution_count": 3,
   "metadata": {},
   "outputs": [],
   "source": [
    "# formatting of msf\n",
    "msf = pd.read_csv(\"msf.csv\")\n",
    "msf[\"date\"] = pd.to_datetime(msf[\"date\"], format='%Y%m%d')\n",
    "msf[\"date\"] = [end_of_month(date) for date in msf[\"date\"]]\n",
    "msf.columns = [i.lower() for i in msf.columns]\n",
    "msf[\"month\"] = [date.month for date in msf[\"date\"]]\n",
    "msf[\"year\"] = msf.date.apply(lambda x:x.year)\n",
    "# formatting of mse"
   ]
  },
  {
   "cell_type": "code",
   "execution_count": 4,
   "metadata": {},
   "outputs": [
    {
     "name": "stdout",
     "output_type": "stream",
     "text": [
      "Wall time: 23.1 s\n"
     ]
    }
   ],
   "source": [
    "%%time\n",
    "mse = pd.read_csv(\"mse.csv\")\n",
    "mse.columns = [i.lower() for i in mse.columns]\n",
    "mse[\"exdt\"] = pd.to_datetime(mse[\"exdt\"], format='%Y%m%d')\n",
    "mse[\"dclrdt\"] = pd.to_datetime(mse[\"dclrdt\"], format='%Y%m%d')\n",
    "mse[\"paydt\"] = pd.to_datetime(mse[\"paydt\"], format='%Y%m%d')\n",
    "mse = mse >> mask(X.divamt == X.divamt) ## dropna subset == divamt\n",
    "mse[\"date\"] = [end_of_month(date) for date in mse[\"exdt\"]]\n",
    "# merge mse and msf\n",
    "data = pd.merge(msf, mse, how=\"outer\", on=[\"permno\", \"date\"])\n",
    "data[\"mcap\"] = data[\"prc\"] * data[\"shrout\"]\n",
    "# fill na with distcd if the stock has distcd before so that we can identify stock that pay dividend\n",
    "# anvd stock that don't pay\n",
    "data[\"distcd\"] = data.groupby(\"permno\")[\"distcd\"].transform(lambda x: x.fillna(method=\"ffill\"))\n",
    "# take out the first two digit of the dist code which represent what kind of dividend is pay during the distrubtion\n",
    "data['freq'] = data.distcd.apply(lambda x:str(x)[:3])"
   ]
  },
  {
   "cell_type": "code",
   "execution_count": 5,
   "metadata": {},
   "outputs": [
    {
     "data": {
      "text/html": [
       "<div>\n",
       "<style scoped>\n",
       "    .dataframe tbody tr th:only-of-type {\n",
       "        vertical-align: middle;\n",
       "    }\n",
       "\n",
       "    .dataframe tbody tr th {\n",
       "        vertical-align: top;\n",
       "    }\n",
       "\n",
       "    .dataframe thead th {\n",
       "        text-align: right;\n",
       "    }\n",
       "</style>\n",
       "<table border=\"1\" class=\"dataframe\">\n",
       "  <thead>\n",
       "    <tr style=\"text-align: right;\">\n",
       "      <th></th>\n",
       "      <th>permno</th>\n",
       "      <th>date</th>\n",
       "      <th>shrcd</th>\n",
       "      <th>hexcd</th>\n",
       "      <th>bidlo</th>\n",
       "      <th>askhi</th>\n",
       "      <th>prc</th>\n",
       "      <th>vol</th>\n",
       "      <th>ret</th>\n",
       "      <th>bid</th>\n",
       "      <th>...</th>\n",
       "      <th>retx</th>\n",
       "      <th>month</th>\n",
       "      <th>year</th>\n",
       "      <th>distcd</th>\n",
       "      <th>divamt</th>\n",
       "      <th>dclrdt</th>\n",
       "      <th>exdt</th>\n",
       "      <th>paydt</th>\n",
       "      <th>mcap</th>\n",
       "      <th>freq</th>\n",
       "    </tr>\n",
       "  </thead>\n",
       "  <tbody>\n",
       "    <tr>\n",
       "      <th>0</th>\n",
       "      <td>10000</td>\n",
       "      <td>1985-12-31</td>\n",
       "      <td>NaN</td>\n",
       "      <td>3</td>\n",
       "      <td>NaN</td>\n",
       "      <td>NaN</td>\n",
       "      <td>NaN</td>\n",
       "      <td>NaN</td>\n",
       "      <td>NaN</td>\n",
       "      <td>NaN</td>\n",
       "      <td>...</td>\n",
       "      <td>NaN</td>\n",
       "      <td>12</td>\n",
       "      <td>1985</td>\n",
       "      <td>NaN</td>\n",
       "      <td>NaN</td>\n",
       "      <td>NaT</td>\n",
       "      <td>NaT</td>\n",
       "      <td>NaT</td>\n",
       "      <td>NaN</td>\n",
       "      <td>nan</td>\n",
       "    </tr>\n",
       "    <tr>\n",
       "      <th>1</th>\n",
       "      <td>10000</td>\n",
       "      <td>1986-01-31</td>\n",
       "      <td>10.0</td>\n",
       "      <td>3</td>\n",
       "      <td>-2.50</td>\n",
       "      <td>-4.4375</td>\n",
       "      <td>-4.3750</td>\n",
       "      <td>1771.0</td>\n",
       "      <td>C</td>\n",
       "      <td>NaN</td>\n",
       "      <td>...</td>\n",
       "      <td>C</td>\n",
       "      <td>1</td>\n",
       "      <td>1986</td>\n",
       "      <td>NaN</td>\n",
       "      <td>NaN</td>\n",
       "      <td>NaT</td>\n",
       "      <td>NaT</td>\n",
       "      <td>NaT</td>\n",
       "      <td>-16100.0</td>\n",
       "      <td>nan</td>\n",
       "    </tr>\n",
       "    <tr>\n",
       "      <th>2</th>\n",
       "      <td>10000</td>\n",
       "      <td>1986-02-28</td>\n",
       "      <td>10.0</td>\n",
       "      <td>3</td>\n",
       "      <td>-3.25</td>\n",
       "      <td>-4.3750</td>\n",
       "      <td>-3.2500</td>\n",
       "      <td>828.0</td>\n",
       "      <td>-0.257143</td>\n",
       "      <td>NaN</td>\n",
       "      <td>...</td>\n",
       "      <td>-0.257143</td>\n",
       "      <td>2</td>\n",
       "      <td>1986</td>\n",
       "      <td>NaN</td>\n",
       "      <td>NaN</td>\n",
       "      <td>NaT</td>\n",
       "      <td>NaT</td>\n",
       "      <td>NaT</td>\n",
       "      <td>-11960.0</td>\n",
       "      <td>nan</td>\n",
       "    </tr>\n",
       "    <tr>\n",
       "      <th>3</th>\n",
       "      <td>10000</td>\n",
       "      <td>1986-03-31</td>\n",
       "      <td>10.0</td>\n",
       "      <td>3</td>\n",
       "      <td>-3.25</td>\n",
       "      <td>-4.4375</td>\n",
       "      <td>-4.4375</td>\n",
       "      <td>1078.0</td>\n",
       "      <td>0.365385</td>\n",
       "      <td>NaN</td>\n",
       "      <td>...</td>\n",
       "      <td>0.365385</td>\n",
       "      <td>3</td>\n",
       "      <td>1986</td>\n",
       "      <td>NaN</td>\n",
       "      <td>NaN</td>\n",
       "      <td>NaT</td>\n",
       "      <td>NaT</td>\n",
       "      <td>NaT</td>\n",
       "      <td>-16330.0</td>\n",
       "      <td>nan</td>\n",
       "    </tr>\n",
       "    <tr>\n",
       "      <th>4</th>\n",
       "      <td>10000</td>\n",
       "      <td>1986-04-30</td>\n",
       "      <td>10.0</td>\n",
       "      <td>3</td>\n",
       "      <td>-4.00</td>\n",
       "      <td>-4.3125</td>\n",
       "      <td>-4.0000</td>\n",
       "      <td>957.0</td>\n",
       "      <td>-0.098592</td>\n",
       "      <td>NaN</td>\n",
       "      <td>...</td>\n",
       "      <td>-0.098592</td>\n",
       "      <td>4</td>\n",
       "      <td>1986</td>\n",
       "      <td>NaN</td>\n",
       "      <td>NaN</td>\n",
       "      <td>NaT</td>\n",
       "      <td>NaT</td>\n",
       "      <td>NaT</td>\n",
       "      <td>-15172.0</td>\n",
       "      <td>nan</td>\n",
       "    </tr>\n",
       "  </tbody>\n",
       "</table>\n",
       "<p>5 rows × 23 columns</p>\n",
       "</div>"
      ],
      "text/plain": [
       "   permno       date  shrcd  hexcd  bidlo   askhi     prc     vol        ret  \\\n",
       "0   10000 1985-12-31    NaN      3    NaN     NaN     NaN     NaN        NaN   \n",
       "1   10000 1986-01-31   10.0      3  -2.50 -4.4375 -4.3750  1771.0          C   \n",
       "2   10000 1986-02-28   10.0      3  -3.25 -4.3750 -3.2500   828.0  -0.257143   \n",
       "3   10000 1986-03-31   10.0      3  -3.25 -4.4375 -4.4375  1078.0   0.365385   \n",
       "4   10000 1986-04-30   10.0      3  -4.00 -4.3125 -4.0000   957.0  -0.098592   \n",
       "\n",
       "   bid ...        retx  month  year distcd  divamt  dclrdt  exdt  paydt  \\\n",
       "0  NaN ...         NaN     12  1985    NaN     NaN     NaT   NaT    NaT   \n",
       "1  NaN ...           C      1  1986    NaN     NaN     NaT   NaT    NaT   \n",
       "2  NaN ...   -0.257143      2  1986    NaN     NaN     NaT   NaT    NaT   \n",
       "3  NaN ...    0.365385      3  1986    NaN     NaN     NaT   NaT    NaT   \n",
       "4  NaN ...   -0.098592      4  1986    NaN     NaN     NaT   NaT    NaT   \n",
       "\n",
       "      mcap freq  \n",
       "0      NaN  nan  \n",
       "1 -16100.0  nan  \n",
       "2 -11960.0  nan  \n",
       "3 -16330.0  nan  \n",
       "4 -15172.0  nan  \n",
       "\n",
       "[5 rows x 23 columns]"
      ]
     },
     "execution_count": 5,
     "metadata": {},
     "output_type": "execute_result"
    }
   ],
   "source": [
    "data.head()"
   ]
  },
  {
   "cell_type": "code",
   "execution_count": 6,
   "metadata": {},
   "outputs": [],
   "source": [
    "data[\"prc_lag\"] = data.groupby(\"permno\")[\"prc\"].shift(1)\n",
    "# data set with stock that pay div and stock that don't pay (divtype = nan)\n",
    "data['turnover'] = data['vol']/data['shrout']\n",
    "data['spread_2'] = data['ask']-data['bid']"
   ]
  },
  {
   "cell_type": "code",
   "execution_count": 7,
   "metadata": {},
   "outputs": [],
   "source": [
    "data = data >> arrange(X.permno, X.date)"
   ]
  },
  {
   "cell_type": "code",
   "execution_count": 8,
   "metadata": {},
   "outputs": [],
   "source": [
    "for i in range(12):\n",
    "    div_lag = 'div_lag' + str(i + 1)\n",
    "    data[div_lag] = data.groupby('permno')['divamt'].shift(i+1)"
   ]
  },
  {
   "cell_type": "code",
   "execution_count": 9,
   "metadata": {},
   "outputs": [],
   "source": [
    "## filter on the basic conditions.\n",
    "dataUse = data.query('date <= \"2011-12-31\" &'\n",
    "                          'shrcd in([10,11]) &'\n",
    "                          'hexcd in([1,2,3]) &'\n",
    "                          'prc_lag >= 5 &'\n",
    "                          'ret not in([\"B\",\"C\"])')"
   ]
  },
  {
   "cell_type": "code",
   "execution_count": 10,
   "metadata": {},
   "outputs": [
    {
     "name": "stderr",
     "output_type": "stream",
     "text": [
      "C:\\Users\\sherrywei\\Anaconda3\\lib\\site-packages\\ipykernel_launcher.py:1: SettingWithCopyWarning: \n",
      "A value is trying to be set on a copy of a slice from a DataFrame.\n",
      "Try using .loc[row_indexer,col_indexer] = value instead\n",
      "\n",
      "See the caveats in the documentation: http://pandas.pydata.org/pandas-docs/stable/indexing.html#indexing-view-versus-copy\n",
      "  \"\"\"Entry point for launching an IPython kernel.\n"
     ]
    }
   ],
   "source": [
    "dataUse['ret'] = dataUse.ret.astype('float')"
   ]
  },
  {
   "cell_type": "markdown",
   "metadata": {},
   "source": [
    "### <font face = 'Times New Roman'>Panel C: Percent of firm-months with dividend in the last year"
   ]
  },
  {
   "cell_type": "code",
   "execution_count": 11,
   "metadata": {},
   "outputs": [],
   "source": [
    "DivFreq = pd.DataFrame(dataUse.groupby(['year','freq'])['freq'].count())\n",
    "DivFreq['percent'] = DivFreq.freq/DivFreq.groupby(level = 0).freq.transform(np.sum)\n",
    "DivFreq.columns = ['count','percent']\n",
    "DivFreq = DivFreq.reset_index()"
   ]
  },
  {
   "cell_type": "code",
   "execution_count": 12,
   "metadata": {
    "collapsed": true
   },
   "outputs": [
    {
     "data": {
      "text/plain": [
       "freq\n",
       "120    0.000066\n",
       "121    0.160730\n",
       "122    0.003501\n",
       "123    0.562584\n",
       "124    0.016432\n",
       "125    0.010084\n",
       "126    0.004588\n",
       "127    0.030400\n",
       "128    0.002425\n",
       "129    0.002162\n",
       "131    0.001126\n",
       "132    0.000367\n",
       "133    0.002142\n",
       "134    0.001562\n",
       "135    0.000482\n",
       "136    0.000156\n",
       "137    0.000475\n",
       "171    0.001155\n",
       "177    0.000353\n",
       "181    0.001529\n",
       "187    0.001321\n",
       "199    0.000180\n",
       "nan    0.207178\n",
       "Name: percent, dtype: float64"
      ]
     },
     "execution_count": 12,
     "metadata": {},
     "output_type": "execute_result"
    }
   ],
   "source": [
    "DivFreq.groupby('freq')['percent'].mean()"
   ]
  },
  {
   "cell_type": "markdown",
   "metadata": {},
   "source": [
    "<font face = \"Times New Roman\"> Panel B summary statistics of non-dividend companies"
   ]
  },
  {
   "cell_type": "code",
   "execution_count": 13,
   "metadata": {},
   "outputs": [],
   "source": [
    "NoDivData = dataUse.query('freq not in([\"120\",\"121\",\"123\",\"124\",\"125\"])')"
   ]
  },
  {
   "cell_type": "code",
   "execution_count": 14,
   "metadata": {},
   "outputs": [
    {
     "data": {
      "text/plain": [
       "703120"
      ]
     },
     "execution_count": 14,
     "metadata": {},
     "output_type": "execute_result"
    }
   ],
   "source": [
    "NoDivData.shape[0] ## number of firm months"
   ]
  },
  {
   "cell_type": "code",
   "execution_count": 15,
   "metadata": {},
   "outputs": [
    {
     "data": {
      "text/plain": [
       "15916"
      ]
     },
     "execution_count": 15,
     "metadata": {},
     "output_type": "execute_result"
    }
   ],
   "source": [
    "len(set(NoDivData.permno)) ## number of firms"
   ]
  },
  {
   "cell_type": "code",
   "execution_count": 16,
   "metadata": {},
   "outputs": [
    {
     "data": {
      "text/html": [
       "<div>\n",
       "<style scoped>\n",
       "    .dataframe tbody tr th:only-of-type {\n",
       "        vertical-align: middle;\n",
       "    }\n",
       "\n",
       "    .dataframe tbody tr th {\n",
       "        vertical-align: top;\n",
       "    }\n",
       "\n",
       "    .dataframe thead th {\n",
       "        text-align: right;\n",
       "    }\n",
       "</style>\n",
       "<table border=\"1\" class=\"dataframe\">\n",
       "  <thead>\n",
       "    <tr style=\"text-align: right;\">\n",
       "      <th></th>\n",
       "      <th>count</th>\n",
       "      <th>mean</th>\n",
       "      <th>std</th>\n",
       "      <th>min</th>\n",
       "      <th>25%</th>\n",
       "      <th>50%</th>\n",
       "      <th>75%</th>\n",
       "      <th>max</th>\n",
       "    </tr>\n",
       "  </thead>\n",
       "  <tbody>\n",
       "    <tr>\n",
       "      <th>mcap</th>\n",
       "      <td>699168.0</td>\n",
       "      <td>904461.272922</td>\n",
       "      <td>6.148122e+06</td>\n",
       "      <td>-1.776986e+07</td>\n",
       "      <td>43704.000000</td>\n",
       "      <td>139517.750000</td>\n",
       "      <td>462638.077500</td>\n",
       "      <td>6.024329e+08</td>\n",
       "    </tr>\n",
       "    <tr>\n",
       "      <th>spread_2</th>\n",
       "      <td>560088.0</td>\n",
       "      <td>0.371720</td>\n",
       "      <td>4.307926e+00</td>\n",
       "      <td>-3.312500e+00</td>\n",
       "      <td>0.050000</td>\n",
       "      <td>0.210000</td>\n",
       "      <td>0.375000</td>\n",
       "      <td>6.500000e+02</td>\n",
       "    </tr>\n",
       "    <tr>\n",
       "      <th>permno</th>\n",
       "      <td>703120.0</td>\n",
       "      <td>62963.804737</td>\n",
       "      <td>2.730275e+04</td>\n",
       "      <td>1.000100e+04</td>\n",
       "      <td>40125.000000</td>\n",
       "      <td>77089.000000</td>\n",
       "      <td>83800.000000</td>\n",
       "      <td>9.343600e+04</td>\n",
       "    </tr>\n",
       "    <tr>\n",
       "      <th>turnover</th>\n",
       "      <td>702615.0</td>\n",
       "      <td>1.535890</td>\n",
       "      <td>2.392034e+00</td>\n",
       "      <td>0.000000e+00</td>\n",
       "      <td>0.358867</td>\n",
       "      <td>0.875369</td>\n",
       "      <td>1.904061</td>\n",
       "      <td>3.041669e+02</td>\n",
       "    </tr>\n",
       "  </tbody>\n",
       "</table>\n",
       "</div>"
      ],
      "text/plain": [
       "             count           mean           std           min           25%  \\\n",
       "mcap      699168.0  904461.272922  6.148122e+06 -1.776986e+07  43704.000000   \n",
       "spread_2  560088.0       0.371720  4.307926e+00 -3.312500e+00      0.050000   \n",
       "permno    703120.0   62963.804737  2.730275e+04  1.000100e+04  40125.000000   \n",
       "turnover  702615.0       1.535890  2.392034e+00  0.000000e+00      0.358867   \n",
       "\n",
       "                    50%            75%           max  \n",
       "mcap      139517.750000  462638.077500  6.024329e+08  \n",
       "spread_2       0.210000       0.375000  6.500000e+02  \n",
       "permno     77089.000000   83800.000000  9.343600e+04  \n",
       "turnover       0.875369       1.904061  3.041669e+02  "
      ]
     },
     "execution_count": 16,
     "metadata": {},
     "output_type": "execute_result"
    }
   ],
   "source": [
    "NoDivData[[\"mcap\", \"spread_2\", \"permno\",\"turnover\"]].describe().T"
   ]
  },
  {
   "cell_type": "markdown",
   "metadata": {},
   "source": [
    "### <font face = 'Times New Roman'>  Panel C-Column 2: Percent of dividend observations"
   ]
  },
  {
   "cell_type": "code",
   "execution_count": 17,
   "metadata": {},
   "outputs": [],
   "source": [
    "divData = dataUse.query('freq in([\"120\",\"121\",\"123\",\"124\",\"125\"])').dropna(subset = ['distcd'])"
   ]
  },
  {
   "cell_type": "code",
   "execution_count": 18,
   "metadata": {},
   "outputs": [],
   "source": [
    "DivFreq2 = pd.DataFrame(divData.groupby('freq')['freq'].count())"
   ]
  },
  {
   "cell_type": "code",
   "execution_count": 19,
   "metadata": {},
   "outputs": [],
   "source": [
    "DivFreq2.columns = ['count']"
   ]
  },
  {
   "cell_type": "code",
   "execution_count": 20,
   "metadata": {},
   "outputs": [
    {
     "data": {
      "text/html": [
       "<div>\n",
       "<style scoped>\n",
       "    .dataframe tbody tr th:only-of-type {\n",
       "        vertical-align: middle;\n",
       "    }\n",
       "\n",
       "    .dataframe tbody tr th {\n",
       "        vertical-align: top;\n",
       "    }\n",
       "\n",
       "    .dataframe thead th {\n",
       "        text-align: right;\n",
       "    }\n",
       "</style>\n",
       "<table border=\"1\" class=\"dataframe\">\n",
       "  <thead>\n",
       "    <tr style=\"text-align: right;\">\n",
       "      <th></th>\n",
       "      <th>count</th>\n",
       "    </tr>\n",
       "    <tr>\n",
       "      <th>freq</th>\n",
       "      <th></th>\n",
       "    </tr>\n",
       "  </thead>\n",
       "  <tbody>\n",
       "    <tr>\n",
       "      <th>120</th>\n",
       "      <td>5</td>\n",
       "    </tr>\n",
       "    <tr>\n",
       "      <th>121</th>\n",
       "      <td>135487</td>\n",
       "    </tr>\n",
       "    <tr>\n",
       "      <th>123</th>\n",
       "      <td>1126076</td>\n",
       "    </tr>\n",
       "    <tr>\n",
       "      <th>124</th>\n",
       "      <td>37890</td>\n",
       "    </tr>\n",
       "    <tr>\n",
       "      <th>125</th>\n",
       "      <td>24153</td>\n",
       "    </tr>\n",
       "  </tbody>\n",
       "</table>\n",
       "</div>"
      ],
      "text/plain": [
       "        count\n",
       "freq         \n",
       "120         5\n",
       "121    135487\n",
       "123   1126076\n",
       "124     37890\n",
       "125     24153"
      ]
     },
     "execution_count": 20,
     "metadata": {},
     "output_type": "execute_result"
    }
   ],
   "source": [
    "DivFreq2"
   ]
  },
  {
   "cell_type": "code",
   "execution_count": 21,
   "metadata": {},
   "outputs": [],
   "source": [
    "DivFreq2['percent'] = DivFreq2['count']/DivFreq2['count'].sum()"
   ]
  },
  {
   "cell_type": "code",
   "execution_count": 22,
   "metadata": {
    "scrolled": true
   },
   "outputs": [
    {
     "data": {
      "text/html": [
       "<div>\n",
       "<style scoped>\n",
       "    .dataframe tbody tr th:only-of-type {\n",
       "        vertical-align: middle;\n",
       "    }\n",
       "\n",
       "    .dataframe tbody tr th {\n",
       "        vertical-align: top;\n",
       "    }\n",
       "\n",
       "    .dataframe thead th {\n",
       "        text-align: right;\n",
       "    }\n",
       "</style>\n",
       "<table border=\"1\" class=\"dataframe\">\n",
       "  <thead>\n",
       "    <tr style=\"text-align: right;\">\n",
       "      <th></th>\n",
       "      <th>count</th>\n",
       "      <th>percent</th>\n",
       "    </tr>\n",
       "    <tr>\n",
       "      <th>freq</th>\n",
       "      <th></th>\n",
       "      <th></th>\n",
       "    </tr>\n",
       "  </thead>\n",
       "  <tbody>\n",
       "    <tr>\n",
       "      <th>120</th>\n",
       "      <td>5</td>\n",
       "      <td>0.000004</td>\n",
       "    </tr>\n",
       "    <tr>\n",
       "      <th>121</th>\n",
       "      <td>135487</td>\n",
       "      <td>0.102362</td>\n",
       "    </tr>\n",
       "    <tr>\n",
       "      <th>123</th>\n",
       "      <td>1126076</td>\n",
       "      <td>0.850761</td>\n",
       "    </tr>\n",
       "    <tr>\n",
       "      <th>124</th>\n",
       "      <td>37890</td>\n",
       "      <td>0.028626</td>\n",
       "    </tr>\n",
       "    <tr>\n",
       "      <th>125</th>\n",
       "      <td>24153</td>\n",
       "      <td>0.018248</td>\n",
       "    </tr>\n",
       "  </tbody>\n",
       "</table>\n",
       "</div>"
      ],
      "text/plain": [
       "        count   percent\n",
       "freq                   \n",
       "120         5  0.000004\n",
       "121    135487  0.102362\n",
       "123   1126076  0.850761\n",
       "124     37890  0.028626\n",
       "125     24153  0.018248"
      ]
     },
     "execution_count": 22,
     "metadata": {},
     "output_type": "execute_result"
    }
   ],
   "source": [
    "DivFreq2 ## the second column of panel C"
   ]
  },
  {
   "cell_type": "code",
   "execution_count": 23,
   "metadata": {},
   "outputs": [],
   "source": [
    "divData['turnover'] = divData['vol']/divData['shrout']\n",
    "divData['spread_2'] = divData['ask'] -divData['bid']"
   ]
  },
  {
   "cell_type": "code",
   "execution_count": 24,
   "metadata": {},
   "outputs": [],
   "source": [
    "divData.sort_values(by = ['permno','date'],inplace = True)"
   ]
  },
  {
   "cell_type": "code",
   "execution_count": 25,
   "metadata": {},
   "outputs": [],
   "source": [
    "divData['ret'] = divData.ret.astype('float')"
   ]
  },
  {
   "cell_type": "code",
   "execution_count": 26,
   "metadata": {},
   "outputs": [],
   "source": [
    "table2_mean = {}\n",
    "table2_std = {}\n",
    "table2_all_div_prob = {}\n",
    "table2_quar_div_prob = {}"
   ]
  },
  {
   "cell_type": "code",
   "execution_count": 27,
   "metadata": {},
   "outputs": [],
   "source": [
    "div_lag_list = divData.columns[-12:].tolist()"
   ]
  },
  {
   "cell_type": "code",
   "execution_count": 28,
   "metadata": {},
   "outputs": [],
   "source": [
    "for i,div_lag in enumerate(div_lag_list):\n",
    "    table2_mean[str(i + 1)] = divData.dropna(subset = [div_lag] )['ret'].mean()*100\n",
    "    table2_std[str(i + 1)] = divData.dropna(subset = [div_lag] )['ret'].std()*100\n",
    "    table2_all_div_prob[str(i+1)] = len(divData.dropna(subset = [div_lag,'divamt']))/len(divData.dropna(subset = [div_lag]))\n",
    "    divData_quar = divData.query('freq == \"123\"')\n",
    "    table2_quar_div_prob[str(i + 1)] = len(divData_quar.dropna(subset = [div_lag,'divamt']))/len(divData_quar.dropna(subset = [div_lag]))"
   ]
  },
  {
   "cell_type": "code",
   "execution_count": 29,
   "metadata": {},
   "outputs": [],
   "source": [
    "table2_panelA = pd.DataFrame(pd.Series(table2_mean),columns = ['Mean return'])\n",
    "table2_panelA['Standard Deviation'] = table2_std.values()\n",
    "table2_panelA['All dividends'] = table2_all_div_prob.values()\n",
    "table2_panelA['quar dividends'] = table2_quar_div_prob.values()"
   ]
  },
  {
   "cell_type": "code",
   "execution_count": 30,
   "metadata": {
    "scrolled": true
   },
   "outputs": [
    {
     "data": {
      "text/html": [
       "<div>\n",
       "<style scoped>\n",
       "    .dataframe tbody tr th:only-of-type {\n",
       "        vertical-align: middle;\n",
       "    }\n",
       "\n",
       "    .dataframe tbody tr th {\n",
       "        vertical-align: top;\n",
       "    }\n",
       "\n",
       "    .dataframe thead th {\n",
       "        text-align: right;\n",
       "    }\n",
       "</style>\n",
       "<table border=\"1\" class=\"dataframe\">\n",
       "  <thead>\n",
       "    <tr style=\"text-align: right;\">\n",
       "      <th></th>\n",
       "      <th>Mean return</th>\n",
       "      <th>Standard Deviation</th>\n",
       "      <th>All dividends</th>\n",
       "      <th>quar dividends</th>\n",
       "    </tr>\n",
       "  </thead>\n",
       "  <tbody>\n",
       "    <tr>\n",
       "      <th>1</th>\n",
       "      <td>1.064098</td>\n",
       "      <td>9.701810</td>\n",
       "      <td>0.020439</td>\n",
       "      <td>0.018067</td>\n",
       "    </tr>\n",
       "    <tr>\n",
       "      <th>2</th>\n",
       "      <td>1.199184</td>\n",
       "      <td>9.814587</td>\n",
       "      <td>0.054591</td>\n",
       "      <td>0.054148</td>\n",
       "    </tr>\n",
       "    <tr>\n",
       "      <th>3</th>\n",
       "      <td>1.370024</td>\n",
       "      <td>9.585290</td>\n",
       "      <td>0.843451</td>\n",
       "      <td>0.868933</td>\n",
       "    </tr>\n",
       "    <tr>\n",
       "      <th>4</th>\n",
       "      <td>1.022117</td>\n",
       "      <td>9.697631</td>\n",
       "      <td>0.095163</td>\n",
       "      <td>0.092383</td>\n",
       "    </tr>\n",
       "    <tr>\n",
       "      <th>5</th>\n",
       "      <td>1.190069</td>\n",
       "      <td>9.842323</td>\n",
       "      <td>0.069989</td>\n",
       "      <td>0.067457</td>\n",
       "    </tr>\n",
       "    <tr>\n",
       "      <th>6</th>\n",
       "      <td>1.383106</td>\n",
       "      <td>9.633087</td>\n",
       "      <td>0.816145</td>\n",
       "      <td>0.831705</td>\n",
       "    </tr>\n",
       "    <tr>\n",
       "      <th>7</th>\n",
       "      <td>1.046374</td>\n",
       "      <td>9.739536</td>\n",
       "      <td>0.107245</td>\n",
       "      <td>0.101101</td>\n",
       "    </tr>\n",
       "    <tr>\n",
       "      <th>8</th>\n",
       "      <td>1.163598</td>\n",
       "      <td>9.867143</td>\n",
       "      <td>0.078547</td>\n",
       "      <td>0.076900</td>\n",
       "    </tr>\n",
       "    <tr>\n",
       "      <th>9</th>\n",
       "      <td>1.360605</td>\n",
       "      <td>9.622304</td>\n",
       "      <td>0.793025</td>\n",
       "      <td>0.820768</td>\n",
       "    </tr>\n",
       "    <tr>\n",
       "      <th>10</th>\n",
       "      <td>1.016591</td>\n",
       "      <td>9.776346</td>\n",
       "      <td>0.108431</td>\n",
       "      <td>0.103511</td>\n",
       "    </tr>\n",
       "    <tr>\n",
       "      <th>11</th>\n",
       "      <td>1.154546</td>\n",
       "      <td>9.900854</td>\n",
       "      <td>0.060120</td>\n",
       "      <td>0.056636</td>\n",
       "    </tr>\n",
       "    <tr>\n",
       "      <th>12</th>\n",
       "      <td>1.393417</td>\n",
       "      <td>9.664666</td>\n",
       "      <td>0.827147</td>\n",
       "      <td>0.840271</td>\n",
       "    </tr>\n",
       "  </tbody>\n",
       "</table>\n",
       "</div>"
      ],
      "text/plain": [
       "    Mean return  Standard Deviation  All dividends  quar dividends\n",
       "1      1.064098            9.701810       0.020439        0.018067\n",
       "2      1.199184            9.814587       0.054591        0.054148\n",
       "3      1.370024            9.585290       0.843451        0.868933\n",
       "4      1.022117            9.697631       0.095163        0.092383\n",
       "5      1.190069            9.842323       0.069989        0.067457\n",
       "6      1.383106            9.633087       0.816145        0.831705\n",
       "7      1.046374            9.739536       0.107245        0.101101\n",
       "8      1.163598            9.867143       0.078547        0.076900\n",
       "9      1.360605            9.622304       0.793025        0.820768\n",
       "10     1.016591            9.776346       0.108431        0.103511\n",
       "11     1.154546            9.900854       0.060120        0.056636\n",
       "12     1.393417            9.664666       0.827147        0.840271"
      ]
     },
     "execution_count": 30,
     "metadata": {},
     "output_type": "execute_result"
    }
   ],
   "source": [
    "table2_panelA ## "
   ]
  },
  {
   "cell_type": "code",
   "execution_count": null,
   "metadata": {},
   "outputs": [],
   "source": [
    "## 这个table 看上去还行，但是1，4，7，8的prob好像有点偏高。"
   ]
  },
  {
   "cell_type": "code",
   "execution_count": 31,
   "metadata": {},
   "outputs": [],
   "source": [
    "for col in ['bidlo','askhi']:\n",
    "    divData.pop(col)"
   ]
  },
  {
   "cell_type": "code",
   "execution_count": 32,
   "metadata": {},
   "outputs": [
    {
     "data": {
      "text/plain": [
       "Index(['permno', 'date', 'shrcd', 'hexcd', 'prc', 'vol', 'ret', 'bid', 'ask',\n",
       "       'shrout', 'spread', 'retx', 'month', 'year', 'distcd', 'divamt',\n",
       "       'dclrdt', 'exdt', 'paydt', 'mcap', 'freq', 'prc_lag', 'turnover',\n",
       "       'spread_2', 'div_lag1', 'div_lag2', 'div_lag3', 'div_lag4', 'div_lag5',\n",
       "       'div_lag6', 'div_lag7', 'div_lag8', 'div_lag9', 'div_lag10',\n",
       "       'div_lag11', 'div_lag12'],\n",
       "      dtype='object')"
      ]
     },
     "execution_count": 32,
     "metadata": {},
     "output_type": "execute_result"
    }
   ],
   "source": [
    "divData.columns"
   ]
  },
  {
   "cell_type": "code",
   "execution_count": 33,
   "metadata": {},
   "outputs": [
    {
     "data": {
      "text/html": [
       "<div>\n",
       "<style scoped>\n",
       "    .dataframe tbody tr th:only-of-type {\n",
       "        vertical-align: middle;\n",
       "    }\n",
       "\n",
       "    .dataframe tbody tr th {\n",
       "        vertical-align: top;\n",
       "    }\n",
       "\n",
       "    .dataframe thead th {\n",
       "        text-align: right;\n",
       "    }\n",
       "</style>\n",
       "<table border=\"1\" class=\"dataframe\">\n",
       "  <thead>\n",
       "    <tr style=\"text-align: right;\">\n",
       "      <th></th>\n",
       "      <th>date</th>\n",
       "      <th>permno</th>\n",
       "      <th>freq</th>\n",
       "      <th>divamt</th>\n",
       "      <th>div_lag1</th>\n",
       "      <th>div_lag2</th>\n",
       "      <th>div_lag3</th>\n",
       "      <th>div_lag4</th>\n",
       "    </tr>\n",
       "  </thead>\n",
       "  <tbody>\n",
       "    <tr>\n",
       "      <th>29</th>\n",
       "      <td>1986-10-31</td>\n",
       "      <td>10001</td>\n",
       "      <td>123</td>\n",
       "      <td>NaN</td>\n",
       "      <td>0.105</td>\n",
       "      <td>NaN</td>\n",
       "      <td>NaN</td>\n",
       "      <td>0.105</td>\n",
       "    </tr>\n",
       "    <tr>\n",
       "      <th>30</th>\n",
       "      <td>1986-11-30</td>\n",
       "      <td>10001</td>\n",
       "      <td>123</td>\n",
       "      <td>NaN</td>\n",
       "      <td>NaN</td>\n",
       "      <td>0.105</td>\n",
       "      <td>NaN</td>\n",
       "      <td>NaN</td>\n",
       "    </tr>\n",
       "    <tr>\n",
       "      <th>31</th>\n",
       "      <td>1986-12-31</td>\n",
       "      <td>10001</td>\n",
       "      <td>123</td>\n",
       "      <td>0.105</td>\n",
       "      <td>NaN</td>\n",
       "      <td>NaN</td>\n",
       "      <td>0.105</td>\n",
       "      <td>NaN</td>\n",
       "    </tr>\n",
       "    <tr>\n",
       "      <th>32</th>\n",
       "      <td>1987-01-31</td>\n",
       "      <td>10001</td>\n",
       "      <td>123</td>\n",
       "      <td>NaN</td>\n",
       "      <td>0.105</td>\n",
       "      <td>NaN</td>\n",
       "      <td>NaN</td>\n",
       "      <td>0.105</td>\n",
       "    </tr>\n",
       "    <tr>\n",
       "      <th>33</th>\n",
       "      <td>1987-02-28</td>\n",
       "      <td>10001</td>\n",
       "      <td>123</td>\n",
       "      <td>NaN</td>\n",
       "      <td>NaN</td>\n",
       "      <td>0.105</td>\n",
       "      <td>NaN</td>\n",
       "      <td>NaN</td>\n",
       "    </tr>\n",
       "  </tbody>\n",
       "</table>\n",
       "</div>"
      ],
      "text/plain": [
       "         date  permno freq  divamt  div_lag1  div_lag2  div_lag3  div_lag4\n",
       "29 1986-10-31   10001  123     NaN     0.105       NaN       NaN     0.105\n",
       "30 1986-11-30   10001  123     NaN       NaN     0.105       NaN       NaN\n",
       "31 1986-12-31   10001  123   0.105       NaN       NaN     0.105       NaN\n",
       "32 1987-01-31   10001  123     NaN     0.105       NaN       NaN     0.105\n",
       "33 1987-02-28   10001  123     NaN       NaN     0.105       NaN       NaN"
      ]
     },
     "execution_count": 33,
     "metadata": {},
     "output_type": "execute_result"
    }
   ],
   "source": [
    "divData[['date','permno','freq','divamt','div_lag1','div_lag2','div_lag3','div_lag4']] >> head()"
   ]
  },
  {
   "cell_type": "code",
   "execution_count": 34,
   "metadata": {},
   "outputs": [],
   "source": [
    "divData_pred = divData.query('(freq == \"123\" & div_lag3 == div_lag3)|'\n",
    "                             '(freq == \"124\" & div_lag6 == div_lag6)|'\n",
    "                             '(freq == \"125\" & div_lag12 == div_lag12)')"
   ]
  },
  {
   "cell_type": "code",
   "execution_count": 35,
   "metadata": {},
   "outputs": [],
   "source": [
    "probs = [0.01,0.05,0.25,0.5,0.75,0.95,0.99]"
   ]
  },
  {
   "cell_type": "code",
   "execution_count": 36,
   "metadata": {
    "scrolled": true
   },
   "outputs": [],
   "source": [
    "def table2PanelBpart(df):\n",
    "    table2PanelBpart = pd.DataFrame(np.array([df.ret.quantile(prob) for prob in probs]).reshape(1,7),columns = probs)\n",
    "    table2PanelBpart.insert(loc = 0,column = 'MeanReturn',value = df['ret'].mean())\n",
    "    table2PanelBpart.insert(loc = 1,column = 'StandardDeviation',value = df['ret'].std())\n",
    "    table2PanelBpart >> mutate(sharp_ratio = X.MeanReturn/X.StandardDeviation)\n",
    "    return table2PanelBpart"
   ]
  },
  {
   "cell_type": "code",
   "execution_count": 37,
   "metadata": {},
   "outputs": [],
   "source": [
    "div_No_pred_list = set(divData.index.tolist())-set(divData_pred.index.tolist())\n",
    "divData_notPred = divData.loc[div_No_pred_list,]"
   ]
  },
  {
   "cell_type": "code",
   "execution_count": 38,
   "metadata": {},
   "outputs": [],
   "source": [
    "table2PanelB = pd.concat([table2PanelBpart(df) for df in [divData_pred,divData_notPred,NoDivData]])"
   ]
  },
  {
   "cell_type": "code",
   "execution_count": 39,
   "metadata": {
    "scrolled": true
   },
   "outputs": [
    {
     "data": {
      "text/html": [
       "<div>\n",
       "<style scoped>\n",
       "    .dataframe tbody tr th:only-of-type {\n",
       "        vertical-align: middle;\n",
       "    }\n",
       "\n",
       "    .dataframe tbody tr th {\n",
       "        vertical-align: top;\n",
       "    }\n",
       "\n",
       "    .dataframe thead th {\n",
       "        text-align: right;\n",
       "    }\n",
       "</style>\n",
       "<table border=\"1\" class=\"dataframe\">\n",
       "  <thead>\n",
       "    <tr style=\"text-align: right;\">\n",
       "      <th></th>\n",
       "      <th>MeanReturn</th>\n",
       "      <th>StandardDeviation</th>\n",
       "      <th>0.01</th>\n",
       "      <th>0.05</th>\n",
       "      <th>0.25</th>\n",
       "      <th>0.5</th>\n",
       "      <th>0.75</th>\n",
       "      <th>0.95</th>\n",
       "      <th>0.99</th>\n",
       "    </tr>\n",
       "  </thead>\n",
       "  <tbody>\n",
       "    <tr>\n",
       "      <th>0</th>\n",
       "      <td>0.013994</td>\n",
       "      <td>0.096203</td>\n",
       "      <td>-0.226792</td>\n",
       "      <td>-0.127829</td>\n",
       "      <td>-0.037575</td>\n",
       "      <td>0.009524</td>\n",
       "      <td>0.060800</td>\n",
       "      <td>0.168602</td>\n",
       "      <td>0.294905</td>\n",
       "    </tr>\n",
       "    <tr>\n",
       "      <th>0</th>\n",
       "      <td>0.011186</td>\n",
       "      <td>0.108734</td>\n",
       "      <td>-0.261213</td>\n",
       "      <td>-0.147006</td>\n",
       "      <td>-0.045776</td>\n",
       "      <td>0.005464</td>\n",
       "      <td>0.061856</td>\n",
       "      <td>0.185714</td>\n",
       "      <td>0.335892</td>\n",
       "    </tr>\n",
       "    <tr>\n",
       "      <th>0</th>\n",
       "      <td>0.007335</td>\n",
       "      <td>0.169407</td>\n",
       "      <td>-0.404349</td>\n",
       "      <td>-0.239316</td>\n",
       "      <td>-0.080808</td>\n",
       "      <td>0.000000</td>\n",
       "      <td>0.084507</td>\n",
       "      <td>0.274390</td>\n",
       "      <td>0.509434</td>\n",
       "    </tr>\n",
       "  </tbody>\n",
       "</table>\n",
       "</div>"
      ],
      "text/plain": [
       "   MeanReturn  StandardDeviation      0.01      0.05      0.25       0.5  \\\n",
       "0    0.013994           0.096203 -0.226792 -0.127829 -0.037575  0.009524   \n",
       "0    0.011186           0.108734 -0.261213 -0.147006 -0.045776  0.005464   \n",
       "0    0.007335           0.169407 -0.404349 -0.239316 -0.080808  0.000000   \n",
       "\n",
       "       0.75      0.95      0.99  \n",
       "0  0.060800  0.168602  0.294905  \n",
       "0  0.061856  0.185714  0.335892  \n",
       "0  0.084507  0.274390  0.509434  "
      ]
     },
     "execution_count": 39,
     "metadata": {},
     "output_type": "execute_result"
    }
   ],
   "source": [
    "table2PanelB"
   ]
  },
  {
   "cell_type": "markdown",
   "metadata": {},
   "source": [
    "### <font face = 'Times New Roman'>table 1 merge with gvkey"
   ]
  },
  {
   "cell_type": "code",
   "execution_count": 40,
   "metadata": {},
   "outputs": [],
   "source": [
    "import feather"
   ]
  },
  {
   "cell_type": "code",
   "execution_count": 41,
   "metadata": {},
   "outputs": [],
   "source": [
    "linkTable = feather.read_dataframe('link_ccmxpf_linktable.feather')"
   ]
  },
  {
   "cell_type": "code",
   "execution_count": 42,
   "metadata": {},
   "outputs": [
    {
     "data": {
      "text/html": [
       "<div>\n",
       "<style scoped>\n",
       "    .dataframe tbody tr th:only-of-type {\n",
       "        vertical-align: middle;\n",
       "    }\n",
       "\n",
       "    .dataframe tbody tr th {\n",
       "        vertical-align: top;\n",
       "    }\n",
       "\n",
       "    .dataframe thead th {\n",
       "        text-align: right;\n",
       "    }\n",
       "</style>\n",
       "<table border=\"1\" class=\"dataframe\">\n",
       "  <thead>\n",
       "    <tr style=\"text-align: right;\">\n",
       "      <th></th>\n",
       "      <th>gvkey</th>\n",
       "      <th>linkprim</th>\n",
       "      <th>liid</th>\n",
       "      <th>linktype</th>\n",
       "      <th>lpermno</th>\n",
       "      <th>lpermco</th>\n",
       "      <th>USEDFLAG</th>\n",
       "      <th>linkdt</th>\n",
       "      <th>linkenddt</th>\n",
       "    </tr>\n",
       "  </thead>\n",
       "  <tbody>\n",
       "    <tr>\n",
       "      <th>0</th>\n",
       "      <td>001000</td>\n",
       "      <td>C</td>\n",
       "      <td>00X</td>\n",
       "      <td>NU</td>\n",
       "      <td>NaN</td>\n",
       "      <td>NaN</td>\n",
       "      <td>-1</td>\n",
       "      <td>1961-01-01</td>\n",
       "      <td>1970-09-29</td>\n",
       "    </tr>\n",
       "    <tr>\n",
       "      <th>1</th>\n",
       "      <td>001000</td>\n",
       "      <td>P</td>\n",
       "      <td>01</td>\n",
       "      <td>NU</td>\n",
       "      <td>NaN</td>\n",
       "      <td>NaN</td>\n",
       "      <td>-1</td>\n",
       "      <td>1970-09-30</td>\n",
       "      <td>1970-11-12</td>\n",
       "    </tr>\n",
       "    <tr>\n",
       "      <th>2</th>\n",
       "      <td>001000</td>\n",
       "      <td>P</td>\n",
       "      <td>01</td>\n",
       "      <td>LU</td>\n",
       "      <td>25881.0</td>\n",
       "      <td>23369.0</td>\n",
       "      <td>1</td>\n",
       "      <td>1970-11-13</td>\n",
       "      <td>1978-06-30</td>\n",
       "    </tr>\n",
       "    <tr>\n",
       "      <th>3</th>\n",
       "      <td>001001</td>\n",
       "      <td>C</td>\n",
       "      <td>00X</td>\n",
       "      <td>NU</td>\n",
       "      <td>NaN</td>\n",
       "      <td>NaN</td>\n",
       "      <td>-1</td>\n",
       "      <td>1978-01-01</td>\n",
       "      <td>1983-09-19</td>\n",
       "    </tr>\n",
       "    <tr>\n",
       "      <th>4</th>\n",
       "      <td>001001</td>\n",
       "      <td>P</td>\n",
       "      <td>01</td>\n",
       "      <td>LU</td>\n",
       "      <td>10015.0</td>\n",
       "      <td>6398.0</td>\n",
       "      <td>1</td>\n",
       "      <td>1983-09-20</td>\n",
       "      <td>1986-07-31</td>\n",
       "    </tr>\n",
       "  </tbody>\n",
       "</table>\n",
       "</div>"
      ],
      "text/plain": [
       "    gvkey linkprim liid linktype  lpermno  lpermco  USEDFLAG      linkdt  \\\n",
       "0  001000        C  00X       NU      NaN      NaN        -1  1961-01-01   \n",
       "1  001000        P   01       NU      NaN      NaN        -1  1970-09-30   \n",
       "2  001000        P   01       LU  25881.0  23369.0         1  1970-11-13   \n",
       "3  001001        C  00X       NU      NaN      NaN        -1  1978-01-01   \n",
       "4  001001        P   01       LU  10015.0   6398.0         1  1983-09-20   \n",
       "\n",
       "    linkenddt  \n",
       "0  1970-09-29  \n",
       "1  1970-11-12  \n",
       "2  1978-06-30  \n",
       "3  1983-09-19  \n",
       "4  1986-07-31  "
      ]
     },
     "execution_count": 42,
     "metadata": {},
     "output_type": "execute_result"
    }
   ],
   "source": [
    "linkTable.head()"
   ]
  },
  {
   "cell_type": "code",
   "execution_count": 44,
   "metadata": {},
   "outputs": [],
   "source": [
    " atq= pd.read_csv('atq.csv')"
   ]
  },
  {
   "cell_type": "code",
   "execution_count": 45,
   "metadata": {},
   "outputs": [],
   "source": [
    "atq.rename(columns = {'GVKEY':'gvkey'},inplace = True)"
   ]
  },
  {
   "cell_type": "code",
   "execution_count": 46,
   "metadata": {},
   "outputs": [],
   "source": [
    "linkTable['gvkey'] = linkTable.gvkey.astype('int')"
   ]
  },
  {
   "cell_type": "code",
   "execution_count": 47,
   "metadata": {},
   "outputs": [],
   "source": [
    "linkTable.dropna(subset = ['lpermno'],inplace = True)"
   ]
  },
  {
   "cell_type": "code",
   "execution_count": 49,
   "metadata": {},
   "outputs": [],
   "source": [
    "atq['gvkey'] = atq.gvkey.astype('str')"
   ]
  },
  {
   "cell_type": "code",
   "execution_count": 50,
   "metadata": {},
   "outputs": [],
   "source": [
    "linkTable['gvkey'] = linkTable.gvkey.astype('str')"
   ]
  },
  {
   "cell_type": "code",
   "execution_count": 51,
   "metadata": {},
   "outputs": [],
   "source": [
    "linkTable['gvkey'] = linkTable.gvkey.astype('str')"
   ]
  },
  {
   "cell_type": "code",
   "execution_count": 52,
   "metadata": {},
   "outputs": [
    {
     "data": {
      "text/plain": [
       "gvkey        object\n",
       "datadate      int64\n",
       "fyearq        int64\n",
       "fqtr          int64\n",
       "indfmt       object\n",
       "consol       object\n",
       "popsrc       object\n",
       "datafmt      object\n",
       "conm         object\n",
       "curcdq       object\n",
       "datacqtr     object\n",
       "datafqtr     object\n",
       "atq         float64\n",
       "saleq       float64\n",
       "costat       object\n",
       "dtype: object"
      ]
     },
     "execution_count": 52,
     "metadata": {},
     "output_type": "execute_result"
    }
   ],
   "source": [
    "atq.dtypes"
   ]
  },
  {
   "cell_type": "code",
   "execution_count": 53,
   "metadata": {},
   "outputs": [
    {
     "data": {
      "text/html": [
       "<div>\n",
       "<style scoped>\n",
       "    .dataframe tbody tr th:only-of-type {\n",
       "        vertical-align: middle;\n",
       "    }\n",
       "\n",
       "    .dataframe tbody tr th {\n",
       "        vertical-align: top;\n",
       "    }\n",
       "\n",
       "    .dataframe thead th {\n",
       "        text-align: right;\n",
       "    }\n",
       "</style>\n",
       "<table border=\"1\" class=\"dataframe\">\n",
       "  <thead>\n",
       "    <tr style=\"text-align: right;\">\n",
       "      <th></th>\n",
       "      <th>gvkey</th>\n",
       "      <th>linkprim</th>\n",
       "      <th>liid</th>\n",
       "      <th>linktype</th>\n",
       "      <th>lpermno</th>\n",
       "      <th>lpermco</th>\n",
       "      <th>USEDFLAG</th>\n",
       "      <th>linkdt</th>\n",
       "      <th>linkenddt</th>\n",
       "    </tr>\n",
       "  </thead>\n",
       "  <tbody>\n",
       "    <tr>\n",
       "      <th>2</th>\n",
       "      <td>1000</td>\n",
       "      <td>P</td>\n",
       "      <td>01</td>\n",
       "      <td>LU</td>\n",
       "      <td>25881.0</td>\n",
       "      <td>23369.0</td>\n",
       "      <td>1</td>\n",
       "      <td>1970-11-13</td>\n",
       "      <td>1978-06-30</td>\n",
       "    </tr>\n",
       "    <tr>\n",
       "      <th>4</th>\n",
       "      <td>1001</td>\n",
       "      <td>P</td>\n",
       "      <td>01</td>\n",
       "      <td>LU</td>\n",
       "      <td>10015.0</td>\n",
       "      <td>6398.0</td>\n",
       "      <td>1</td>\n",
       "      <td>1983-09-20</td>\n",
       "      <td>1986-07-31</td>\n",
       "    </tr>\n",
       "    <tr>\n",
       "      <th>8</th>\n",
       "      <td>1002</td>\n",
       "      <td>C</td>\n",
       "      <td>01</td>\n",
       "      <td>LC</td>\n",
       "      <td>10023.0</td>\n",
       "      <td>22159.0</td>\n",
       "      <td>1</td>\n",
       "      <td>1972-12-14</td>\n",
       "      <td>1973-06-05</td>\n",
       "    </tr>\n",
       "    <tr>\n",
       "      <th>11</th>\n",
       "      <td>1003</td>\n",
       "      <td>C</td>\n",
       "      <td>01</td>\n",
       "      <td>LU</td>\n",
       "      <td>10031.0</td>\n",
       "      <td>6672.0</td>\n",
       "      <td>1</td>\n",
       "      <td>1983-12-07</td>\n",
       "      <td>1989-08-16</td>\n",
       "    </tr>\n",
       "    <tr>\n",
       "      <th>14</th>\n",
       "      <td>1004</td>\n",
       "      <td>P</td>\n",
       "      <td>01</td>\n",
       "      <td>LU</td>\n",
       "      <td>54594.0</td>\n",
       "      <td>20000.0</td>\n",
       "      <td>1</td>\n",
       "      <td>1972-04-24</td>\n",
       "      <td>9999-01-01</td>\n",
       "    </tr>\n",
       "  </tbody>\n",
       "</table>\n",
       "</div>"
      ],
      "text/plain": [
       "   gvkey linkprim liid linktype  lpermno  lpermco  USEDFLAG      linkdt  \\\n",
       "2   1000        P   01       LU  25881.0  23369.0         1  1970-11-13   \n",
       "4   1001        P   01       LU  10015.0   6398.0         1  1983-09-20   \n",
       "8   1002        C   01       LC  10023.0  22159.0         1  1972-12-14   \n",
       "11  1003        C   01       LU  10031.0   6672.0         1  1983-12-07   \n",
       "14  1004        P   01       LU  54594.0  20000.0         1  1972-04-24   \n",
       "\n",
       "     linkenddt  \n",
       "2   1978-06-30  \n",
       "4   1986-07-31  \n",
       "8   1973-06-05  \n",
       "11  1989-08-16  \n",
       "14  9999-01-01  "
      ]
     },
     "execution_count": 53,
     "metadata": {},
     "output_type": "execute_result"
    }
   ],
   "source": [
    "linkTable.head()"
   ]
  },
  {
   "cell_type": "code",
   "execution_count": 54,
   "metadata": {},
   "outputs": [],
   "source": [
    "atq_permno = pd.merge(atq[['gvkey','datadate','atq']],linkTable[['gvkey','lpermno']],on = 'gvkey',how = 'left')"
   ]
  },
  {
   "cell_type": "code",
   "execution_count": null,
   "metadata": {},
   "outputs": [],
   "source": [
    "fundamental_permno.sort_values(['gvkey','datadate']).tail()"
   ]
  },
  {
   "cell_type": "code",
   "execution_count": null,
   "metadata": {},
   "outputs": [],
   "source": []
  },
  {
   "cell_type": "code",
   "execution_count": null,
   "metadata": {},
   "outputs": [],
   "source": [
    "fundamental_permno.dropna(subset = ['lpermno'],inplace = True)"
   ]
  },
  {
   "cell_type": "code",
   "execution_count": null,
   "metadata": {},
   "outputs": [],
   "source": [
    "fundamental_permno.dropna(subset = ['atq'],inplace = True)"
   ]
  },
  {
   "cell_type": "code",
   "execution_count": null,
   "metadata": {},
   "outputs": [],
   "source": [
    "fundamental_permno.dtypes"
   ]
  },
  {
   "cell_type": "code",
   "execution_count": null,
   "metadata": {},
   "outputs": [],
   "source": [
    "fundamental_permno['lpermno'] = fundamental_permno.lpermno.astype('int')"
   ]
  },
  {
   "cell_type": "code",
   "execution_count": null,
   "metadata": {},
   "outputs": [],
   "source": [
    "fundamental_permno.rename(columns = {'lpermno':'permno'},inplace = True)"
   ]
  },
  {
   "cell_type": "code",
   "execution_count": null,
   "metadata": {},
   "outputs": [],
   "source": [
    "fundamental.columns"
   ]
  },
  {
   "cell_type": "code",
   "execution_count": null,
   "metadata": {},
   "outputs": [],
   "source": [
    "linkTable.query('gvkey == \"12994\"')"
   ]
  },
  {
   "cell_type": "code",
   "execution_count": null,
   "metadata": {},
   "outputs": [],
   "source": [
    "fundamental.query('gvkey == \"12994\"').head()"
   ]
  },
  {
   "cell_type": "code",
   "execution_count": null,
   "metadata": {},
   "outputs": [],
   "source": [
    "fundamental_permno.query('permno == \"10001\"').head()"
   ]
  },
  {
   "cell_type": "code",
   "execution_count": null,
   "metadata": {},
   "outputs": [],
   "source": [
    "divData['permno'] = divData.permno.astype('str')\n",
    "fundamental_permno['permno'] = fundamental_permno.astype('str')"
   ]
  },
  {
   "cell_type": "code",
   "execution_count": null,
   "metadata": {},
   "outputs": [],
   "source": [
    "fundamental_permno['datadate'] = pd.to_datetime(fundamental_permno['datadate'],format = \"%Y%m%d\")"
   ]
  },
  {
   "cell_type": "code",
   "execution_count": null,
   "metadata": {},
   "outputs": [],
   "source": [
    "fundamental_permno.rename(columns = {'datadate':'date'},inplace = True)"
   ]
  },
  {
   "cell_type": "code",
   "execution_count": null,
   "metadata": {},
   "outputs": [],
   "source": [
    "fundamental_permno.query('permno == \"10001\"')"
   ]
  },
  {
   "cell_type": "code",
   "execution_count": null,
   "metadata": {
    "scrolled": false
   },
   "outputs": [],
   "source": [
    "divDataAtq= pd.merge(divData,fundamental_permno[['permno','date','atq']],on = ['permno','date'],how = 'left')"
   ]
  },
  {
   "cell_type": "code",
   "execution_count": null,
   "metadata": {},
   "outputs": [],
   "source": [
    "divDataAtq.query('permno == \"10001\"')"
   ]
  },
  {
   "cell_type": "code",
   "execution_count": null,
   "metadata": {},
   "outputs": [],
   "source": [
    "divDataAtq[['permno','date','mcap','atq']]"
   ]
  },
  {
   "cell_type": "code",
   "execution_count": null,
   "metadata": {},
   "outputs": [],
   "source": [
    "divDataBM = divDataAtq.dropna(subset = ['mcap','atq'])>>mutate(BM = (X.atq)/X.mcap)"
   ]
  },
  {
   "cell_type": "code",
   "execution_count": null,
   "metadata": {},
   "outputs": [],
   "source": [
    "divDataBM[['BM']].describe().T"
   ]
  },
  {
   "cell_type": "code",
   "execution_count": null,
   "metadata": {},
   "outputs": [],
   "source": [
    "fundamental.head()"
   ]
  },
  {
   "cell_type": "code",
   "execution_count": null,
   "metadata": {},
   "outputs": [],
   "source": [
    "divDataBM.BM"
   ]
  },
  {
   "cell_type": "code",
   "execution_count": null,
   "metadata": {},
   "outputs": [],
   "source": [
    "fundamental_permno.query('gvkey == 1000')"
   ]
  },
  {
   "cell_type": "code",
   "execution_count": null,
   "metadata": {},
   "outputs": [],
   "source": [
    "1359690/4"
   ]
  },
  {
   "cell_type": "code",
   "execution_count": null,
   "metadata": {},
   "outputs": [],
   "source": []
  }
 ],
 "metadata": {
  "kernelspec": {
   "display_name": "Python 3",
   "language": "python",
   "name": "python3"
  },
  "language_info": {
   "codemirror_mode": {
    "name": "ipython",
    "version": 3
   },
   "file_extension": ".py",
   "mimetype": "text/x-python",
   "name": "python",
   "nbconvert_exporter": "python",
   "pygments_lexer": "ipython3",
   "version": "3.7.1"
  }
 },
 "nbformat": 4,
 "nbformat_minor": 2
}
